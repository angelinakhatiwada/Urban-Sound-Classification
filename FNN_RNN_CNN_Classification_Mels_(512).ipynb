{
  "nbformat": 4,
  "nbformat_minor": 0,
  "metadata": {
    "colab": {
      "name": "FNN_RNN_CNN_Classification_Mels (512)",
      "provenance": [],
      "collapsed_sections": [],
      "mount_file_id": "1M_7B0mDdvpgQud-mFDkjv1n2uzi5xODi",
      "authorship_tag": "ABX9TyMkOOsvIbIf6GZftMKDcaQT",
      "include_colab_link": true
    },
    "kernelspec": {
      "name": "python3",
      "display_name": "Python 3"
    },
    "language_info": {
      "name": "python"
    }
  },
  "cells": [
    {
      "cell_type": "markdown",
      "metadata": {
        "id": "view-in-github",
        "colab_type": "text"
      },
      "source": [
        "<a href=\"https://colab.research.google.com/github/angelinakhatiwada/Urban-Sound-Classification/blob/main/FNN_RNN_CNN_Classification_Mels_(512).ipynb\" target=\"_parent\"><img src=\"https://colab.research.google.com/assets/colab-badge.svg\" alt=\"Open In Colab\"/></a>"
      ]
    },
    {
      "cell_type": "markdown",
      "source": [
        "# Urban Sound Classification\n",
        "\n",
        "## Classification\n",
        "\n",
        "### Mels features 128 x 4\n",
        "\n"
      ],
      "metadata": {
        "id": "AP-HgoxBpsmf"
      }
    },
    {
      "cell_type": "code",
      "source": [
        "import pandas as pd\n",
        "import numpy as np\n",
        "\n",
        "import matplotlib.pyplot as plt\n",
        "import seaborn as sns\n",
        "sns.set(font_scale=1)\n",
        "\n",
        "import os\n",
        "\n",
        "import pickle"
      ],
      "metadata": {
        "id": "5JwNMRwvprqG"
      },
      "execution_count": 65,
      "outputs": []
    },
    {
      "cell_type": "code",
      "source": [
        "# Libraries for Classification and building Models\n",
        "\n",
        "from tensorflow.keras.models import Sequential\n",
        "from tensorflow.keras.layers import Activation, Conv2D, Flatten, Dense, MaxPool2D, Dropout, LSTM\n",
        "from tensorflow.keras.utils import to_categorical "
      ],
      "metadata": {
        "id": "CWL6eZ8_pphx"
      },
      "execution_count": 66,
      "outputs": []
    },
    {
      "cell_type": "markdown",
      "source": [
        "### Data import from pickle"
      ],
      "metadata": {
        "id": "WgV2ITtk6bnP"
      }
    },
    {
      "cell_type": "code",
      "source": [
        "with open('features_mels_512.p', 'rb') as f:\n",
        "    data = pickle.load(f)"
      ],
      "metadata": {
        "id": "Snpzh0wGbXS5"
      },
      "execution_count": 68,
      "outputs": []
    },
    {
      "cell_type": "code",
      "source": [
        "data.head()"
      ],
      "metadata": {
        "colab": {
          "base_uri": "https://localhost:8080/",
          "height": 206
        },
        "id": "5bsyYxkokeEX",
        "outputId": "f929c45c-b3b7-4e5c-8f0f-751893aa004f"
      },
      "execution_count": 69,
      "outputs": [
        {
          "output_type": "execute_result",
          "data": {
            "text/html": [
              "\n",
              "  <div id=\"df-becfe008-848a-4a3d-b152-c4347fbd5632\">\n",
              "    <div class=\"colab-df-container\">\n",
              "      <div>\n",
              "<style scoped>\n",
              "    .dataframe tbody tr th:only-of-type {\n",
              "        vertical-align: middle;\n",
              "    }\n",
              "\n",
              "    .dataframe tbody tr th {\n",
              "        vertical-align: top;\n",
              "    }\n",
              "\n",
              "    .dataframe thead th {\n",
              "        text-align: right;\n",
              "    }\n",
              "</style>\n",
              "<table border=\"1\" class=\"dataframe\">\n",
              "  <thead>\n",
              "    <tr style=\"text-align: right;\">\n",
              "      <th></th>\n",
              "      <th>features</th>\n",
              "      <th>shape</th>\n",
              "      <th>label</th>\n",
              "      <th>fold</th>\n",
              "      <th>file_name</th>\n",
              "    </tr>\n",
              "  </thead>\n",
              "  <tbody>\n",
              "    <tr>\n",
              "      <th>0</th>\n",
              "      <td>[6.7016525e-05, 0.0002738931, 0.00043046506, 0...</td>\n",
              "      <td>(512,)</td>\n",
              "      <td>3</td>\n",
              "      <td>5</td>\n",
              "      <td>100032-3-0-0.wav</td>\n",
              "    </tr>\n",
              "    <tr>\n",
              "      <th>1</th>\n",
              "      <td>[0.046293005, 0.046115912, 0.031325452, 0.0162...</td>\n",
              "      <td>(512,)</td>\n",
              "      <td>2</td>\n",
              "      <td>5</td>\n",
              "      <td>100263-2-0-117.wav</td>\n",
              "    </tr>\n",
              "    <tr>\n",
              "      <th>2</th>\n",
              "      <td>[0.028046967, 0.03285183, 0.030295085, 0.01307...</td>\n",
              "      <td>(512,)</td>\n",
              "      <td>2</td>\n",
              "      <td>5</td>\n",
              "      <td>100263-2-0-121.wav</td>\n",
              "    </tr>\n",
              "    <tr>\n",
              "      <th>3</th>\n",
              "      <td>[0.025350068, 0.04161336, 0.037191, 0.04856568...</td>\n",
              "      <td>(512,)</td>\n",
              "      <td>2</td>\n",
              "      <td>5</td>\n",
              "      <td>100263-2-0-126.wav</td>\n",
              "    </tr>\n",
              "    <tr>\n",
              "      <th>4</th>\n",
              "      <td>[0.05126126, 0.035394225, 0.01814437, 0.013484...</td>\n",
              "      <td>(512,)</td>\n",
              "      <td>2</td>\n",
              "      <td>5</td>\n",
              "      <td>100263-2-0-137.wav</td>\n",
              "    </tr>\n",
              "  </tbody>\n",
              "</table>\n",
              "</div>\n",
              "      <button class=\"colab-df-convert\" onclick=\"convertToInteractive('df-becfe008-848a-4a3d-b152-c4347fbd5632')\"\n",
              "              title=\"Convert this dataframe to an interactive table.\"\n",
              "              style=\"display:none;\">\n",
              "        \n",
              "  <svg xmlns=\"http://www.w3.org/2000/svg\" height=\"24px\"viewBox=\"0 0 24 24\"\n",
              "       width=\"24px\">\n",
              "    <path d=\"M0 0h24v24H0V0z\" fill=\"none\"/>\n",
              "    <path d=\"M18.56 5.44l.94 2.06.94-2.06 2.06-.94-2.06-.94-.94-2.06-.94 2.06-2.06.94zm-11 1L8.5 8.5l.94-2.06 2.06-.94-2.06-.94L8.5 2.5l-.94 2.06-2.06.94zm10 10l.94 2.06.94-2.06 2.06-.94-2.06-.94-.94-2.06-.94 2.06-2.06.94z\"/><path d=\"M17.41 7.96l-1.37-1.37c-.4-.4-.92-.59-1.43-.59-.52 0-1.04.2-1.43.59L10.3 9.45l-7.72 7.72c-.78.78-.78 2.05 0 2.83L4 21.41c.39.39.9.59 1.41.59.51 0 1.02-.2 1.41-.59l7.78-7.78 2.81-2.81c.8-.78.8-2.07 0-2.86zM5.41 20L4 18.59l7.72-7.72 1.47 1.35L5.41 20z\"/>\n",
              "  </svg>\n",
              "      </button>\n",
              "      \n",
              "  <style>\n",
              "    .colab-df-container {\n",
              "      display:flex;\n",
              "      flex-wrap:wrap;\n",
              "      gap: 12px;\n",
              "    }\n",
              "\n",
              "    .colab-df-convert {\n",
              "      background-color: #E8F0FE;\n",
              "      border: none;\n",
              "      border-radius: 50%;\n",
              "      cursor: pointer;\n",
              "      display: none;\n",
              "      fill: #1967D2;\n",
              "      height: 32px;\n",
              "      padding: 0 0 0 0;\n",
              "      width: 32px;\n",
              "    }\n",
              "\n",
              "    .colab-df-convert:hover {\n",
              "      background-color: #E2EBFA;\n",
              "      box-shadow: 0px 1px 2px rgba(60, 64, 67, 0.3), 0px 1px 3px 1px rgba(60, 64, 67, 0.15);\n",
              "      fill: #174EA6;\n",
              "    }\n",
              "\n",
              "    [theme=dark] .colab-df-convert {\n",
              "      background-color: #3B4455;\n",
              "      fill: #D2E3FC;\n",
              "    }\n",
              "\n",
              "    [theme=dark] .colab-df-convert:hover {\n",
              "      background-color: #434B5C;\n",
              "      box-shadow: 0px 1px 3px 1px rgba(0, 0, 0, 0.15);\n",
              "      filter: drop-shadow(0px 1px 2px rgba(0, 0, 0, 0.3));\n",
              "      fill: #FFFFFF;\n",
              "    }\n",
              "  </style>\n",
              "\n",
              "      <script>\n",
              "        const buttonEl =\n",
              "          document.querySelector('#df-becfe008-848a-4a3d-b152-c4347fbd5632 button.colab-df-convert');\n",
              "        buttonEl.style.display =\n",
              "          google.colab.kernel.accessAllowed ? 'block' : 'none';\n",
              "\n",
              "        async function convertToInteractive(key) {\n",
              "          const element = document.querySelector('#df-becfe008-848a-4a3d-b152-c4347fbd5632');\n",
              "          const dataTable =\n",
              "            await google.colab.kernel.invokeFunction('convertToInteractive',\n",
              "                                                     [key], {});\n",
              "          if (!dataTable) return;\n",
              "\n",
              "          const docLinkHtml = 'Like what you see? Visit the ' +\n",
              "            '<a target=\"_blank\" href=https://colab.research.google.com/notebooks/data_table.ipynb>data table notebook</a>'\n",
              "            + ' to learn more about interactive tables.';\n",
              "          element.innerHTML = '';\n",
              "          dataTable['output_type'] = 'display_data';\n",
              "          await google.colab.output.renderOutput(dataTable, element);\n",
              "          const docLink = document.createElement('div');\n",
              "          docLink.innerHTML = docLinkHtml;\n",
              "          element.appendChild(docLink);\n",
              "        }\n",
              "      </script>\n",
              "    </div>\n",
              "  </div>\n",
              "  "
            ],
            "text/plain": [
              "                                            features  ...           file_name\n",
              "0  [6.7016525e-05, 0.0002738931, 0.00043046506, 0...  ...    100032-3-0-0.wav\n",
              "1  [0.046293005, 0.046115912, 0.031325452, 0.0162...  ...  100263-2-0-117.wav\n",
              "2  [0.028046967, 0.03285183, 0.030295085, 0.01307...  ...  100263-2-0-121.wav\n",
              "3  [0.025350068, 0.04161336, 0.037191, 0.04856568...  ...  100263-2-0-126.wav\n",
              "4  [0.05126126, 0.035394225, 0.01814437, 0.013484...  ...  100263-2-0-137.wav\n",
              "\n",
              "[5 rows x 5 columns]"
            ]
          },
          "metadata": {},
          "execution_count": 69
        }
      ]
    },
    {
      "cell_type": "code",
      "source": [
        "data_final = list(data['features'])\n",
        "data_final = pd.DataFrame(data_final)\n",
        "data_cols = data_final.columns\n",
        "data_final['label'] = data['label']\n",
        "data_final['fold'] = data['fold']\n",
        "\n",
        "print(data_final.shape)\n"
      ],
      "metadata": {
        "colab": {
          "base_uri": "https://localhost:8080/"
        },
        "id": "w5s3ORGVlbpD",
        "outputId": "a12b5d73-79f5-4497-887c-52708238b317"
      },
      "execution_count": 70,
      "outputs": [
        {
          "output_type": "stream",
          "name": "stdout",
          "text": [
            "(8732, 514)\n"
          ]
        }
      ]
    },
    {
      "cell_type": "code",
      "source": [
        "dummies = pd.get_dummies(data_final['label']).rename(columns=lambda x: 'label_' + str(x))\n",
        "data_final = pd.concat([data_final, dummies], axis=1)\n",
        "data_final.drop(['label'], inplace=True, axis=1)\n",
        "data_final.shape"
      ],
      "metadata": {
        "colab": {
          "base_uri": "https://localhost:8080/"
        },
        "id": "C_gi90Y3XL4y",
        "outputId": "1bb6ec41-1e4e-4189-9448-e3bb97e95428"
      },
      "execution_count": 71,
      "outputs": [
        {
          "output_type": "execute_result",
          "data": {
            "text/plain": [
              "(8732, 523)"
            ]
          },
          "metadata": {},
          "execution_count": 71
        }
      ]
    },
    {
      "cell_type": "code",
      "source": [
        "def df_transform(fold):\n",
        "  X_fold_df = data_final[data_final['fold'].isin(fold)]\n",
        "  X = X_fold_df.iloc[:, 0:512].to_numpy()\n",
        "  y = X_fold_df.iloc[:, 513:523].to_numpy()\n",
        "\n",
        "  return X, y"
      ],
      "metadata": {
        "id": "RBFv78LFc8Am"
      },
      "execution_count": 72,
      "outputs": []
    },
    {
      "cell_type": "code",
      "source": [
        "X_train, y_train = df_transform(['1','2','3','4','6'])\n",
        "X_train.shape, y_train.shape"
      ],
      "metadata": {
        "colab": {
          "base_uri": "https://localhost:8080/"
        },
        "id": "nKx55fqEKStW",
        "outputId": "46c454cc-32ed-4e9a-ad26-9e2745b8ad6a"
      },
      "execution_count": 129,
      "outputs": [
        {
          "output_type": "execute_result",
          "data": {
            "text/plain": [
              "((4499, 512), (4499, 10))"
            ]
          },
          "metadata": {},
          "execution_count": 129
        }
      ]
    },
    {
      "cell_type": "code",
      "source": [
        "X_val, y_val = df_transform(['5'])\n",
        "X_val.shape, y_val.shape"
      ],
      "metadata": {
        "colab": {
          "base_uri": "https://localhost:8080/"
        },
        "id": "kkEA4Dexn1Ju",
        "outputId": "bc8cb832-737c-4068-9de8-4776487232bb"
      },
      "execution_count": 130,
      "outputs": [
        {
          "output_type": "execute_result",
          "data": {
            "text/plain": [
              "((936, 512), (936, 10))"
            ]
          },
          "metadata": {},
          "execution_count": 130
        }
      ]
    },
    {
      "cell_type": "code",
      "source": [
        "X_test7, y_test7 = df_transform(['7'])\n",
        "X_test8, y_test8 = df_transform(['8'])\n",
        "X_test9, y_test9 = df_transform(['9'])\n",
        "X_test10, y_test10 = df_transform(['10'])"
      ],
      "metadata": {
        "id": "9csBNDVfooJ5"
      },
      "execution_count": 131,
      "outputs": []
    },
    {
      "cell_type": "markdown",
      "source": [
        "## Classification"
      ],
      "metadata": {
        "id": "-RkR-uH80JQ8"
      }
    },
    {
      "cell_type": "code",
      "source": [
        "def plot_accuracy(history):\n",
        "  #accuracy\n",
        "  plt.figure(figsize=(8,3))\n",
        "  plt.plot(history.history['accuracy'])\n",
        "  plt.plot(history.history['val_accuracy'])\n",
        "  plt.title('model accuracy')\n",
        "  plt.ylabel('accuracy')\n",
        "  plt.xlabel('epoch')\n",
        "  plt.legend(['train', 'val'], loc='upper left')\n",
        "  plt.show()\n",
        "\n",
        "  #loss\n",
        "  plt.figure(figsize=(8,3))\n",
        "  plt.plot(history.history['loss'])\n",
        "  plt.plot(history.history['val_loss'])\n",
        "  plt.title('model loss')\n",
        "  plt.ylabel('loss')\n",
        "  plt.xlabel('epoch')\n",
        "  plt.legend(['train', 'val'], loc='upper left')\n",
        "  plt.show()"
      ],
      "metadata": {
        "id": "PFAKzqvmxZNb"
      },
      "execution_count": 76,
      "outputs": []
    },
    {
      "cell_type": "code",
      "source": [
        "def test_scores(model):\n",
        "  score5 = model.evaluate(X_val, y_val)\n",
        "  score7 = model.evaluate(X_test7, y_test7)\n",
        "  score8 = model.evaluate(X_test8, y_test8)\n",
        "  score9 = model.evaluate(X_test9, y_test9)\n",
        "  score10 = model.evaluate(X_test10, y_test10)\n",
        "  test_scores = [score5[1],score7[1],score8[1],score9[1],score10[1]]\n",
        "  \n",
        "  return test_scores"
      ],
      "metadata": {
        "id": "Y7Ff0z2dylyx"
      },
      "execution_count": 77,
      "outputs": []
    },
    {
      "cell_type": "markdown",
      "source": [
        "### CNN model"
      ],
      "metadata": {
        "id": "YujQfd7O6oef"
      }
    },
    {
      "cell_type": "code",
      "source": [
        "# data reshaping for CNN\n",
        "X_train = X_train.reshape(X_train.shape[0],128,4,1)\n",
        "X_val = X_val.reshape(X_val.shape[0],128,4,1)\n",
        "X_test7 = X_test7.reshape(X_test7.shape[0],128,4,1)\n",
        "X_test8 = X_test8.reshape(X_test8.shape[0],128,4,1)\n",
        "X_test9 = X_test9.reshape(X_test9.shape[0],128,4,1)\n",
        "X_test10 = X_test10.reshape(X_test10.shape[0],128,4,1)"
      ],
      "metadata": {
        "id": "podebSZ4p8vc"
      },
      "execution_count": 78,
      "outputs": []
    },
    {
      "cell_type": "code",
      "source": [
        "model = Sequential()\n",
        "input_dim = (128,4,1)\n",
        "\n",
        "model.add(Conv2D(64, (3, 3), padding = \"same\", activation = \"relu\", input_shape = input_dim))\n",
        "model.add(MaxPool2D(pool_size=(2, 2)))\n",
        "\n",
        "model.add(Conv2D(128, (3, 3), padding = \"same\", activation = \"relu\"))\n",
        "model.add(MaxPool2D(pool_size=(2, 2)))\n",
        "model.add(Dropout(0.2))\n",
        "\n",
        "model.add(Flatten())\n",
        "\n",
        "model.add(Dense(256, activation = \"relu\"))\n",
        "model.add(Dropout(0.2))\n",
        "\n",
        "model.add(Dense(512,activation=\"relu\"))\n",
        "model.add(Dropout(0.2))\n",
        "\n",
        "model.add(Dense(10, activation = \"softmax\"))\n",
        "\n",
        "model.summary()"
      ],
      "metadata": {
        "colab": {
          "base_uri": "https://localhost:8080/"
        },
        "id": "0NmMNTP0iKKP",
        "outputId": "cca65ddf-9b5d-4207-d1e7-b228c3ec22a7"
      },
      "execution_count": 79,
      "outputs": [
        {
          "output_type": "stream",
          "name": "stdout",
          "text": [
            "Model: \"sequential_8\"\n",
            "_________________________________________________________________\n",
            " Layer (type)                Output Shape              Param #   \n",
            "=================================================================\n",
            " conv2d_2 (Conv2D)           (None, 128, 4, 64)        640       \n",
            "                                                                 \n",
            " max_pooling2d_2 (MaxPooling  (None, 64, 2, 64)        0         \n",
            " 2D)                                                             \n",
            "                                                                 \n",
            " conv2d_3 (Conv2D)           (None, 64, 2, 128)        73856     \n",
            "                                                                 \n",
            " max_pooling2d_3 (MaxPooling  (None, 32, 1, 128)       0         \n",
            " 2D)                                                             \n",
            "                                                                 \n",
            " dropout_28 (Dropout)        (None, 32, 1, 128)        0         \n",
            "                                                                 \n",
            " flatten_1 (Flatten)         (None, 4096)              0         \n",
            "                                                                 \n",
            " dense_35 (Dense)            (None, 256)               1048832   \n",
            "                                                                 \n",
            " dropout_29 (Dropout)        (None, 256)               0         \n",
            "                                                                 \n",
            " dense_36 (Dense)            (None, 512)               131584    \n",
            "                                                                 \n",
            " dropout_30 (Dropout)        (None, 512)               0         \n",
            "                                                                 \n",
            " dense_37 (Dense)            (None, 10)                5130      \n",
            "                                                                 \n",
            "=================================================================\n",
            "Total params: 1,260,042\n",
            "Trainable params: 1,260,042\n",
            "Non-trainable params: 0\n",
            "_________________________________________________________________\n"
          ]
        }
      ]
    },
    {
      "cell_type": "code",
      "source": [
        "model.compile(optimizer = 'adam', loss = 'categorical_crossentropy', metrics = ['accuracy'])"
      ],
      "metadata": {
        "id": "FKQTgk72iKWV"
      },
      "execution_count": 80,
      "outputs": []
    },
    {
      "cell_type": "code",
      "source": [
        "history = model.fit(X_train, y_train, epochs = 30, batch_size = 128, validation_data =(X_val, y_val), verbose =True)"
      ],
      "metadata": {
        "colab": {
          "base_uri": "https://localhost:8080/"
        },
        "id": "4lUlb4o2iKaB",
        "outputId": "80baaf8c-f1e7-45d4-e796-bf579c59f634"
      },
      "execution_count": 81,
      "outputs": [
        {
          "output_type": "stream",
          "name": "stdout",
          "text": [
            "Epoch 1/30\n",
            "36/36 [==============================] - 10s 259ms/step - loss: 3.7390 - accuracy: 0.2354 - val_loss: 2.1983 - val_accuracy: 0.2596\n",
            "Epoch 2/30\n",
            "36/36 [==============================] - 9s 250ms/step - loss: 2.0506 - accuracy: 0.3299 - val_loss: 1.9565 - val_accuracy: 0.3120\n",
            "Epoch 3/30\n",
            "36/36 [==============================] - 9s 258ms/step - loss: 1.7796 - accuracy: 0.4128 - val_loss: 1.8747 - val_accuracy: 0.3184\n",
            "Epoch 4/30\n",
            "36/36 [==============================] - 9s 253ms/step - loss: 1.6338 - accuracy: 0.4572 - val_loss: 1.8859 - val_accuracy: 0.3654\n",
            "Epoch 5/30\n",
            "36/36 [==============================] - 9s 254ms/step - loss: 1.4850 - accuracy: 0.4934 - val_loss: 1.8089 - val_accuracy: 0.4327\n",
            "Epoch 6/30\n",
            "36/36 [==============================] - 9s 254ms/step - loss: 1.4400 - accuracy: 0.5259 - val_loss: 1.8211 - val_accuracy: 0.4327\n",
            "Epoch 7/30\n",
            "36/36 [==============================] - 9s 254ms/step - loss: 1.3040 - accuracy: 0.5695 - val_loss: 1.7065 - val_accuracy: 0.4455\n",
            "Epoch 8/30\n",
            "36/36 [==============================] - 9s 254ms/step - loss: 1.1881 - accuracy: 0.6077 - val_loss: 1.6895 - val_accuracy: 0.4882\n",
            "Epoch 9/30\n",
            "36/36 [==============================] - 9s 253ms/step - loss: 1.1162 - accuracy: 0.6306 - val_loss: 1.5968 - val_accuracy: 0.5321\n",
            "Epoch 10/30\n",
            "36/36 [==============================] - 9s 254ms/step - loss: 1.0540 - accuracy: 0.6473 - val_loss: 1.7524 - val_accuracy: 0.4936\n",
            "Epoch 11/30\n",
            "36/36 [==============================] - 9s 255ms/step - loss: 1.0430 - accuracy: 0.6544 - val_loss: 1.6191 - val_accuracy: 0.5011\n",
            "Epoch 12/30\n",
            "36/36 [==============================] - 9s 253ms/step - loss: 1.0230 - accuracy: 0.6704 - val_loss: 1.5153 - val_accuracy: 0.5395\n",
            "Epoch 13/30\n",
            "36/36 [==============================] - 9s 253ms/step - loss: 0.9447 - accuracy: 0.6877 - val_loss: 1.5182 - val_accuracy: 0.5395\n",
            "Epoch 14/30\n",
            "36/36 [==============================] - 9s 254ms/step - loss: 0.9024 - accuracy: 0.7035 - val_loss: 1.6588 - val_accuracy: 0.5310\n",
            "Epoch 15/30\n",
            "36/36 [==============================] - 9s 253ms/step - loss: 0.9303 - accuracy: 0.7039 - val_loss: 1.4634 - val_accuracy: 0.5256\n",
            "Epoch 16/30\n",
            "36/36 [==============================] - 9s 253ms/step - loss: 0.8682 - accuracy: 0.7153 - val_loss: 1.6510 - val_accuracy: 0.5278\n",
            "Epoch 17/30\n",
            "36/36 [==============================] - 9s 255ms/step - loss: 0.8280 - accuracy: 0.7328 - val_loss: 1.6183 - val_accuracy: 0.5395\n",
            "Epoch 18/30\n",
            "36/36 [==============================] - 9s 254ms/step - loss: 0.7660 - accuracy: 0.7535 - val_loss: 1.5846 - val_accuracy: 0.5438\n",
            "Epoch 19/30\n",
            "36/36 [==============================] - 9s 254ms/step - loss: 0.7231 - accuracy: 0.7542 - val_loss: 1.4862 - val_accuracy: 0.5716\n",
            "Epoch 20/30\n",
            "36/36 [==============================] - 9s 253ms/step - loss: 0.7543 - accuracy: 0.7582 - val_loss: 1.5716 - val_accuracy: 0.5652\n",
            "Epoch 21/30\n",
            "36/36 [==============================] - 9s 253ms/step - loss: 0.6837 - accuracy: 0.7817 - val_loss: 1.5153 - val_accuracy: 0.5588\n",
            "Epoch 22/30\n",
            "36/36 [==============================] - 9s 253ms/step - loss: 0.6731 - accuracy: 0.7844 - val_loss: 1.5079 - val_accuracy: 0.5481\n",
            "Epoch 23/30\n",
            "36/36 [==============================] - 9s 254ms/step - loss: 0.6218 - accuracy: 0.7991 - val_loss: 1.5997 - val_accuracy: 0.5726\n",
            "Epoch 24/30\n",
            "36/36 [==============================] - 9s 255ms/step - loss: 0.5573 - accuracy: 0.8124 - val_loss: 1.5702 - val_accuracy: 0.5833\n",
            "Epoch 25/30\n",
            "36/36 [==============================] - 9s 254ms/step - loss: 0.5454 - accuracy: 0.8173 - val_loss: 1.6691 - val_accuracy: 0.5919\n",
            "Epoch 26/30\n",
            "36/36 [==============================] - 9s 254ms/step - loss: 0.5395 - accuracy: 0.8202 - val_loss: 1.7924 - val_accuracy: 0.5983\n",
            "Epoch 27/30\n",
            "36/36 [==============================] - 9s 254ms/step - loss: 0.5314 - accuracy: 0.8291 - val_loss: 1.5227 - val_accuracy: 0.6111\n",
            "Epoch 28/30\n",
            "36/36 [==============================] - 9s 254ms/step - loss: 0.5403 - accuracy: 0.8228 - val_loss: 1.7163 - val_accuracy: 0.5759\n",
            "Epoch 29/30\n",
            "36/36 [==============================] - 9s 253ms/step - loss: 0.5550 - accuracy: 0.8293 - val_loss: 1.8034 - val_accuracy: 0.6143\n",
            "Epoch 30/30\n",
            "36/36 [==============================] - 9s 255ms/step - loss: 0.4955 - accuracy: 0.8393 - val_loss: 1.6213 - val_accuracy: 0.6250\n"
          ]
        }
      ]
    },
    {
      "cell_type": "code",
      "source": [
        "plot_accuracy(history)"
      ],
      "metadata": {
        "colab": {
          "base_uri": "https://localhost:8080/",
          "height": 475
        },
        "id": "pEQNhg8-5fV5",
        "outputId": "40c96c2c-1368-4f6e-c3fc-d0f493053871"
      },
      "execution_count": 82,
      "outputs": [
        {
          "output_type": "display_data",
          "data": {
            "image/png": "[encoded data removed]",
            "text/plain": [
              "<Figure size 576x216 with 1 Axes>"
            ]
          },
          "metadata": {}
        },
        {
          "output_type": "display_data",
          "data": {
            "image/png": "[encoded data removed]",
            "text/plain": [
              "<Figure size 576x216 with 1 Axes>"
            ]
          },
          "metadata": {}
        }
      ]
    },
    {
      "cell_type": "code",
      "source": [
        "test_scores_cnn = test_scores(model)\n",
        "test_scores_cnn"
      ],
      "metadata": {
        "colab": {
          "base_uri": "https://localhost:8080/"
        },
        "id": "bdft_yV7yF6P",
        "outputId": "2f948d9a-6c5a-41c5-fd74-526f5856921c"
      },
      "execution_count": 83,
      "outputs": [
        {
          "output_type": "stream",
          "name": "stdout",
          "text": [
            "30/30 [==============================] - 1s 18ms/step - loss: 1.6213 - accuracy: 0.6250\n",
            "27/27 [==============================] - 1s 18ms/step - loss: 2.1674 - accuracy: 0.5060\n",
            "26/26 [==============================] - 0s 18ms/step - loss: 2.4149 - accuracy: 0.5633\n",
            "26/26 [==============================] - 1s 19ms/step - loss: 3.0525 - accuracy: 0.5453\n",
            "27/27 [==============================] - 1s 18ms/step - loss: 1.6137 - accuracy: 0.6022\n"
          ]
        },
        {
          "output_type": "execute_result",
          "data": {
            "text/plain": [
              "[0.625,\n",
              " 0.5059666037559509,\n",
              " 0.5632754564285278,\n",
              " 0.5453431606292725,\n",
              " 0.602150559425354]"
            ]
          },
          "metadata": {},
          "execution_count": 83
        }
      ]
    },
    {
      "cell_type": "code",
      "source": [
        "print((np.mean(test_scores_cnn), np.std(test_scores_cnn)))"
      ],
      "metadata": {
        "colab": {
          "base_uri": "https://localhost:8080/"
        },
        "id": "QdHa7DmcehKq",
        "outputId": "fb79dcb8-8366-4dcc-f23b-b973531e8d5e"
      },
      "execution_count": 84,
      "outputs": [
        {
          "output_type": "stream",
          "name": "stdout",
          "text": [
            "(0.568347156047821, 0.04194866876137509)\n"
          ]
        }
      ]
    },
    {
      "cell_type": "markdown",
      "source": [
        "### FNN"
      ],
      "metadata": {
        "id": "JeYT0VFN7HrX"
      }
    },
    {
      "cell_type": "code",
      "source": [
        "# data reshaping for NN\n",
        "X_train = X_train.reshape(X_train.shape[0], 512)\n",
        "X_val = X_val.reshape(X_val.shape[0],512)\n",
        "X_test7 = X_test7.reshape(X_test7.shape[0],512)\n",
        "X_test8 = X_test8.reshape(X_test8.shape[0],512)\n",
        "X_test9 = X_test9.reshape(X_test9.shape[0],512)\n",
        "X_test10 = X_test10.reshape(X_test10.shape[0],512)"
      ],
      "metadata": {
        "id": "0RvkNaf8ehUB"
      },
      "execution_count": 88,
      "outputs": []
    },
    {
      "cell_type": "code",
      "source": [
        "X_train.shape, X_val.shape"
      ],
      "metadata": {
        "colab": {
          "base_uri": "https://localhost:8080/"
        },
        "id": "hXGnICR1ehXP",
        "outputId": "2f0a9605-a3eb-4092-a05c-6208955df3b1"
      },
      "execution_count": 89,
      "outputs": [
        {
          "output_type": "execute_result",
          "data": {
            "text/plain": [
              "((4499, 512), (936, 512))"
            ]
          },
          "metadata": {},
          "execution_count": 89
        }
      ]
    },
    {
      "cell_type": "code",
      "source": [
        "#forming model\n",
        "model=Sequential()\n",
        "\n",
        "#building the model\n",
        "model.add(Dense(units=512,activation='relu',input_dim=512))\n",
        "model.add(Dropout(0.1))\n",
        "model.add(Dense(units=256,activation='relu'))\n",
        "model.add(Dropout(0.1))\n",
        "model.add(Dense(units=128,activation='relu'))\n",
        "model.add(Dropout(0.1))\n",
        "model.add(Dense(units=64,activation='relu'))\n",
        "model.add(Dropout(0.1))\n",
        "model.add(Dense(units=10,activation='softmax'))\n",
        "model.summary()"
      ],
      "metadata": {
        "colab": {
          "base_uri": "https://localhost:8080/"
        },
        "id": "9XdKviQD9ht9",
        "outputId": "3ed1f31d-3299-4267-c25e-f4248ade9b7f"
      },
      "execution_count": 120,
      "outputs": [
        {
          "output_type": "stream",
          "name": "stdout",
          "text": [
            "Model: \"sequential_14\"\n",
            "_________________________________________________________________\n",
            " Layer (type)                Output Shape              Param #   \n",
            "=================================================================\n",
            " dense_63 (Dense)            (None, 512)               262656    \n",
            "                                                                 \n",
            " dropout_51 (Dropout)        (None, 512)               0         \n",
            "                                                                 \n",
            " dense_64 (Dense)            (None, 256)               131328    \n",
            "                                                                 \n",
            " dropout_52 (Dropout)        (None, 256)               0         \n",
            "                                                                 \n",
            " dense_65 (Dense)            (None, 128)               32896     \n",
            "                                                                 \n",
            " dropout_53 (Dropout)        (None, 128)               0         \n",
            "                                                                 \n",
            " dense_66 (Dense)            (None, 64)                8256      \n",
            "                                                                 \n",
            " dropout_54 (Dropout)        (None, 64)                0         \n",
            "                                                                 \n",
            " dense_67 (Dense)            (None, 10)                650       \n",
            "                                                                 \n",
            "=================================================================\n",
            "Total params: 435,786\n",
            "Trainable params: 435,786\n",
            "Non-trainable params: 0\n",
            "_________________________________________________________________\n"
          ]
        }
      ]
    },
    {
      "cell_type": "code",
      "source": [
        "#compiling\n",
        "model.compile(optimizer='adam',loss='categorical_crossentropy',metrics=['accuracy'])"
      ],
      "metadata": {
        "id": "RnQbAF9J9y05"
      },
      "execution_count": 121,
      "outputs": []
    },
    {
      "cell_type": "code",
      "source": [
        "history = model.fit(X_train,y_train,epochs=30 ,batch_size=64, validation_data = (X_val, y_val))"
      ],
      "metadata": {
        "colab": {
          "base_uri": "https://localhost:8080/"
        },
        "id": "2DUDC-MDEvYq",
        "outputId": "13b867c0-39da-4b7d-def5-eb87a8917a5a"
      },
      "execution_count": 122,
      "outputs": [
        {
          "output_type": "stream",
          "name": "stdout",
          "text": [
            "Epoch 1/30\n",
            "71/71 [==============================] - 1s 11ms/step - loss: 6.5223 - accuracy: 0.2140 - val_loss: 3.1246 - val_accuracy: 0.2244\n",
            "Epoch 2/30\n",
            "71/71 [==============================] - 1s 9ms/step - loss: 3.0245 - accuracy: 0.2721 - val_loss: 2.3319 - val_accuracy: 0.2393\n",
            "Epoch 3/30\n",
            "71/71 [==============================] - 1s 9ms/step - loss: 2.5171 - accuracy: 0.3005 - val_loss: 2.2525 - val_accuracy: 0.2746\n",
            "Epoch 4/30\n",
            "71/71 [==============================] - 1s 9ms/step - loss: 2.1682 - accuracy: 0.3412 - val_loss: 2.0978 - val_accuracy: 0.3130\n",
            "Epoch 5/30\n",
            "71/71 [==============================] - 1s 9ms/step - loss: 2.0623 - accuracy: 0.3652 - val_loss: 2.2053 - val_accuracy: 0.3109\n",
            "Epoch 6/30\n",
            "71/71 [==============================] - 1s 9ms/step - loss: 1.8942 - accuracy: 0.3930 - val_loss: 2.1910 - val_accuracy: 0.3355\n",
            "Epoch 7/30\n",
            "71/71 [==============================] - 1s 9ms/step - loss: 1.7795 - accuracy: 0.4392 - val_loss: 2.2568 - val_accuracy: 0.3472\n",
            "Epoch 8/30\n",
            "71/71 [==============================] - 1s 9ms/step - loss: 1.6742 - accuracy: 0.4628 - val_loss: 2.1436 - val_accuracy: 0.3825\n",
            "Epoch 9/30\n",
            "71/71 [==============================] - 1s 9ms/step - loss: 1.6130 - accuracy: 0.5070 - val_loss: 2.0374 - val_accuracy: 0.3942\n",
            "Epoch 10/30\n",
            "71/71 [==============================] - 1s 9ms/step - loss: 1.5351 - accuracy: 0.5097 - val_loss: 2.1032 - val_accuracy: 0.4081\n",
            "Epoch 11/30\n",
            "71/71 [==============================] - 1s 9ms/step - loss: 1.4836 - accuracy: 0.5395 - val_loss: 2.1333 - val_accuracy: 0.4167\n",
            "Epoch 12/30\n",
            "71/71 [==============================] - 1s 9ms/step - loss: 1.3791 - accuracy: 0.5683 - val_loss: 2.1797 - val_accuracy: 0.4455\n",
            "Epoch 13/30\n",
            "71/71 [==============================] - 1s 9ms/step - loss: 1.2838 - accuracy: 0.5846 - val_loss: 2.3243 - val_accuracy: 0.4188\n",
            "Epoch 14/30\n",
            "71/71 [==============================] - 1s 9ms/step - loss: 1.2511 - accuracy: 0.6041 - val_loss: 2.6239 - val_accuracy: 0.4252\n",
            "Epoch 15/30\n",
            "71/71 [==============================] - 1s 9ms/step - loss: 1.1808 - accuracy: 0.6250 - val_loss: 2.5897 - val_accuracy: 0.4509\n",
            "Epoch 16/30\n",
            "71/71 [==============================] - 1s 9ms/step - loss: 1.1412 - accuracy: 0.6459 - val_loss: 3.0646 - val_accuracy: 0.4423\n",
            "Epoch 17/30\n",
            "71/71 [==============================] - 1s 9ms/step - loss: 1.1674 - accuracy: 0.6293 - val_loss: 2.2606 - val_accuracy: 0.4391\n",
            "Epoch 18/30\n",
            "71/71 [==============================] - 1s 9ms/step - loss: 1.1053 - accuracy: 0.6504 - val_loss: 2.7485 - val_accuracy: 0.4380\n",
            "Epoch 19/30\n",
            "71/71 [==============================] - 1s 9ms/step - loss: 1.0188 - accuracy: 0.6804 - val_loss: 2.5663 - val_accuracy: 0.4263\n",
            "Epoch 20/30\n",
            "71/71 [==============================] - 1s 9ms/step - loss: 1.0805 - accuracy: 0.6706 - val_loss: 2.7229 - val_accuracy: 0.4669\n",
            "Epoch 21/30\n",
            "71/71 [==============================] - 1s 9ms/step - loss: 0.9462 - accuracy: 0.7004 - val_loss: 2.6831 - val_accuracy: 0.4274\n",
            "Epoch 22/30\n",
            "71/71 [==============================] - 1s 9ms/step - loss: 0.9253 - accuracy: 0.7030 - val_loss: 2.4691 - val_accuracy: 0.4274\n",
            "Epoch 23/30\n",
            "71/71 [==============================] - 1s 9ms/step - loss: 0.8277 - accuracy: 0.7264 - val_loss: 2.7521 - val_accuracy: 0.4476\n",
            "Epoch 24/30\n",
            "71/71 [==============================] - 1s 9ms/step - loss: 0.7996 - accuracy: 0.7393 - val_loss: 2.9274 - val_accuracy: 0.4380\n",
            "Epoch 25/30\n",
            "71/71 [==============================] - 1s 9ms/step - loss: 0.9663 - accuracy: 0.6846 - val_loss: 2.7380 - val_accuracy: 0.4701\n",
            "Epoch 26/30\n",
            "71/71 [==============================] - 1s 9ms/step - loss: 0.8796 - accuracy: 0.7213 - val_loss: 3.4915 - val_accuracy: 0.4626\n",
            "Epoch 27/30\n",
            "71/71 [==============================] - 1s 9ms/step - loss: 0.8673 - accuracy: 0.7277 - val_loss: 2.7995 - val_accuracy: 0.4519\n",
            "Epoch 28/30\n",
            "71/71 [==============================] - 1s 9ms/step - loss: 0.7934 - accuracy: 0.7346 - val_loss: 3.5065 - val_accuracy: 0.4444\n",
            "Epoch 29/30\n",
            "71/71 [==============================] - 1s 9ms/step - loss: 0.7485 - accuracy: 0.7568 - val_loss: 3.5667 - val_accuracy: 0.4498\n",
            "Epoch 30/30\n",
            "71/71 [==============================] - 1s 9ms/step - loss: 0.7062 - accuracy: 0.7753 - val_loss: 3.2783 - val_accuracy: 0.4893\n"
          ]
        }
      ]
    },
    {
      "cell_type": "code",
      "source": [
        "plot_accuracy(history)"
      ],
      "metadata": {
        "colab": {
          "base_uri": "https://localhost:8080/",
          "height": 475
        },
        "id": "uN7BnUyx-k_7",
        "outputId": "191db5c0-961a-4321-af7f-2e7dbac14264"
      },
      "execution_count": 123,
      "outputs": [
        {
          "output_type": "display_data",
          "data": {
            "image/png": "[encoded data removed]",
            "text/plain": [
              "<Figure size 576x216 with 1 Axes>"
            ]
          },
          "metadata": {}
        },
        {
          "output_type": "display_data",
          "data": {
            "image/png": "[encoded data removed]",
            "text/plain": [
              "<Figure size 576x216 with 1 Axes>"
            ]
          },
          "metadata": {}
        }
      ]
    },
    {
      "cell_type": "code",
      "source": [
        "test_scores_fnn = test_scores(model)\n",
        "test_scores_fnn"
      ],
      "metadata": {
        "colab": {
          "base_uri": "https://localhost:8080/"
        },
        "id": "HedronIUOnbM",
        "outputId": "cc3a0dbe-19bd-44d7-bb8d-0b9393bcd3bf"
      },
      "execution_count": 127,
      "outputs": [
        {
          "output_type": "stream",
          "name": "stdout",
          "text": [
            "30/30 [==============================] - 0s 3ms/step - loss: 3.2783 - accuracy: 0.4893\n",
            "27/27 [==============================] - 0s 3ms/step - loss: 2.7634 - accuracy: 0.5191\n",
            "26/26 [==============================] - 0s 3ms/step - loss: 3.0786 - accuracy: 0.5372\n",
            "26/26 [==============================] - 0s 3ms/step - loss: 3.0644 - accuracy: 0.5515\n",
            "27/27 [==============================] - 0s 3ms/step - loss: 2.7450 - accuracy: 0.4994\n"
          ]
        },
        {
          "output_type": "execute_result",
          "data": {
            "text/plain": [
              "[0.4893162250518799,\n",
              " 0.5190930962562561,\n",
              " 0.53722083568573,\n",
              " 0.5514705777168274,\n",
              " 0.49940264225006104]"
            ]
          },
          "metadata": {},
          "execution_count": 127
        }
      ]
    },
    {
      "cell_type": "code",
      "source": [
        "print((np.mean(test_scores_fnn), np.std(test_scores_fnn)))"
      ],
      "metadata": {
        "colab": {
          "base_uri": "https://localhost:8080/"
        },
        "id": "JM0NnkDR70tU",
        "outputId": "50ca44d0-e5e6-4c47-ace1-94d91e57228a"
      },
      "execution_count": 128,
      "outputs": [
        {
          "output_type": "stream",
          "name": "stdout",
          "text": [
            "(0.5193006753921509, 0.02302640586264534)\n"
          ]
        }
      ]
    },
    {
      "cell_type": "markdown",
      "source": [
        "### RNN"
      ],
      "metadata": {
        "id": "wx2Pw1Dv2IqU"
      }
    },
    {
      "cell_type": "code",
      "source": [
        "# data reshaping for RNN\n",
        "X_train = X_train.reshape(X_train.shape[0],128,4)\n",
        "X_val = X_val.reshape(X_val.shape[0],128,4)\n",
        "X_test7 = X_test7.reshape(X_test7.shape[0],128,4)\n",
        "X_test8 = X_test8.reshape(X_test8.shape[0],128,4)\n",
        "X_test9 = X_test9.reshape(X_test9.shape[0],128,4)\n",
        "X_test10 = X_test10.reshape(X_test10.shape[0],128,4)"
      ],
      "metadata": {
        "id": "9Phb6Dx8Jo4t"
      },
      "execution_count": 132,
      "outputs": []
    },
    {
      "cell_type": "code",
      "source": [
        "# Neural network model\n",
        "input_shape = (128,4)\n",
        "\n",
        "model = Sequential()\n",
        "model.add(LSTM(128,input_shape=input_shape, dropout = 0.2, recurrent_dropout = 0.2))\n",
        "model.add(Dense(128, activation='relu'))\n",
        "model.add(Dropout(0.2))\n",
        "model.add(Dense(64, activation='relu'))\n",
        "model.add(Dropout(0.2))\n",
        "model.add(Dense(32, activation='relu'))\n",
        "model.add(Dropout(0.2))\n",
        "model.add(Dense(10, activation='softmax'))\n",
        "model.summary()"
      ],
      "metadata": {
        "colab": {
          "base_uri": "https://localhost:8080/"
        },
        "id": "SFS_fkUnxCvq",
        "outputId": "23358fdd-b485-4fa9-f05b-3f5c64c7669d"
      },
      "execution_count": 139,
      "outputs": [
        {
          "output_type": "stream",
          "name": "stdout",
          "text": [
            "Model: \"sequential_16\"\n",
            "_________________________________________________________________\n",
            " Layer (type)                Output Shape              Param #   \n",
            "=================================================================\n",
            " lstm_4 (LSTM)               (None, 128)               68096     \n",
            "                                                                 \n",
            " dense_72 (Dense)            (None, 128)               16512     \n",
            "                                                                 \n",
            " dropout_58 (Dropout)        (None, 128)               0         \n",
            "                                                                 \n",
            " dense_73 (Dense)            (None, 64)                8256      \n",
            "                                                                 \n",
            " dropout_59 (Dropout)        (None, 64)                0         \n",
            "                                                                 \n",
            " dense_74 (Dense)            (None, 32)                2080      \n",
            "                                                                 \n",
            " dropout_60 (Dropout)        (None, 32)                0         \n",
            "                                                                 \n",
            " dense_75 (Dense)            (None, 10)                330       \n",
            "                                                                 \n",
            "=================================================================\n",
            "Total params: 95,274\n",
            "Trainable params: 95,274\n",
            "Non-trainable params: 0\n",
            "_________________________________________________________________\n"
          ]
        }
      ]
    },
    {
      "cell_type": "code",
      "source": [
        "model.compile(optimizer='adam',loss='categorical_crossentropy',metrics=['accuracy'])"
      ],
      "metadata": {
        "id": "dlwGfvmYxC4b"
      },
      "execution_count": 140,
      "outputs": []
    },
    {
      "cell_type": "code",
      "source": [
        "history = model.fit(X_train,y_train,epochs=50 ,batch_size=256, validation_data = (X_val, y_val))"
      ],
      "metadata": {
        "colab": {
          "base_uri": "https://localhost:8080/"
        },
        "id": "NDCv1mlixC8e",
        "outputId": "0038a05f-b72f-45c3-ddfd-24b3ef74aacb"
      },
      "execution_count": 141,
      "outputs": [
        {
          "output_type": "stream",
          "name": "stdout",
          "text": [
            "Epoch 1/50\n",
            "18/18 [==============================] - 18s 842ms/step - loss: 2.2809 - accuracy: 0.1320 - val_loss: 2.2890 - val_accuracy: 0.1421\n",
            "Epoch 2/50\n",
            "18/18 [==============================] - 15s 818ms/step - loss: 2.2088 - accuracy: 0.1694 - val_loss: 2.2378 - val_accuracy: 0.1400\n",
            "Epoch 3/50\n",
            "18/18 [==============================] - 15s 825ms/step - loss: 2.1417 - accuracy: 0.1956 - val_loss: 2.1393 - val_accuracy: 0.1912\n",
            "Epoch 4/50\n",
            "18/18 [==============================] - 15s 821ms/step - loss: 2.0515 - accuracy: 0.2501 - val_loss: 2.0401 - val_accuracy: 0.1635\n",
            "Epoch 5/50\n",
            "18/18 [==============================] - 15s 816ms/step - loss: 1.9871 - accuracy: 0.2794 - val_loss: 2.0156 - val_accuracy: 0.1752\n",
            "Epoch 6/50\n",
            "18/18 [==============================] - 15s 813ms/step - loss: 1.9448 - accuracy: 0.2912 - val_loss: 1.9959 - val_accuracy: 0.2083\n",
            "Epoch 7/50\n",
            "18/18 [==============================] - 15s 816ms/step - loss: 1.9093 - accuracy: 0.3007 - val_loss: 1.9768 - val_accuracy: 0.1880\n",
            "Epoch 8/50\n",
            "18/18 [==============================] - 15s 822ms/step - loss: 1.8540 - accuracy: 0.3245 - val_loss: 1.9084 - val_accuracy: 0.2372\n",
            "Epoch 9/50\n",
            "18/18 [==============================] - 15s 817ms/step - loss: 1.8025 - accuracy: 0.3490 - val_loss: 1.9538 - val_accuracy: 0.2543\n",
            "Epoch 10/50\n",
            "18/18 [==============================] - 15s 818ms/step - loss: 1.7732 - accuracy: 0.3512 - val_loss: 1.9766 - val_accuracy: 0.2596\n",
            "Epoch 11/50\n",
            "18/18 [==============================] - 15s 818ms/step - loss: 1.7125 - accuracy: 0.3750 - val_loss: 2.0143 - val_accuracy: 0.2778\n",
            "Epoch 12/50\n",
            "18/18 [==============================] - 15s 818ms/step - loss: 1.7035 - accuracy: 0.3781 - val_loss: 1.9142 - val_accuracy: 0.2714\n",
            "Epoch 13/50\n",
            "18/18 [==============================] - 15s 814ms/step - loss: 1.6674 - accuracy: 0.3996 - val_loss: 1.9352 - val_accuracy: 0.3141\n",
            "Epoch 14/50\n",
            "18/18 [==============================] - 15s 817ms/step - loss: 1.6444 - accuracy: 0.4068 - val_loss: 1.9411 - val_accuracy: 0.3152\n",
            "Epoch 15/50\n",
            "18/18 [==============================] - 15s 818ms/step - loss: 1.6172 - accuracy: 0.4194 - val_loss: 1.8864 - val_accuracy: 0.3077\n",
            "Epoch 16/50\n",
            "18/18 [==============================] - 15s 819ms/step - loss: 1.6043 - accuracy: 0.4285 - val_loss: 1.9362 - val_accuracy: 0.3152\n",
            "Epoch 17/50\n",
            "18/18 [==============================] - 15s 819ms/step - loss: 1.5567 - accuracy: 0.4370 - val_loss: 1.9460 - val_accuracy: 0.3376\n",
            "Epoch 18/50\n",
            "18/18 [==============================] - 15s 823ms/step - loss: 1.5525 - accuracy: 0.4494 - val_loss: 1.8574 - val_accuracy: 0.3643\n",
            "Epoch 19/50\n",
            "18/18 [==============================] - 15s 818ms/step - loss: 1.5185 - accuracy: 0.4552 - val_loss: 1.9989 - val_accuracy: 0.3056\n",
            "Epoch 20/50\n",
            "18/18 [==============================] - 15s 819ms/step - loss: 1.5070 - accuracy: 0.4561 - val_loss: 2.0586 - val_accuracy: 0.3205\n",
            "Epoch 21/50\n",
            "18/18 [==============================] - 15s 813ms/step - loss: 1.5014 - accuracy: 0.4645 - val_loss: 1.9709 - val_accuracy: 0.3376\n",
            "Epoch 22/50\n",
            "18/18 [==============================] - 15s 815ms/step - loss: 1.4645 - accuracy: 0.4779 - val_loss: 2.0187 - val_accuracy: 0.3472\n",
            "Epoch 23/50\n",
            "18/18 [==============================] - 15s 823ms/step - loss: 1.4412 - accuracy: 0.4850 - val_loss: 1.9229 - val_accuracy: 0.3558\n",
            "Epoch 24/50\n",
            "18/18 [==============================] - 15s 824ms/step - loss: 1.4404 - accuracy: 0.4866 - val_loss: 1.9439 - val_accuracy: 0.3376\n",
            "Epoch 25/50\n",
            "18/18 [==============================] - 15s 822ms/step - loss: 1.3979 - accuracy: 0.5117 - val_loss: 1.9540 - val_accuracy: 0.3622\n",
            "Epoch 26/50\n",
            "18/18 [==============================] - 15s 819ms/step - loss: 1.3721 - accuracy: 0.5166 - val_loss: 2.0611 - val_accuracy: 0.3312\n",
            "Epoch 27/50\n",
            "18/18 [==============================] - 15s 824ms/step - loss: 1.3758 - accuracy: 0.5197 - val_loss: 1.9833 - val_accuracy: 0.3782\n",
            "Epoch 28/50\n",
            "18/18 [==============================] - 15s 822ms/step - loss: 1.3645 - accuracy: 0.5341 - val_loss: 1.9459 - val_accuracy: 0.3835\n",
            "Epoch 29/50\n",
            "18/18 [==============================] - 15s 817ms/step - loss: 1.3511 - accuracy: 0.5292 - val_loss: 2.0290 - val_accuracy: 0.3504\n",
            "Epoch 30/50\n",
            "18/18 [==============================] - 15s 817ms/step - loss: 1.3399 - accuracy: 0.5383 - val_loss: 1.9959 - val_accuracy: 0.3600\n",
            "Epoch 31/50\n",
            "18/18 [==============================] - 15s 820ms/step - loss: 1.2938 - accuracy: 0.5492 - val_loss: 2.1038 - val_accuracy: 0.3611\n",
            "Epoch 32/50\n",
            "18/18 [==============================] - 15s 826ms/step - loss: 1.3304 - accuracy: 0.5455 - val_loss: 2.2332 - val_accuracy: 0.2799\n",
            "Epoch 33/50\n",
            "18/18 [==============================] - 15s 818ms/step - loss: 1.3027 - accuracy: 0.5406 - val_loss: 2.0235 - val_accuracy: 0.3771\n",
            "Epoch 34/50\n",
            "18/18 [==============================] - 15s 822ms/step - loss: 1.2700 - accuracy: 0.5577 - val_loss: 2.1528 - val_accuracy: 0.3718\n",
            "Epoch 35/50\n",
            "18/18 [==============================] - 15s 825ms/step - loss: 1.2665 - accuracy: 0.5530 - val_loss: 2.1910 - val_accuracy: 0.3515\n",
            "Epoch 36/50\n",
            "18/18 [==============================] - 15s 822ms/step - loss: 1.2443 - accuracy: 0.5790 - val_loss: 1.9999 - val_accuracy: 0.3900\n",
            "Epoch 37/50\n",
            "18/18 [==============================] - 15s 818ms/step - loss: 1.2167 - accuracy: 0.5819 - val_loss: 2.1250 - val_accuracy: 0.3771\n",
            "Epoch 38/50\n",
            "18/18 [==============================] - 15s 815ms/step - loss: 1.2507 - accuracy: 0.5750 - val_loss: 2.1904 - val_accuracy: 0.3162\n",
            "Epoch 39/50\n",
            "18/18 [==============================] - 15s 822ms/step - loss: 1.2390 - accuracy: 0.5726 - val_loss: 2.1151 - val_accuracy: 0.3761\n",
            "Epoch 40/50\n",
            "18/18 [==============================] - 15s 822ms/step - loss: 1.1820 - accuracy: 0.6021 - val_loss: 2.1313 - val_accuracy: 0.3526\n",
            "Epoch 41/50\n",
            "18/18 [==============================] - 15s 821ms/step - loss: 1.1957 - accuracy: 0.5919 - val_loss: 2.2150 - val_accuracy: 0.3697\n",
            "Epoch 42/50\n",
            "18/18 [==============================] - 15s 818ms/step - loss: 1.1379 - accuracy: 0.6095 - val_loss: 2.0315 - val_accuracy: 0.3932\n",
            "Epoch 43/50\n",
            "18/18 [==============================] - 15s 820ms/step - loss: 1.1277 - accuracy: 0.6157 - val_loss: 2.0787 - val_accuracy: 0.4049\n",
            "Epoch 44/50\n",
            "18/18 [==============================] - 15s 822ms/step - loss: 1.1133 - accuracy: 0.6266 - val_loss: 2.1264 - val_accuracy: 0.3974\n",
            "Epoch 45/50\n",
            "18/18 [==============================] - 15s 817ms/step - loss: 1.1101 - accuracy: 0.6297 - val_loss: 2.2430 - val_accuracy: 0.3932\n",
            "Epoch 46/50\n",
            "18/18 [==============================] - 15s 819ms/step - loss: 1.0762 - accuracy: 0.6457 - val_loss: 2.2188 - val_accuracy: 0.3654\n",
            "Epoch 47/50\n",
            "18/18 [==============================] - 15s 821ms/step - loss: 1.0580 - accuracy: 0.6506 - val_loss: 2.2829 - val_accuracy: 0.3900\n",
            "Epoch 48/50\n",
            "18/18 [==============================] - 15s 821ms/step - loss: 1.0821 - accuracy: 0.6344 - val_loss: 2.1457 - val_accuracy: 0.3910\n",
            "Epoch 49/50\n",
            "18/18 [==============================] - 15s 819ms/step - loss: 1.0929 - accuracy: 0.6328 - val_loss: 2.0461 - val_accuracy: 0.3974\n",
            "Epoch 50/50\n",
            "18/18 [==============================] - 15s 817ms/step - loss: 1.0317 - accuracy: 0.6493 - val_loss: 2.1809 - val_accuracy: 0.3964\n"
          ]
        }
      ]
    },
    {
      "cell_type": "code",
      "source": [
        "plot_accuracy(history)"
      ],
      "metadata": {
        "colab": {
          "base_uri": "https://localhost:8080/",
          "height": 475
        },
        "id": "qsAY-Q122Zst",
        "outputId": "905699bc-adb9-4ef5-c03f-929f5d07edf0"
      },
      "execution_count": 143,
      "outputs": [
        {
          "output_type": "display_data",
          "data": {
            "image/png": "[encoded data removed]",
            "text/plain": [
              "<Figure size 576x216 with 1 Axes>"
            ]
          },
          "metadata": {}
        },
        {
          "output_type": "display_data",
          "data": {
            "image/png": "[encoded data removed]",
            "text/plain": [
              "<Figure size 576x216 with 1 Axes>"
            ]
          },
          "metadata": {}
        }
      ]
    },
    {
      "cell_type": "code",
      "source": [
        "test_scores_rnn = test_scores(model)\n",
        "test_scores_rnn"
      ],
      "metadata": {
        "colab": {
          "base_uri": "https://localhost:8080/"
        },
        "id": "FvZmKfzVxDBH",
        "outputId": "444866e2-4ee9-4feb-cd55-8f21733c4337"
      },
      "execution_count": 144,
      "outputs": [
        {
          "output_type": "stream",
          "name": "stdout",
          "text": [
            "30/30 [==============================] - 1s 34ms/step - loss: 2.1809 - accuracy: 0.3964\n",
            "27/27 [==============================] - 1s 33ms/step - loss: 1.9309 - accuracy: 0.4439\n",
            "26/26 [==============================] - 1s 33ms/step - loss: 2.0234 - accuracy: 0.4529\n",
            "26/26 [==============================] - 1s 32ms/step - loss: 2.7056 - accuracy: 0.4069\n",
            "27/27 [==============================] - 1s 33ms/step - loss: 1.9630 - accuracy: 0.4170\n"
          ]
        },
        {
          "output_type": "execute_result",
          "data": {
            "text/plain": [
              "[0.39636752009391785,\n",
              " 0.4439140856266022,\n",
              " 0.45285359025001526,\n",
              " 0.406862735748291,\n",
              " 0.4169653654098511]"
            ]
          },
          "metadata": {},
          "execution_count": 144
        }
      ]
    },
    {
      "cell_type": "code",
      "source": [
        "print((np.mean(test_scores_rnn), np.std(test_scores_rnn)))"
      ],
      "metadata": {
        "colab": {
          "base_uri": "https://localhost:8080/"
        },
        "id": "S8CQnEle4Gme",
        "outputId": "12ba56a2-d4c5-4d84-ac7f-bc4d3ad5a0df"
      },
      "execution_count": 145,
      "outputs": [
        {
          "output_type": "stream",
          "name": "stdout",
          "text": [
            "(0.42339265942573545, 0.021605471619029915)\n"
          ]
        }
      ]
    }
  ]
}