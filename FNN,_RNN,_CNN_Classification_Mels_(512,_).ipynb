{
  "nbformat": 4,
  "nbformat_minor": 0,
  "metadata": {
    "colab": {
      "name": "FNN, RNN, CNN Classification Mels (512, )",
      "provenance": [],
      "collapsed_sections": [],
      "toc_visible": true,
      "mount_file_id": "1M_7B0mDdvpgQud-mFDkjv1n2uzi5xODi",
      "authorship_tag": "ABX9TyOn6Jr3kM8UjP5Yf/0CEOYr",
      "include_colab_link": true
    },
    "kernelspec": {
      "name": "python3",
      "display_name": "Python 3"
    },
    "language_info": {
      "name": "python"
    }
  },
  "cells": [
    {
      "cell_type": "markdown",
      "metadata": {
        "id": "view-in-github",
        "colab_type": "text"
      },
      "source": [
        "<a href=\"https://colab.research.google.com/github/angelinakhatiwada/Urban-Sound-Classification/blob/main/FNN%2C_RNN%2C_CNN_Classification_Mels_(512%2C_).ipynb\" target=\"_parent\"><img src=\"https://colab.research.google.com/assets/colab-badge.svg\" alt=\"Open In Colab\"/></a>"
      ]
    },
    {
      "cell_type": "markdown",
      "source": [
        "# Urban Sound Classification\n",
        "\n",
        "## Classification\n",
        "\n",
        "### Mels features 128 x 4\n",
        "\n"
      ],
      "metadata": {
        "id": "AP-HgoxBpsmf"
      }
    },
    {
      "cell_type": "code",
      "source": [
        "import pandas as pd\n",
        "import numpy as np\n",
        "\n",
        "import matplotlib.pyplot as plt\n",
        "\n",
        "import os\n",
        "\n",
        "import pickle"
      ],
      "metadata": {
        "id": "5JwNMRwvprqG"
      },
      "execution_count": 2,
      "outputs": []
    },
    {
      "cell_type": "code",
      "source": [
        "# Libraries for Classification and building Models\n",
        "\n",
        "from tensorflow.keras.models import Sequential\n",
        "from tensorflow.keras.layers import Activation, Conv2D, Flatten, Dense, MaxPool2D, Dropout, LSTM\n",
        "from tensorflow.keras.utils import to_categorical "
      ],
      "metadata": {
        "id": "CWL6eZ8_pphx"
      },
      "execution_count": 51,
      "outputs": []
    },
    {
      "cell_type": "markdown",
      "source": [
        "### Data import from pickle"
      ],
      "metadata": {
        "id": "WgV2ITtk6bnP"
      }
    },
    {
      "cell_type": "code",
      "source": [
        "with open('features_mels_512.p', 'rb') as f:\n",
        "    data = pickle.load(f)"
      ],
      "metadata": {
        "id": "Snpzh0wGbXS5"
      },
      "execution_count": 4,
      "outputs": []
    },
    {
      "cell_type": "code",
      "source": [
        "data.head()"
      ],
      "metadata": {
        "colab": {
          "base_uri": "https://localhost:8080/",
          "height": 206
        },
        "id": "5bsyYxkokeEX",
        "outputId": "0b6685bc-d62f-4a9b-c9b0-8895d89bd758"
      },
      "execution_count": 5,
      "outputs": [
        {
          "output_type": "execute_result",
          "data": {
            "text/html": [
              "\n",
              "  <div id=\"df-feb2e337-3a74-4281-b267-b66caaef3b3f\">\n",
              "    <div class=\"colab-df-container\">\n",
              "      <div>\n",
              "<style scoped>\n",
              "    .dataframe tbody tr th:only-of-type {\n",
              "        vertical-align: middle;\n",
              "    }\n",
              "\n",
              "    .dataframe tbody tr th {\n",
              "        vertical-align: top;\n",
              "    }\n",
              "\n",
              "    .dataframe thead th {\n",
              "        text-align: right;\n",
              "    }\n",
              "</style>\n",
              "<table border=\"1\" class=\"dataframe\">\n",
              "  <thead>\n",
              "    <tr style=\"text-align: right;\">\n",
              "      <th></th>\n",
              "      <th>features</th>\n",
              "      <th>shape</th>\n",
              "      <th>label</th>\n",
              "      <th>fold</th>\n",
              "      <th>file_name</th>\n",
              "    </tr>\n",
              "  </thead>\n",
              "  <tbody>\n",
              "    <tr>\n",
              "      <th>0</th>\n",
              "      <td>[6.7016525e-05, 0.0002738931, 0.00043046506, 0...</td>\n",
              "      <td>(512,)</td>\n",
              "      <td>3</td>\n",
              "      <td>5</td>\n",
              "      <td>100032-3-0-0.wav</td>\n",
              "    </tr>\n",
              "    <tr>\n",
              "      <th>1</th>\n",
              "      <td>[0.046293005, 0.046115912, 0.031325452, 0.0162...</td>\n",
              "      <td>(512,)</td>\n",
              "      <td>2</td>\n",
              "      <td>5</td>\n",
              "      <td>100263-2-0-117.wav</td>\n",
              "    </tr>\n",
              "    <tr>\n",
              "      <th>2</th>\n",
              "      <td>[0.028046967, 0.03285183, 0.030295085, 0.01307...</td>\n",
              "      <td>(512,)</td>\n",
              "      <td>2</td>\n",
              "      <td>5</td>\n",
              "      <td>100263-2-0-121.wav</td>\n",
              "    </tr>\n",
              "    <tr>\n",
              "      <th>3</th>\n",
              "      <td>[0.025350068, 0.04161336, 0.037191, 0.04856568...</td>\n",
              "      <td>(512,)</td>\n",
              "      <td>2</td>\n",
              "      <td>5</td>\n",
              "      <td>100263-2-0-126.wav</td>\n",
              "    </tr>\n",
              "    <tr>\n",
              "      <th>4</th>\n",
              "      <td>[0.05126126, 0.035394225, 0.01814437, 0.013484...</td>\n",
              "      <td>(512,)</td>\n",
              "      <td>2</td>\n",
              "      <td>5</td>\n",
              "      <td>100263-2-0-137.wav</td>\n",
              "    </tr>\n",
              "  </tbody>\n",
              "</table>\n",
              "</div>\n",
              "      <button class=\"colab-df-convert\" onclick=\"convertToInteractive('df-feb2e337-3a74-4281-b267-b66caaef3b3f')\"\n",
              "              title=\"Convert this dataframe to an interactive table.\"\n",
              "              style=\"display:none;\">\n",
              "        \n",
              "  <svg xmlns=\"http://www.w3.org/2000/svg\" height=\"24px\"viewBox=\"0 0 24 24\"\n",
              "       width=\"24px\">\n",
              "    <path d=\"M0 0h24v24H0V0z\" fill=\"none\"/>\n",
              "    <path d=\"M18.56 5.44l.94 2.06.94-2.06 2.06-.94-2.06-.94-.94-2.06-.94 2.06-2.06.94zm-11 1L8.5 8.5l.94-2.06 2.06-.94-2.06-.94L8.5 2.5l-.94 2.06-2.06.94zm10 10l.94 2.06.94-2.06 2.06-.94-2.06-.94-.94-2.06-.94 2.06-2.06.94z\"/><path d=\"M17.41 7.96l-1.37-1.37c-.4-.4-.92-.59-1.43-.59-.52 0-1.04.2-1.43.59L10.3 9.45l-7.72 7.72c-.78.78-.78 2.05 0 2.83L4 21.41c.39.39.9.59 1.41.59.51 0 1.02-.2 1.41-.59l7.78-7.78 2.81-2.81c.8-.78.8-2.07 0-2.86zM5.41 20L4 18.59l7.72-7.72 1.47 1.35L5.41 20z\"/>\n",
              "  </svg>\n",
              "      </button>\n",
              "      \n",
              "  <style>\n",
              "    .colab-df-container {\n",
              "      display:flex;\n",
              "      flex-wrap:wrap;\n",
              "      gap: 12px;\n",
              "    }\n",
              "\n",
              "    .colab-df-convert {\n",
              "      background-color: #E8F0FE;\n",
              "      border: none;\n",
              "      border-radius: 50%;\n",
              "      cursor: pointer;\n",
              "      display: none;\n",
              "      fill: #1967D2;\n",
              "      height: 32px;\n",
              "      padding: 0 0 0 0;\n",
              "      width: 32px;\n",
              "    }\n",
              "\n",
              "    .colab-df-convert:hover {\n",
              "      background-color: #E2EBFA;\n",
              "      box-shadow: 0px 1px 2px rgba(60, 64, 67, 0.3), 0px 1px 3px 1px rgba(60, 64, 67, 0.15);\n",
              "      fill: #174EA6;\n",
              "    }\n",
              "\n",
              "    [theme=dark] .colab-df-convert {\n",
              "      background-color: #3B4455;\n",
              "      fill: #D2E3FC;\n",
              "    }\n",
              "\n",
              "    [theme=dark] .colab-df-convert:hover {\n",
              "      background-color: #434B5C;\n",
              "      box-shadow: 0px 1px 3px 1px rgba(0, 0, 0, 0.15);\n",
              "      filter: drop-shadow(0px 1px 2px rgba(0, 0, 0, 0.3));\n",
              "      fill: #FFFFFF;\n",
              "    }\n",
              "  </style>\n",
              "\n",
              "      <script>\n",
              "        const buttonEl =\n",
              "          document.querySelector('#df-feb2e337-3a74-4281-b267-b66caaef3b3f button.colab-df-convert');\n",
              "        buttonEl.style.display =\n",
              "          google.colab.kernel.accessAllowed ? 'block' : 'none';\n",
              "\n",
              "        async function convertToInteractive(key) {\n",
              "          const element = document.querySelector('#df-feb2e337-3a74-4281-b267-b66caaef3b3f');\n",
              "          const dataTable =\n",
              "            await google.colab.kernel.invokeFunction('convertToInteractive',\n",
              "                                                     [key], {});\n",
              "          if (!dataTable) return;\n",
              "\n",
              "          const docLinkHtml = 'Like what you see? Visit the ' +\n",
              "            '<a target=\"_blank\" href=https://colab.research.google.com/notebooks/data_table.ipynb>data table notebook</a>'\n",
              "            + ' to learn more about interactive tables.';\n",
              "          element.innerHTML = '';\n",
              "          dataTable['output_type'] = 'display_data';\n",
              "          await google.colab.output.renderOutput(dataTable, element);\n",
              "          const docLink = document.createElement('div');\n",
              "          docLink.innerHTML = docLinkHtml;\n",
              "          element.appendChild(docLink);\n",
              "        }\n",
              "      </script>\n",
              "    </div>\n",
              "  </div>\n",
              "  "
            ],
            "text/plain": [
              "                                            features  ...           file_name\n",
              "0  [6.7016525e-05, 0.0002738931, 0.00043046506, 0...  ...    100032-3-0-0.wav\n",
              "1  [0.046293005, 0.046115912, 0.031325452, 0.0162...  ...  100263-2-0-117.wav\n",
              "2  [0.028046967, 0.03285183, 0.030295085, 0.01307...  ...  100263-2-0-121.wav\n",
              "3  [0.025350068, 0.04161336, 0.037191, 0.04856568...  ...  100263-2-0-126.wav\n",
              "4  [0.05126126, 0.035394225, 0.01814437, 0.013484...  ...  100263-2-0-137.wav\n",
              "\n",
              "[5 rows x 5 columns]"
            ]
          },
          "metadata": {},
          "execution_count": 5
        }
      ]
    },
    {
      "cell_type": "code",
      "source": [
        "data_final = list(data['features'])\n",
        "data_final = pd.DataFrame(data_final)\n",
        "data_cols = data_final.columns\n",
        "data_final['label'] = data['label']\n",
        "data_final['fold'] = data['fold']\n",
        "\n",
        "print(data_final.shape)\n"
      ],
      "metadata": {
        "colab": {
          "base_uri": "https://localhost:8080/"
        },
        "id": "w5s3ORGVlbpD",
        "outputId": "bb822a37-9988-4c1f-8a73-d3930ead504a"
      },
      "execution_count": 6,
      "outputs": [
        {
          "output_type": "stream",
          "name": "stdout",
          "text": [
            "(8732, 514)\n"
          ]
        }
      ]
    },
    {
      "cell_type": "code",
      "source": [
        "dummies = pd.get_dummies(data_final['label']).rename(columns=lambda x: 'label_' + str(x))\n",
        "data_final = pd.concat([data_final, dummies], axis=1)\n",
        "data_final.drop(['label'], inplace=True, axis=1)\n",
        "data_final.shape"
      ],
      "metadata": {
        "colab": {
          "base_uri": "https://localhost:8080/"
        },
        "id": "C_gi90Y3XL4y",
        "outputId": "baee429b-f0c3-40eb-b7c7-19235460f3b4"
      },
      "execution_count": 7,
      "outputs": [
        {
          "output_type": "execute_result",
          "data": {
            "text/plain": [
              "(8732, 523)"
            ]
          },
          "metadata": {},
          "execution_count": 7
        }
      ]
    },
    {
      "cell_type": "code",
      "source": [
        "def df_transform(fold):\n",
        "  X_fold_df = data_final[data_final['fold'].isin(fold)]\n",
        "  X = X_fold_df.iloc[:, 0:512].to_numpy()\n",
        "  y = X_fold_df.iloc[:, 513:523].to_numpy()\n",
        "\n",
        "  return X, y"
      ],
      "metadata": {
        "id": "RBFv78LFc8Am"
      },
      "execution_count": 8,
      "outputs": []
    },
    {
      "cell_type": "code",
      "source": [
        "X_train, y_train = df_transform(['1','2','3','4','6'])\n",
        "X_train.shape, y_train.shape"
      ],
      "metadata": {
        "colab": {
          "base_uri": "https://localhost:8080/"
        },
        "id": "nKx55fqEKStW",
        "outputId": "1ae46f5b-35c6-4d0f-b456-7910d737fb12"
      },
      "execution_count": 36,
      "outputs": [
        {
          "output_type": "execute_result",
          "data": {
            "text/plain": [
              "((4499, 512), (4499, 10))"
            ]
          },
          "metadata": {},
          "execution_count": 36
        }
      ]
    },
    {
      "cell_type": "code",
      "source": [
        "X_val, y_val = df_transform(['5'])\n",
        "X_val.shape, y_val.shape"
      ],
      "metadata": {
        "colab": {
          "base_uri": "https://localhost:8080/"
        },
        "id": "kkEA4Dexn1Ju",
        "outputId": "c6890849-9879-4e2c-ab89-ce1f07fd96ea"
      },
      "execution_count": 37,
      "outputs": [
        {
          "output_type": "execute_result",
          "data": {
            "text/plain": [
              "((936, 512), (936, 10))"
            ]
          },
          "metadata": {},
          "execution_count": 37
        }
      ]
    },
    {
      "cell_type": "code",
      "source": [
        "X_test7, y_test7 = df_transform(['7'])\n",
        "X_test8, y_test8 = df_transform(['8'])\n",
        "X_test9, y_test9 = df_transform(['9'])\n",
        "X_test10, y_test10 = df_transform(['10'])"
      ],
      "metadata": {
        "id": "9csBNDVfooJ5"
      },
      "execution_count": 38,
      "outputs": []
    },
    {
      "cell_type": "markdown",
      "source": [
        "## Classification"
      ],
      "metadata": {
        "id": "-RkR-uH80JQ8"
      }
    },
    {
      "cell_type": "code",
      "source": [
        "def plot_accuracy(history):\n",
        "  #accuracy\n",
        "  plt.figure(figsize=(8,3))\n",
        "  plt.plot(history.history['accuracy'])\n",
        "  plt.plot(history.history['val_accuracy'])\n",
        "  plt.title('model accuracy')\n",
        "  plt.ylabel('accuracy')\n",
        "  plt.xlabel('epoch')\n",
        "  plt.legend(['train', 'val'], loc='upper left')\n",
        "  plt.show()\n",
        "\n",
        "  #loss\n",
        "  plt.figure(figsize=(8,3))\n",
        "  plt.plot(history.history['loss'])\n",
        "  plt.plot(history.history['val_loss'])\n",
        "  plt.title('model loss')\n",
        "  plt.ylabel('loss')\n",
        "  plt.xlabel('epoch')\n",
        "  plt.legend(['train', 'val'], loc='upper left')\n",
        "  plt.show()"
      ],
      "metadata": {
        "id": "PFAKzqvmxZNb"
      },
      "execution_count": 13,
      "outputs": []
    },
    {
      "cell_type": "code",
      "source": [
        "def test_scores(model):\n",
        "  score5 = model.evaluate(X_val, y_val)\n",
        "  score7 = model.evaluate(X_test7, y_test7)\n",
        "  score8 = model.evaluate(X_test8, y_test8)\n",
        "  score9 = model.evaluate(X_test9, y_test9)\n",
        "  score10 = model.evaluate(X_test10, y_test10)\n",
        "  test_scores = [score5[1],score7[1],score8[1],score9[1],score10[1]]\n",
        "  \n",
        "  return test_scores"
      ],
      "metadata": {
        "id": "Y7Ff0z2dylyx"
      },
      "execution_count": 19,
      "outputs": []
    },
    {
      "cell_type": "markdown",
      "source": [
        "### CNN model"
      ],
      "metadata": {
        "id": "YujQfd7O6oef"
      }
    },
    {
      "cell_type": "code",
      "source": [
        "# data reshaping for CNN\n",
        "X_train = X_train.reshape(X_train.shape[0],128,4,1)\n",
        "X_val = X_val.reshape(X_val.shape[0],128,4,1)\n",
        "X_test7 = X_test7.reshape(X_test7.shape[0],128,4,1)\n",
        "X_test8 = X_test8.reshape(X_test8.shape[0],128,4,1)\n",
        "X_test9 = X_test9.reshape(X_test9.shape[0],128,4,1)\n",
        "X_test10 = X_test10.reshape(X_test10.shape[0],128,4,1)"
      ],
      "metadata": {
        "id": "podebSZ4p8vc"
      },
      "execution_count": 14,
      "outputs": []
    },
    {
      "cell_type": "code",
      "source": [
        "model = Sequential()\n",
        "input_dim = (128,4,1)\n",
        "\n",
        "model.add(Conv2D(64, (3, 3), padding = \"same\", activation = \"relu\", input_shape = input_dim))\n",
        "model.add(MaxPool2D(pool_size=(2, 2)))\n",
        "\n",
        "model.add(Conv2D(128, (3, 3), padding = \"same\", activation = \"relu\"))\n",
        "model.add(MaxPool2D(pool_size=(2, 2)))\n",
        "model.add(Dropout(0.2))\n",
        "\n",
        "model.add(Flatten())\n",
        "\n",
        "model.add(Dense(256, activation = \"relu\"))\n",
        "model.add(Dropout(0.2))\n",
        "\n",
        "model.add(Dense(512,activation=\"relu\"))\n",
        "model.add(Dropout(0.2))\n",
        "\n",
        "model.add(Dense(10, activation = \"softmax\"))\n",
        "\n",
        "model.summary()"
      ],
      "metadata": {
        "colab": {
          "base_uri": "https://localhost:8080/"
        },
        "id": "0NmMNTP0iKKP",
        "outputId": "fd25a3ed-6e84-4b48-a9de-c1f250aec219"
      },
      "execution_count": 15,
      "outputs": [
        {
          "output_type": "stream",
          "name": "stdout",
          "text": [
            "Model: \"sequential\"\n",
            "_________________________________________________________________\n",
            " Layer (type)                Output Shape              Param #   \n",
            "=================================================================\n",
            " conv2d (Conv2D)             (None, 128, 4, 64)        640       \n",
            "                                                                 \n",
            " max_pooling2d (MaxPooling2D  (None, 64, 2, 64)        0         \n",
            " )                                                               \n",
            "                                                                 \n",
            " conv2d_1 (Conv2D)           (None, 64, 2, 128)        73856     \n",
            "                                                                 \n",
            " max_pooling2d_1 (MaxPooling  (None, 32, 1, 128)       0         \n",
            " 2D)                                                             \n",
            "                                                                 \n",
            " dropout (Dropout)           (None, 32, 1, 128)        0         \n",
            "                                                                 \n",
            " flatten (Flatten)           (None, 4096)              0         \n",
            "                                                                 \n",
            " dense (Dense)               (None, 256)               1048832   \n",
            "                                                                 \n",
            " dropout_1 (Dropout)         (None, 256)               0         \n",
            "                                                                 \n",
            " dense_1 (Dense)             (None, 512)               131584    \n",
            "                                                                 \n",
            " dropout_2 (Dropout)         (None, 512)               0         \n",
            "                                                                 \n",
            " dense_2 (Dense)             (None, 10)                5130      \n",
            "                                                                 \n",
            "=================================================================\n",
            "Total params: 1,260,042\n",
            "Trainable params: 1,260,042\n",
            "Non-trainable params: 0\n",
            "_________________________________________________________________\n"
          ]
        }
      ]
    },
    {
      "cell_type": "code",
      "source": [
        "model.compile(optimizer = 'adam', loss = 'categorical_crossentropy', metrics = ['accuracy'])"
      ],
      "metadata": {
        "id": "FKQTgk72iKWV"
      },
      "execution_count": 16,
      "outputs": []
    },
    {
      "cell_type": "code",
      "source": [
        "history = model.fit(X_train, y_train, epochs = 30, batch_size = 128, validation_data =(X_val, y_val), verbose =True)"
      ],
      "metadata": {
        "colab": {
          "base_uri": "https://localhost:8080/"
        },
        "id": "4lUlb4o2iKaB",
        "outputId": "1d4914ee-3184-44df-db8f-12dd2266f055"
      },
      "execution_count": 17,
      "outputs": [
        {
          "output_type": "stream",
          "name": "stdout",
          "text": [
            "Epoch 1/30\n",
            "36/36 [==============================] - 10s 258ms/step - loss: 3.4732 - accuracy: 0.2427 - val_loss: 2.0570 - val_accuracy: 0.2874\n",
            "Epoch 2/30\n",
            "36/36 [==============================] - 9s 250ms/step - loss: 2.0023 - accuracy: 0.3505 - val_loss: 2.0397 - val_accuracy: 0.2618\n",
            "Epoch 3/30\n",
            "36/36 [==============================] - 9s 251ms/step - loss: 1.7533 - accuracy: 0.4125 - val_loss: 1.8949 - val_accuracy: 0.3259\n",
            "Epoch 4/30\n",
            "36/36 [==============================] - 9s 251ms/step - loss: 1.5694 - accuracy: 0.4721 - val_loss: 1.8209 - val_accuracy: 0.3697\n",
            "Epoch 5/30\n",
            "36/36 [==============================] - 9s 252ms/step - loss: 1.4743 - accuracy: 0.5134 - val_loss: 1.7689 - val_accuracy: 0.4316\n",
            "Epoch 6/30\n",
            "36/36 [==============================] - 9s 254ms/step - loss: 1.4249 - accuracy: 0.5366 - val_loss: 1.7212 - val_accuracy: 0.4444\n",
            "Epoch 7/30\n",
            "36/36 [==============================] - 9s 253ms/step - loss: 1.3037 - accuracy: 0.5672 - val_loss: 1.6611 - val_accuracy: 0.4455\n",
            "Epoch 8/30\n",
            "36/36 [==============================] - 9s 252ms/step - loss: 1.1981 - accuracy: 0.6001 - val_loss: 1.7147 - val_accuracy: 0.4605\n",
            "Epoch 9/30\n",
            "36/36 [==============================] - 9s 253ms/step - loss: 1.1584 - accuracy: 0.6228 - val_loss: 1.5781 - val_accuracy: 0.5182\n",
            "Epoch 10/30\n",
            "36/36 [==============================] - 9s 253ms/step - loss: 1.0464 - accuracy: 0.6568 - val_loss: 1.6218 - val_accuracy: 0.5182\n",
            "Epoch 11/30\n",
            "36/36 [==============================] - 9s 253ms/step - loss: 1.0025 - accuracy: 0.6637 - val_loss: 1.5327 - val_accuracy: 0.5171\n",
            "Epoch 12/30\n",
            "36/36 [==============================] - 9s 254ms/step - loss: 0.9743 - accuracy: 0.6753 - val_loss: 1.5408 - val_accuracy: 0.5331\n",
            "Epoch 13/30\n",
            "36/36 [==============================] - 9s 255ms/step - loss: 0.9920 - accuracy: 0.6766 - val_loss: 1.7451 - val_accuracy: 0.5417\n",
            "Epoch 14/30\n",
            "36/36 [==============================] - 9s 252ms/step - loss: 0.9214 - accuracy: 0.7066 - val_loss: 1.6003 - val_accuracy: 0.5310\n",
            "Epoch 15/30\n",
            "36/36 [==============================] - 9s 253ms/step - loss: 0.9077 - accuracy: 0.6975 - val_loss: 1.5576 - val_accuracy: 0.5267\n",
            "Epoch 16/30\n",
            "36/36 [==============================] - 9s 255ms/step - loss: 0.8787 - accuracy: 0.7130 - val_loss: 1.5394 - val_accuracy: 0.5160\n",
            "Epoch 17/30\n",
            "36/36 [==============================] - 9s 254ms/step - loss: 0.8364 - accuracy: 0.7251 - val_loss: 1.7501 - val_accuracy: 0.5267\n",
            "Epoch 18/30\n",
            "36/36 [==============================] - 9s 254ms/step - loss: 0.7673 - accuracy: 0.7411 - val_loss: 1.6490 - val_accuracy: 0.5459\n",
            "Epoch 19/30\n",
            "36/36 [==============================] - 9s 255ms/step - loss: 0.7168 - accuracy: 0.7571 - val_loss: 1.6881 - val_accuracy: 0.5203\n",
            "Epoch 20/30\n",
            "36/36 [==============================] - 9s 257ms/step - loss: 0.6764 - accuracy: 0.7760 - val_loss: 1.6989 - val_accuracy: 0.5780\n",
            "Epoch 21/30\n",
            "36/36 [==============================] - 9s 254ms/step - loss: 0.7355 - accuracy: 0.7666 - val_loss: 1.6696 - val_accuracy: 0.5577\n",
            "Epoch 22/30\n",
            "36/36 [==============================] - 9s 255ms/step - loss: 0.6490 - accuracy: 0.7828 - val_loss: 1.6862 - val_accuracy: 0.5406\n",
            "Epoch 23/30\n",
            "36/36 [==============================] - 9s 256ms/step - loss: 0.6233 - accuracy: 0.7937 - val_loss: 1.6774 - val_accuracy: 0.5673\n",
            "Epoch 24/30\n",
            "36/36 [==============================] - 9s 255ms/step - loss: 0.5845 - accuracy: 0.8046 - val_loss: 1.6635 - val_accuracy: 0.5844\n",
            "Epoch 25/30\n",
            "36/36 [==============================] - 9s 255ms/step - loss: 0.5650 - accuracy: 0.8113 - val_loss: 1.7053 - val_accuracy: 0.5662\n",
            "Epoch 26/30\n",
            "36/36 [==============================] - 9s 256ms/step - loss: 0.5401 - accuracy: 0.8213 - val_loss: 1.8765 - val_accuracy: 0.5331\n",
            "Epoch 27/30\n",
            "36/36 [==============================] - 9s 255ms/step - loss: 0.5673 - accuracy: 0.8182 - val_loss: 1.8583 - val_accuracy: 0.5630\n",
            "Epoch 28/30\n",
            "36/36 [==============================] - 9s 255ms/step - loss: 0.5161 - accuracy: 0.8291 - val_loss: 1.9854 - val_accuracy: 0.5791\n",
            "Epoch 29/30\n",
            "36/36 [==============================] - 9s 255ms/step - loss: 0.4673 - accuracy: 0.8444 - val_loss: 1.8385 - val_accuracy: 0.5769\n",
            "Epoch 30/30\n",
            "36/36 [==============================] - 9s 256ms/step - loss: 0.5687 - accuracy: 0.8266 - val_loss: 1.8526 - val_accuracy: 0.5545\n"
          ]
        }
      ]
    },
    {
      "cell_type": "code",
      "source": [
        "plot_accuracy(history)"
      ],
      "metadata": {
        "colab": {
          "base_uri": "https://localhost:8080/",
          "height": 465
        },
        "id": "pEQNhg8-5fV5",
        "outputId": "ed08b1b1-180f-4d4a-911a-d515d8573869"
      },
      "execution_count": 18,
      "outputs": [
        {
          "output_type": "display_data",
          "data": {
            "image/png": "[encoded data removed]",
            "text/plain": [
              "<Figure size 576x216 with 1 Axes>"
            ]
          },
          "metadata": {
            "needs_background": "light"
          }
        },
        {
          "output_type": "display_data",
          "data": {
            "image/png": "[encoded data removed]",
            "text/plain": [
              "<Figure size 576x216 with 1 Axes>"
            ]
          },
          "metadata": {
            "needs_background": "light"
          }
        }
      ]
    },
    {
      "cell_type": "code",
      "source": [
        "test_scores_cnn = test_scores(model)\n",
        "test_scores_cnn"
      ],
      "metadata": {
        "colab": {
          "base_uri": "https://localhost:8080/"
        },
        "id": "bdft_yV7yF6P",
        "outputId": "33acaf5b-d003-4cf7-b0e5-ee012df62ffc"
      },
      "execution_count": 22,
      "outputs": [
        {
          "output_type": "stream",
          "name": "stdout",
          "text": [
            "30/30 [==============================] - 1s 18ms/step - loss: 1.8526 - accuracy: 0.5545\n",
            "27/27 [==============================] - 1s 18ms/step - loss: 2.0394 - accuracy: 0.5811\n",
            "26/26 [==============================] - 0s 18ms/step - loss: 2.6955 - accuracy: 0.5385\n",
            "26/26 [==============================] - 0s 19ms/step - loss: 2.4187 - accuracy: 0.5527\n",
            "27/27 [==============================] - 0s 18ms/step - loss: 1.7120 - accuracy: 0.5484\n"
          ]
        },
        {
          "output_type": "execute_result",
          "data": {
            "text/plain": [
              "[0.5544871687889099,\n",
              " 0.5811455845832825,\n",
              " 0.5384615659713745,\n",
              " 0.5526960492134094,\n",
              " 0.5483871102333069]"
            ]
          },
          "metadata": {},
          "execution_count": 22
        }
      ]
    },
    {
      "cell_type": "code",
      "source": [
        "print((np.mean(test_scores_cnn), np.std(test_scores_cnn)))"
      ],
      "metadata": {
        "colab": {
          "base_uri": "https://localhost:8080/"
        },
        "id": "QdHa7DmcehKq",
        "outputId": "44c925ac-56a3-477d-e524-53245a6bea0f"
      },
      "execution_count": 23,
      "outputs": [
        {
          "output_type": "stream",
          "name": "stdout",
          "text": [
            "(0.5550354957580567, 0.014187364728666909)\n"
          ]
        }
      ]
    },
    {
      "cell_type": "markdown",
      "source": [
        "### FNN"
      ],
      "metadata": {
        "id": "JeYT0VFN7HrX"
      }
    },
    {
      "cell_type": "code",
      "source": [
        "# data reshaping for NN\n",
        "X_train = X_train.reshape(X_train.shape[0], 512)\n",
        "X_val = X_val.reshape(X_val.shape[0],512)\n",
        "X_test7 = X_test7.reshape(X_test7.shape[0],512)\n",
        "X_test8 = X_test8.reshape(X_test8.shape[0],512)\n",
        "X_test9 = X_test9.reshape(X_test9.shape[0],512)\n",
        "X_test10 = X_test10.reshape(X_test10.shape[0],512)"
      ],
      "metadata": {
        "id": "0RvkNaf8ehUB"
      },
      "execution_count": 31,
      "outputs": []
    },
    {
      "cell_type": "code",
      "source": [
        "X_train.shape, X_val.shape"
      ],
      "metadata": {
        "colab": {
          "base_uri": "https://localhost:8080/"
        },
        "id": "hXGnICR1ehXP",
        "outputId": "cc3b5636-f147-4e61-f77d-54ff8802a51d"
      },
      "execution_count": 32,
      "outputs": [
        {
          "output_type": "execute_result",
          "data": {
            "text/plain": [
              "((4499, 512), (936, 512))"
            ]
          },
          "metadata": {},
          "execution_count": 32
        }
      ]
    },
    {
      "cell_type": "code",
      "source": [
        "#forming model\n",
        "model=Sequential()\n",
        "\n",
        "#building the model\n",
        "model.add(Dense(units=512,activation='relu',input_dim=512))\n",
        "model.add(Dropout(0.1))\n",
        "model.add(Dense(units=256,activation='relu'))\n",
        "model.add(Dropout(0.1))\n",
        "model.add(Dense(units=128,activation='relu'))\n",
        "model.add(Dropout(0.1))\n",
        "model.add(Dense(units=64,activation='relu'))\n",
        "model.add(Dropout(0.1))\n",
        "model.add(Dense(units=10,activation='softmax'))\n",
        "model.summary()"
      ],
      "metadata": {
        "colab": {
          "base_uri": "https://localhost:8080/"
        },
        "id": "9XdKviQD9ht9",
        "outputId": "93245f10-0286-464d-a4f8-c1833daf237c"
      },
      "execution_count": 45,
      "outputs": [
        {
          "output_type": "stream",
          "name": "stdout",
          "text": [
            "Model: \"sequential_4\"\n",
            "_________________________________________________________________\n",
            " Layer (type)                Output Shape              Param #   \n",
            "=================================================================\n",
            " dense_18 (Dense)            (None, 512)               262656    \n",
            "                                                                 \n",
            " dropout_15 (Dropout)        (None, 512)               0         \n",
            "                                                                 \n",
            " dense_19 (Dense)            (None, 256)               131328    \n",
            "                                                                 \n",
            " dropout_16 (Dropout)        (None, 256)               0         \n",
            "                                                                 \n",
            " dense_20 (Dense)            (None, 128)               32896     \n",
            "                                                                 \n",
            " dropout_17 (Dropout)        (None, 128)               0         \n",
            "                                                                 \n",
            " dense_21 (Dense)            (None, 64)                8256      \n",
            "                                                                 \n",
            " dropout_18 (Dropout)        (None, 64)                0         \n",
            "                                                                 \n",
            " dense_22 (Dense)            (None, 10)                650       \n",
            "                                                                 \n",
            "=================================================================\n",
            "Total params: 435,786\n",
            "Trainable params: 435,786\n",
            "Non-trainable params: 0\n",
            "_________________________________________________________________\n"
          ]
        }
      ]
    },
    {
      "cell_type": "code",
      "source": [
        "#compiling\n",
        "model.compile(optimizer='adam',loss='categorical_crossentropy',metrics=['accuracy'])"
      ],
      "metadata": {
        "id": "RnQbAF9J9y05"
      },
      "execution_count": 46,
      "outputs": []
    },
    {
      "cell_type": "code",
      "source": [
        "history = model.fit(X_train,y_train,epochs=50 ,batch_size=64, validation_data = (X_val, y_val))"
      ],
      "metadata": {
        "colab": {
          "base_uri": "https://localhost:8080/"
        },
        "id": "2DUDC-MDEvYq",
        "outputId": "6658c011-4503-4faa-8bdf-b96535932892"
      },
      "execution_count": 47,
      "outputs": [
        {
          "output_type": "stream",
          "name": "stdout",
          "text": [
            "Epoch 1/50\n",
            "71/71 [==============================] - 1s 12ms/step - loss: 7.7674 - accuracy: 0.1947 - val_loss: 2.8546 - val_accuracy: 0.2115\n",
            "Epoch 2/50\n",
            "71/71 [==============================] - 1s 9ms/step - loss: 2.9992 - accuracy: 0.2643 - val_loss: 2.2771 - val_accuracy: 0.2885\n",
            "Epoch 3/50\n",
            "71/71 [==============================] - 1s 9ms/step - loss: 2.4628 - accuracy: 0.3016 - val_loss: 2.0501 - val_accuracy: 0.2970\n",
            "Epoch 4/50\n",
            "71/71 [==============================] - 1s 9ms/step - loss: 2.2165 - accuracy: 0.3250 - val_loss: 2.1793 - val_accuracy: 0.3344\n",
            "Epoch 5/50\n",
            "71/71 [==============================] - 1s 9ms/step - loss: 2.0664 - accuracy: 0.3705 - val_loss: 2.0837 - val_accuracy: 0.3568\n",
            "Epoch 6/50\n",
            "71/71 [==============================] - 1s 10ms/step - loss: 1.9384 - accuracy: 0.4265 - val_loss: 2.0462 - val_accuracy: 0.3226\n",
            "Epoch 7/50\n",
            "71/71 [==============================] - 1s 9ms/step - loss: 1.8317 - accuracy: 0.4388 - val_loss: 2.0281 - val_accuracy: 0.3504\n",
            "Epoch 8/50\n",
            "71/71 [==============================] - 1s 9ms/step - loss: 1.7484 - accuracy: 0.4621 - val_loss: 2.2253 - val_accuracy: 0.3515\n",
            "Epoch 9/50\n",
            "71/71 [==============================] - 1s 9ms/step - loss: 1.6405 - accuracy: 0.4872 - val_loss: 2.1377 - val_accuracy: 0.3590\n",
            "Epoch 10/50\n",
            "71/71 [==============================] - 1s 9ms/step - loss: 1.5998 - accuracy: 0.5052 - val_loss: 2.1980 - val_accuracy: 0.3419\n",
            "Epoch 11/50\n",
            "71/71 [==============================] - 1s 9ms/step - loss: 1.5332 - accuracy: 0.5079 - val_loss: 2.1756 - val_accuracy: 0.3996\n",
            "Epoch 12/50\n",
            "71/71 [==============================] - 1s 9ms/step - loss: 1.4917 - accuracy: 0.5352 - val_loss: 2.2712 - val_accuracy: 0.3974\n",
            "Epoch 13/50\n",
            "71/71 [==============================] - 1s 9ms/step - loss: 1.4319 - accuracy: 0.5515 - val_loss: 2.4349 - val_accuracy: 0.3889\n",
            "Epoch 14/50\n",
            "71/71 [==============================] - 1s 9ms/step - loss: 1.3253 - accuracy: 0.5726 - val_loss: 2.7229 - val_accuracy: 0.3761\n",
            "Epoch 15/50\n",
            "71/71 [==============================] - 1s 9ms/step - loss: 1.2621 - accuracy: 0.5915 - val_loss: 2.7179 - val_accuracy: 0.3953\n",
            "Epoch 16/50\n",
            "71/71 [==============================] - 1s 9ms/step - loss: 1.2161 - accuracy: 0.6026 - val_loss: 3.0464 - val_accuracy: 0.4124\n",
            "Epoch 17/50\n",
            "71/71 [==============================] - 1s 9ms/step - loss: 1.1578 - accuracy: 0.6199 - val_loss: 2.9806 - val_accuracy: 0.4274\n",
            "Epoch 18/50\n",
            "71/71 [==============================] - 1s 9ms/step - loss: 1.0825 - accuracy: 0.6499 - val_loss: 2.8603 - val_accuracy: 0.4359\n",
            "Epoch 19/50\n",
            "71/71 [==============================] - 1s 9ms/step - loss: 1.1143 - accuracy: 0.6457 - val_loss: 2.4722 - val_accuracy: 0.4209\n",
            "Epoch 20/50\n",
            "71/71 [==============================] - 1s 9ms/step - loss: 1.0618 - accuracy: 0.6464 - val_loss: 2.9752 - val_accuracy: 0.3868\n",
            "Epoch 21/50\n",
            "71/71 [==============================] - 1s 9ms/step - loss: 1.0676 - accuracy: 0.6599 - val_loss: 3.1073 - val_accuracy: 0.3793\n",
            "Epoch 22/50\n",
            "71/71 [==============================] - 1s 9ms/step - loss: 0.9612 - accuracy: 0.6902 - val_loss: 3.8215 - val_accuracy: 0.4060\n",
            "Epoch 23/50\n",
            "71/71 [==============================] - 1s 9ms/step - loss: 0.9490 - accuracy: 0.6990 - val_loss: 3.6809 - val_accuracy: 0.4348\n",
            "Epoch 24/50\n",
            "71/71 [==============================] - 1s 9ms/step - loss: 0.9526 - accuracy: 0.7037 - val_loss: 5.1565 - val_accuracy: 0.4316\n",
            "Epoch 25/50\n",
            "71/71 [==============================] - 1s 9ms/step - loss: 0.9547 - accuracy: 0.7030 - val_loss: 3.4183 - val_accuracy: 0.3953\n",
            "Epoch 26/50\n",
            "71/71 [==============================] - 1s 9ms/step - loss: 0.9498 - accuracy: 0.6946 - val_loss: 4.2367 - val_accuracy: 0.4466\n",
            "Epoch 27/50\n",
            "71/71 [==============================] - 1s 9ms/step - loss: 0.8904 - accuracy: 0.7217 - val_loss: 3.4004 - val_accuracy: 0.4209\n",
            "Epoch 28/50\n",
            "71/71 [==============================] - 1s 9ms/step - loss: 0.8401 - accuracy: 0.7382 - val_loss: 3.5996 - val_accuracy: 0.4765\n",
            "Epoch 29/50\n",
            "71/71 [==============================] - 1s 9ms/step - loss: 0.8384 - accuracy: 0.7359 - val_loss: 4.3284 - val_accuracy: 0.4701\n",
            "Epoch 30/50\n",
            "71/71 [==============================] - 1s 9ms/step - loss: 0.7749 - accuracy: 0.7531 - val_loss: 3.8397 - val_accuracy: 0.4380\n",
            "Epoch 31/50\n",
            "71/71 [==============================] - 1s 9ms/step - loss: 0.7340 - accuracy: 0.7673 - val_loss: 4.1948 - val_accuracy: 0.4434\n",
            "Epoch 32/50\n",
            "71/71 [==============================] - 1s 9ms/step - loss: 0.7360 - accuracy: 0.7684 - val_loss: 3.6861 - val_accuracy: 0.4519\n",
            "Epoch 33/50\n",
            "71/71 [==============================] - 1s 8ms/step - loss: 0.6935 - accuracy: 0.7782 - val_loss: 4.6162 - val_accuracy: 0.4562\n",
            "Epoch 34/50\n",
            "71/71 [==============================] - 1s 9ms/step - loss: 0.6735 - accuracy: 0.7868 - val_loss: 3.9277 - val_accuracy: 0.4658\n",
            "Epoch 35/50\n",
            "71/71 [==============================] - 1s 9ms/step - loss: 0.6315 - accuracy: 0.7957 - val_loss: 3.4929 - val_accuracy: 0.4551\n",
            "Epoch 36/50\n",
            "71/71 [==============================] - 1s 9ms/step - loss: 0.7609 - accuracy: 0.7624 - val_loss: 4.1256 - val_accuracy: 0.4263\n",
            "Epoch 37/50\n",
            "71/71 [==============================] - 1s 9ms/step - loss: 0.7189 - accuracy: 0.7679 - val_loss: 4.3645 - val_accuracy: 0.4509\n",
            "Epoch 38/50\n",
            "71/71 [==============================] - 1s 9ms/step - loss: 0.6133 - accuracy: 0.8024 - val_loss: 3.3682 - val_accuracy: 0.4423\n",
            "Epoch 39/50\n",
            "71/71 [==============================] - 1s 9ms/step - loss: 0.5835 - accuracy: 0.8077 - val_loss: 3.8861 - val_accuracy: 0.4658\n",
            "Epoch 40/50\n",
            "71/71 [==============================] - 1s 9ms/step - loss: 0.5833 - accuracy: 0.8144 - val_loss: 4.2697 - val_accuracy: 0.4722\n",
            "Epoch 41/50\n",
            "71/71 [==============================] - 1s 9ms/step - loss: 0.6905 - accuracy: 0.7922 - val_loss: 4.6071 - val_accuracy: 0.4284\n",
            "Epoch 42/50\n",
            "71/71 [==============================] - 1s 9ms/step - loss: 0.6011 - accuracy: 0.7995 - val_loss: 4.7194 - val_accuracy: 0.4840\n",
            "Epoch 43/50\n",
            "71/71 [==============================] - 1s 9ms/step - loss: 0.5503 - accuracy: 0.8204 - val_loss: 4.2831 - val_accuracy: 0.4733\n",
            "Epoch 44/50\n",
            "71/71 [==============================] - 1s 9ms/step - loss: 0.5065 - accuracy: 0.8369 - val_loss: 4.1723 - val_accuracy: 0.4882\n",
            "Epoch 45/50\n",
            "71/71 [==============================] - 1s 9ms/step - loss: 0.5423 - accuracy: 0.8331 - val_loss: 3.3560 - val_accuracy: 0.4840\n",
            "Epoch 46/50\n",
            "71/71 [==============================] - 1s 9ms/step - loss: 0.5069 - accuracy: 0.8360 - val_loss: 4.8295 - val_accuracy: 0.4925\n",
            "Epoch 47/50\n",
            "71/71 [==============================] - 1s 9ms/step - loss: 0.4446 - accuracy: 0.8457 - val_loss: 4.3379 - val_accuracy: 0.5107\n",
            "Epoch 48/50\n",
            "71/71 [==============================] - 1s 9ms/step - loss: 0.4208 - accuracy: 0.8597 - val_loss: 5.5341 - val_accuracy: 0.4979\n",
            "Epoch 49/50\n",
            "71/71 [==============================] - 1s 9ms/step - loss: 0.4227 - accuracy: 0.8589 - val_loss: 5.9221 - val_accuracy: 0.4765\n",
            "Epoch 50/50\n",
            "71/71 [==============================] - 1s 9ms/step - loss: 0.4681 - accuracy: 0.8606 - val_loss: 4.8805 - val_accuracy: 0.5032\n"
          ]
        }
      ]
    },
    {
      "cell_type": "code",
      "source": [
        "plot_accuracy(history)"
      ],
      "metadata": {
        "colab": {
          "base_uri": "https://localhost:8080/",
          "height": 465
        },
        "id": "uN7BnUyx-k_7",
        "outputId": "7cbe488c-8f90-47c1-be3a-db2b2b7a6ad6"
      },
      "execution_count": 48,
      "outputs": [
        {
          "output_type": "display_data",
          "data": {
            "image/png": "[encoded data removed]",
            "text/plain": [
              "<Figure size 576x216 with 1 Axes>"
            ]
          },
          "metadata": {
            "needs_background": "light"
          }
        },
        {
          "output_type": "display_data",
          "data": {
            "image/png": "[encoded data removed]",
            "text/plain": [
              "<Figure size 576x216 with 1 Axes>"
            ]
          },
          "metadata": {
            "needs_background": "light"
          }
        }
      ]
    },
    {
      "cell_type": "code",
      "source": [
        "test_scores_fnn = test_scores(model)\n",
        "test_scores_fnn"
      ],
      "metadata": {
        "colab": {
          "base_uri": "https://localhost:8080/"
        },
        "id": "HedronIUOnbM",
        "outputId": "0d4e67e0-beb2-4146-a0ce-0ca7f3b320cf"
      },
      "execution_count": 49,
      "outputs": [
        {
          "output_type": "stream",
          "name": "stdout",
          "text": [
            "30/30 [==============================] - 0s 3ms/step - loss: 4.8805 - accuracy: 0.5032\n",
            "27/27 [==============================] - 0s 3ms/step - loss: 2.9935 - accuracy: 0.4940\n",
            "26/26 [==============================] - 0s 3ms/step - loss: 5.0688 - accuracy: 0.5571\n",
            "26/26 [==============================] - 0s 2ms/step - loss: 4.4665 - accuracy: 0.5184\n",
            "27/27 [==============================] - 0s 3ms/step - loss: 2.6266 - accuracy: 0.5018\n"
          ]
        },
        {
          "output_type": "execute_result",
          "data": {
            "text/plain": [
              "[0.5032051205635071,\n",
              " 0.49403342604637146,\n",
              " 0.5570719838142395,\n",
              " 0.5183823704719543,\n",
              " 0.5017921328544617]"
            ]
          },
          "metadata": {},
          "execution_count": 49
        }
      ]
    },
    {
      "cell_type": "code",
      "source": [
        "print((np.mean(test_scores_fnn), np.std(test_scores_fnn)))"
      ],
      "metadata": {
        "colab": {
          "base_uri": "https://localhost:8080/"
        },
        "id": "JM0NnkDR70tU",
        "outputId": "4757afa0-dc81-4511-86e3-f59be4be2358"
      },
      "execution_count": 50,
      "outputs": [
        {
          "output_type": "stream",
          "name": "stdout",
          "text": [
            "(0.5148970067501069, 0.02251489894641382)\n"
          ]
        }
      ]
    },
    {
      "cell_type": "markdown",
      "source": [
        "### RNN"
      ],
      "metadata": {
        "id": "wx2Pw1Dv2IqU"
      }
    },
    {
      "cell_type": "code",
      "source": [
        "# data reshaping for RNN\n",
        "X_train = X_train.reshape(X_train.shape[0],128,4)\n",
        "X_val = X_val.reshape(X_val.shape[0],128,4)\n",
        "X_test7 = X_test7.reshape(X_test7.shape[0],128,4)\n",
        "X_test8 = X_test8.reshape(X_test8.shape[0],128,4)\n",
        "X_test9 = X_test9.reshape(X_test9.shape[0],128,4)\n",
        "X_test10 = X_test10.reshape(X_test10.shape[0],128,4)"
      ],
      "metadata": {
        "id": "9Phb6Dx8Jo4t"
      },
      "execution_count": 52,
      "outputs": []
    },
    {
      "cell_type": "code",
      "source": [
        "# Neural network model\n",
        "input_shape = (128,4)\n",
        "\n",
        "model = Sequential()\n",
        "model.add(LSTM(128,input_shape=input_shape, dropout = 0.2, recurrent_dropout = 0.2))\n",
        "model.add(Dense(128, activation='relu'))\n",
        "model.add(Dropout(0.2))\n",
        "model.add(Dense(64, activation='relu'))\n",
        "model.add(Dropout(0.2))\n",
        "model.add(Dense(32, activation='relu'))\n",
        "model.add(Dropout(0.2))\n",
        "model.add(Dense(10, activation='softmax'))\n",
        "model.summary()"
      ],
      "metadata": {
        "colab": {
          "base_uri": "https://localhost:8080/"
        },
        "id": "SFS_fkUnxCvq",
        "outputId": "92c9ce40-0fec-4ed6-8eba-e3aa8c023840"
      },
      "execution_count": 59,
      "outputs": [
        {
          "output_type": "stream",
          "name": "stdout",
          "text": [
            "Model: \"sequential_7\"\n",
            "_________________________________________________________________\n",
            " Layer (type)                Output Shape              Param #   \n",
            "=================================================================\n",
            " lstm_2 (LSTM)               (None, 128)               68096     \n",
            "                                                                 \n",
            " dense_31 (Dense)            (None, 128)               16512     \n",
            "                                                                 \n",
            " dropout_25 (Dropout)        (None, 128)               0         \n",
            "                                                                 \n",
            " dense_32 (Dense)            (None, 64)                8256      \n",
            "                                                                 \n",
            " dropout_26 (Dropout)        (None, 64)                0         \n",
            "                                                                 \n",
            " dense_33 (Dense)            (None, 32)                2080      \n",
            "                                                                 \n",
            " dropout_27 (Dropout)        (None, 32)                0         \n",
            "                                                                 \n",
            " dense_34 (Dense)            (None, 10)                330       \n",
            "                                                                 \n",
            "=================================================================\n",
            "Total params: 95,274\n",
            "Trainable params: 95,274\n",
            "Non-trainable params: 0\n",
            "_________________________________________________________________\n"
          ]
        }
      ]
    },
    {
      "cell_type": "code",
      "source": [
        "model.compile(optimizer='adam',loss='categorical_crossentropy',metrics=['accuracy'])"
      ],
      "metadata": {
        "id": "dlwGfvmYxC4b"
      },
      "execution_count": 60,
      "outputs": []
    },
    {
      "cell_type": "code",
      "source": [
        "history = model.fit(X_train,y_train,epochs=50 ,batch_size=128, validation_data = (X_val, y_val))"
      ],
      "metadata": {
        "colab": {
          "base_uri": "https://localhost:8080/"
        },
        "id": "NDCv1mlixC8e",
        "outputId": "6dd3c380-5dc9-4424-e284-705db5513863"
      },
      "execution_count": 61,
      "outputs": [
        {
          "output_type": "stream",
          "name": "stdout",
          "text": [
            "Epoch 1/50\n",
            "36/36 [==============================] - 19s 461ms/step - loss: 2.2570 - accuracy: 0.1387 - val_loss: 2.2982 - val_accuracy: 0.0812\n",
            "Epoch 2/50\n",
            "36/36 [==============================] - 16s 450ms/step - loss: 2.1864 - accuracy: 0.1736 - val_loss: 2.1830 - val_accuracy: 0.2137\n",
            "Epoch 3/50\n",
            "36/36 [==============================] - 16s 449ms/step - loss: 2.0626 - accuracy: 0.2334 - val_loss: 2.0857 - val_accuracy: 0.1944\n",
            "Epoch 4/50\n",
            "36/36 [==============================] - 16s 448ms/step - loss: 1.9994 - accuracy: 0.2576 - val_loss: 1.9833 - val_accuracy: 0.2094\n",
            "Epoch 5/50\n",
            "36/36 [==============================] - 16s 450ms/step - loss: 1.9218 - accuracy: 0.3001 - val_loss: 2.0379 - val_accuracy: 0.1891\n",
            "Epoch 6/50\n",
            "36/36 [==============================] - 16s 450ms/step - loss: 1.8898 - accuracy: 0.2992 - val_loss: 1.9492 - val_accuracy: 0.2457\n",
            "Epoch 7/50\n",
            "36/36 [==============================] - 16s 451ms/step - loss: 1.8065 - accuracy: 0.3303 - val_loss: 1.9752 - val_accuracy: 0.2660\n",
            "Epoch 8/50\n",
            "36/36 [==============================] - 16s 451ms/step - loss: 1.7683 - accuracy: 0.3476 - val_loss: 1.9839 - val_accuracy: 0.2607\n",
            "Epoch 9/50\n",
            "36/36 [==============================] - 16s 451ms/step - loss: 1.7214 - accuracy: 0.3683 - val_loss: 1.9974 - val_accuracy: 0.2853\n",
            "Epoch 10/50\n",
            "36/36 [==============================] - 16s 450ms/step - loss: 1.7074 - accuracy: 0.3856 - val_loss: 1.8264 - val_accuracy: 0.3162\n",
            "Epoch 11/50\n",
            "36/36 [==============================] - 16s 448ms/step - loss: 1.6452 - accuracy: 0.4143 - val_loss: 1.9887 - val_accuracy: 0.3152\n",
            "Epoch 12/50\n",
            "36/36 [==============================] - 16s 453ms/step - loss: 1.6331 - accuracy: 0.4088 - val_loss: 1.8514 - val_accuracy: 0.3162\n",
            "Epoch 13/50\n",
            "36/36 [==============================] - 16s 452ms/step - loss: 1.5797 - accuracy: 0.4283 - val_loss: 1.8402 - val_accuracy: 0.4103\n",
            "Epoch 14/50\n",
            "36/36 [==============================] - 16s 449ms/step - loss: 1.5492 - accuracy: 0.4370 - val_loss: 1.8846 - val_accuracy: 0.3291\n",
            "Epoch 15/50\n",
            "36/36 [==============================] - 16s 452ms/step - loss: 1.5152 - accuracy: 0.4585 - val_loss: 2.0911 - val_accuracy: 0.2863\n",
            "Epoch 16/50\n",
            "36/36 [==============================] - 16s 453ms/step - loss: 1.4908 - accuracy: 0.4661 - val_loss: 1.8928 - val_accuracy: 0.3526\n",
            "Epoch 17/50\n",
            "36/36 [==============================] - 16s 450ms/step - loss: 1.4654 - accuracy: 0.4721 - val_loss: 1.8754 - val_accuracy: 0.3932\n",
            "Epoch 18/50\n",
            "36/36 [==============================] - 16s 451ms/step - loss: 1.4116 - accuracy: 0.5028 - val_loss: 2.0402 - val_accuracy: 0.3194\n",
            "Epoch 19/50\n",
            "36/36 [==============================] - 16s 450ms/step - loss: 1.4331 - accuracy: 0.4930 - val_loss: 1.8468 - val_accuracy: 0.4124\n",
            "Epoch 20/50\n",
            "36/36 [==============================] - 16s 454ms/step - loss: 1.3622 - accuracy: 0.5137 - val_loss: 1.7456 - val_accuracy: 0.4402\n",
            "Epoch 21/50\n",
            "36/36 [==============================] - 16s 451ms/step - loss: 1.3459 - accuracy: 0.5203 - val_loss: 1.9437 - val_accuracy: 0.4049\n",
            "Epoch 22/50\n",
            "36/36 [==============================] - 16s 451ms/step - loss: 1.3455 - accuracy: 0.5266 - val_loss: 1.9390 - val_accuracy: 0.3643\n",
            "Epoch 23/50\n",
            "36/36 [==============================] - 16s 452ms/step - loss: 1.3676 - accuracy: 0.5172 - val_loss: 1.8495 - val_accuracy: 0.3953\n",
            "Epoch 24/50\n",
            "36/36 [==============================] - 16s 451ms/step - loss: 1.2961 - accuracy: 0.5475 - val_loss: 1.9962 - val_accuracy: 0.4359\n",
            "Epoch 25/50\n",
            "36/36 [==============================] - 16s 450ms/step - loss: 1.2672 - accuracy: 0.5568 - val_loss: 1.8417 - val_accuracy: 0.4113\n",
            "Epoch 26/50\n",
            "36/36 [==============================] - 16s 451ms/step - loss: 1.2627 - accuracy: 0.5668 - val_loss: 2.0124 - val_accuracy: 0.3910\n",
            "Epoch 27/50\n",
            "36/36 [==============================] - 16s 452ms/step - loss: 1.2310 - accuracy: 0.5708 - val_loss: 1.9517 - val_accuracy: 0.4124\n",
            "Epoch 28/50\n",
            "36/36 [==============================] - 16s 451ms/step - loss: 1.2221 - accuracy: 0.5750 - val_loss: 1.8363 - val_accuracy: 0.4498\n",
            "Epoch 29/50\n",
            "36/36 [==============================] - 16s 451ms/step - loss: 1.2002 - accuracy: 0.5926 - val_loss: 2.0032 - val_accuracy: 0.4209\n",
            "Epoch 30/50\n",
            "36/36 [==============================] - 16s 449ms/step - loss: 1.1503 - accuracy: 0.6052 - val_loss: 2.1475 - val_accuracy: 0.3622\n",
            "Epoch 31/50\n",
            "36/36 [==============================] - 16s 453ms/step - loss: 1.1944 - accuracy: 0.5904 - val_loss: 2.3226 - val_accuracy: 0.3686\n",
            "Epoch 32/50\n",
            "36/36 [==============================] - 16s 452ms/step - loss: 1.1512 - accuracy: 0.6072 - val_loss: 2.2137 - val_accuracy: 0.3900\n",
            "Epoch 33/50\n",
            "36/36 [==============================] - 16s 450ms/step - loss: 1.1513 - accuracy: 0.6021 - val_loss: 2.0360 - val_accuracy: 0.3793\n",
            "Epoch 34/50\n",
            "36/36 [==============================] - 16s 451ms/step - loss: 1.0988 - accuracy: 0.6246 - val_loss: 2.1203 - val_accuracy: 0.4113\n",
            "Epoch 35/50\n",
            "36/36 [==============================] - 16s 453ms/step - loss: 1.0892 - accuracy: 0.6346 - val_loss: 2.1110 - val_accuracy: 0.4006\n",
            "Epoch 36/50\n",
            "36/36 [==============================] - 16s 450ms/step - loss: 1.0726 - accuracy: 0.6466 - val_loss: 2.2391 - val_accuracy: 0.3889\n",
            "Epoch 37/50\n",
            "36/36 [==============================] - 16s 450ms/step - loss: 1.0629 - accuracy: 0.6461 - val_loss: 2.0425 - val_accuracy: 0.4017\n",
            "Epoch 38/50\n",
            "36/36 [==============================] - 16s 451ms/step - loss: 1.0673 - accuracy: 0.6455 - val_loss: 2.2015 - val_accuracy: 0.4081\n",
            "Epoch 39/50\n",
            "36/36 [==============================] - 16s 453ms/step - loss: 1.0769 - accuracy: 0.6413 - val_loss: 2.1121 - val_accuracy: 0.3942\n",
            "Epoch 40/50\n",
            "36/36 [==============================] - 16s 450ms/step - loss: 1.0354 - accuracy: 0.6519 - val_loss: 2.0345 - val_accuracy: 0.4348\n",
            "Epoch 41/50\n",
            "36/36 [==============================] - 16s 450ms/step - loss: 1.0115 - accuracy: 0.6613 - val_loss: 2.1800 - val_accuracy: 0.4391\n",
            "Epoch 42/50\n",
            "36/36 [==============================] - 16s 452ms/step - loss: 0.9766 - accuracy: 0.6819 - val_loss: 2.1995 - val_accuracy: 0.4081\n",
            "Epoch 43/50\n",
            "36/36 [==============================] - 16s 451ms/step - loss: 1.0103 - accuracy: 0.6630 - val_loss: 2.1720 - val_accuracy: 0.3868\n",
            "Epoch 44/50\n",
            "36/36 [==============================] - 16s 452ms/step - loss: 0.9853 - accuracy: 0.6675 - val_loss: 2.1307 - val_accuracy: 0.4231\n",
            "Epoch 45/50\n",
            "36/36 [==============================] - 16s 450ms/step - loss: 0.9625 - accuracy: 0.6804 - val_loss: 2.2266 - val_accuracy: 0.4135\n",
            "Epoch 46/50\n",
            "36/36 [==============================] - 16s 452ms/step - loss: 0.9874 - accuracy: 0.6806 - val_loss: 2.2541 - val_accuracy: 0.4145\n",
            "Epoch 47/50\n",
            "36/36 [==============================] - 16s 449ms/step - loss: 0.9264 - accuracy: 0.6955 - val_loss: 2.3168 - val_accuracy: 0.3878\n",
            "Epoch 48/50\n",
            "36/36 [==============================] - 16s 450ms/step - loss: 0.9259 - accuracy: 0.7002 - val_loss: 2.4008 - val_accuracy: 0.4348\n",
            "Epoch 49/50\n",
            "36/36 [==============================] - 16s 453ms/step - loss: 0.9369 - accuracy: 0.6930 - val_loss: 2.4180 - val_accuracy: 0.4391\n",
            "Epoch 50/50\n",
            "36/36 [==============================] - 16s 453ms/step - loss: 0.8786 - accuracy: 0.7166 - val_loss: 2.4285 - val_accuracy: 0.4338\n"
          ]
        }
      ]
    },
    {
      "cell_type": "code",
      "source": [
        "plot_accuracy(history)"
      ],
      "metadata": {
        "colab": {
          "base_uri": "https://localhost:8080/",
          "height": 465
        },
        "id": "qsAY-Q122Zst",
        "outputId": "50c8227b-aa1d-4030-f4c1-f1b7a415b865"
      },
      "execution_count": 62,
      "outputs": [
        {
          "output_type": "display_data",
          "data": {
            "image/png": "[encoded data removed]",
            "text/plain": [
              "<Figure size 576x216 with 1 Axes>"
            ]
          },
          "metadata": {
            "needs_background": "light"
          }
        },
        {
          "output_type": "display_data",
          "data": {
            "image/png": "[encoded data removed]",
            "text/plain": [
              "<Figure size 576x216 with 1 Axes>"
            ]
          },
          "metadata": {
            "needs_background": "light"
          }
        }
      ]
    },
    {
      "cell_type": "code",
      "source": [
        "test_scores_rnn = test_scores(model)\n",
        "test_scores_rnn"
      ],
      "metadata": {
        "colab": {
          "base_uri": "https://localhost:8080/"
        },
        "id": "FvZmKfzVxDBH",
        "outputId": "391e86b1-ddfd-43a5-9aeb-b6e37dc18175"
      },
      "execution_count": 63,
      "outputs": [
        {
          "output_type": "stream",
          "name": "stdout",
          "text": [
            "30/30 [==============================] - 1s 36ms/step - loss: 2.4285 - accuracy: 0.4338\n",
            "27/27 [==============================] - 1s 33ms/step - loss: 1.9004 - accuracy: 0.4737\n",
            "26/26 [==============================] - 1s 33ms/step - loss: 1.9729 - accuracy: 0.4777\n",
            "26/26 [==============================] - 1s 32ms/step - loss: 2.4346 - accuracy: 0.4387\n",
            "27/27 [==============================] - 1s 32ms/step - loss: 1.8347 - accuracy: 0.4600\n"
          ]
        },
        {
          "output_type": "execute_result",
          "data": {
            "text/plain": [
              "[0.4337606728076935,\n",
              " 0.47374701499938965,\n",
              " 0.4776674807071686,\n",
              " 0.4387255012989044,\n",
              " 0.45997610688209534]"
            ]
          },
          "metadata": {},
          "execution_count": 63
        }
      ]
    },
    {
      "cell_type": "code",
      "source": [
        "print((np.mean(test_scores_rnn), np.std(test_scores_rnn)))"
      ],
      "metadata": {
        "colab": {
          "base_uri": "https://localhost:8080/"
        },
        "id": "S8CQnEle4Gme",
        "outputId": "2a424a67-ea03-4bd0-f3ca-d78e0bcc0648"
      },
      "execution_count": 64,
      "outputs": [
        {
          "output_type": "stream",
          "name": "stdout",
          "text": [
            "(0.4567753553390503, 0.01783387668093271)\n"
          ]
        }
      ]
    }
  ]
}