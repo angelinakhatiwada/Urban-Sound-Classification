{
  "nbformat": 4,
  "nbformat_minor": 0,
  "metadata": {
    "colab": {
      "name": "FNN RNN CNN Mels (40_64)",
      "provenance": [],
      "collapsed_sections": [],
      "toc_visible": true,
      "mount_file_id": "1M_7B0mDdvpgQud-mFDkjv1n2uzi5xODi",
      "authorship_tag": "ABX9TyNLKFNXdpxU9d/HXiorRntQ",
      "include_colab_link": true
    },
    "kernelspec": {
      "name": "python3",
      "display_name": "Python 3"
    },
    "language_info": {
      "name": "python"
    }
  },
  "cells": [
    {
      "cell_type": "markdown",
      "metadata": {
        "id": "view-in-github",
        "colab_type": "text"
      },
      "source": [
        "<a href=\"https://colab.research.google.com/github/angelinakhatiwada/Urban-Sound-Classification/blob/main/FNN_RNN_CNN_Mels_(40_64).ipynb\" target=\"_parent\"><img src=\"https://colab.research.google.com/assets/colab-badge.svg\" alt=\"Open In Colab\"/></a>"
      ]
    },
    {
      "cell_type": "markdown",
      "source": [
        "# Urban Sound Classification\n",
        "\n",
        "## Classification\n",
        "\n",
        "### Mels (40,64)\n",
        "\n"
      ],
      "metadata": {
        "id": "AP-HgoxBpsmf"
      }
    },
    {
      "cell_type": "code",
      "source": [
        "import pandas as pd\n",
        "import numpy as np\n",
        "\n",
        "import matplotlib.pyplot as plt\n",
        "import seaborn as sns\n",
        "sns.set(font_scale=1)\n",
        "\n",
        "from sklearn.metrics import classification_report\n",
        "import os\n",
        "\n",
        "import pickle"
      ],
      "metadata": {
        "id": "5JwNMRwvprqG"
      },
      "execution_count": 20,
      "outputs": []
    },
    {
      "cell_type": "code",
      "source": [
        "# Libraries for Classification and building Models\n",
        "\n",
        "from tensorflow.keras.models import Sequential\n",
        "from tensorflow.keras.layers import Activation, Conv2D, Flatten, Dense, MaxPool2D, Dropout, LSTM\n",
        "from tensorflow.keras.utils import to_categorical \n",
        "from keras.callbacks import EarlyStopping,ReduceLROnPlateau,ModelCheckpoint,TensorBoard,ProgbarLogger"
      ],
      "metadata": {
        "id": "CWL6eZ8_pphx"
      },
      "execution_count": 64,
      "outputs": []
    },
    {
      "cell_type": "markdown",
      "source": [
        "### Data import from pickle"
      ],
      "metadata": {
        "id": "WgV2ITtk6bnP"
      }
    },
    {
      "cell_type": "code",
      "source": [
        "with open('features_mels_40_64.p', 'rb') as f:\n",
        "    data = pickle.load(f)"
      ],
      "metadata": {
        "id": "Snpzh0wGbXS5"
      },
      "execution_count": 3,
      "outputs": []
    },
    {
      "cell_type": "code",
      "source": [
        "data.head()"
      ],
      "metadata": {
        "colab": {
          "base_uri": "https://localhost:8080/",
          "height": 206
        },
        "id": "5bsyYxkokeEX",
        "outputId": "732d3098-08e8-494d-9d65-be682a8fba35"
      },
      "execution_count": 4,
      "outputs": [
        {
          "output_type": "execute_result",
          "data": {
            "text/html": [
              "\n",
              "  <div id=\"df-d66f1a69-9bcb-44dc-8d8b-7978474504c2\">\n",
              "    <div class=\"colab-df-container\">\n",
              "      <div>\n",
              "<style scoped>\n",
              "    .dataframe tbody tr th:only-of-type {\n",
              "        vertical-align: middle;\n",
              "    }\n",
              "\n",
              "    .dataframe tbody tr th {\n",
              "        vertical-align: top;\n",
              "    }\n",
              "\n",
              "    .dataframe thead th {\n",
              "        text-align: right;\n",
              "    }\n",
              "</style>\n",
              "<table border=\"1\" class=\"dataframe\">\n",
              "  <thead>\n",
              "    <tr style=\"text-align: right;\">\n",
              "      <th></th>\n",
              "      <th>features</th>\n",
              "      <th>shape</th>\n",
              "      <th>num_frames</th>\n",
              "      <th>label</th>\n",
              "      <th>fold</th>\n",
              "      <th>file_name</th>\n",
              "    </tr>\n",
              "  </thead>\n",
              "  <tbody>\n",
              "    <tr>\n",
              "      <th>0</th>\n",
              "      <td>[[0.00021762802498415112, 0.000202349910978227...</td>\n",
              "      <td>(40, 64)</td>\n",
              "      <td>28</td>\n",
              "      <td>3</td>\n",
              "      <td>5</td>\n",
              "      <td>100032-3-0-0.wav</td>\n",
              "    </tr>\n",
              "    <tr>\n",
              "      <th>1</th>\n",
              "      <td>[[0.0058693523, 0.013092514, 0.03987947, 0.021...</td>\n",
              "      <td>(40, 64)</td>\n",
              "      <td>345</td>\n",
              "      <td>2</td>\n",
              "      <td>5</td>\n",
              "      <td>100263-2-0-117.wav</td>\n",
              "    </tr>\n",
              "    <tr>\n",
              "      <th>2</th>\n",
              "      <td>[[0.005688955, 0.027750378, 0.04978776, 0.0287...</td>\n",
              "      <td>(40, 64)</td>\n",
              "      <td>345</td>\n",
              "      <td>2</td>\n",
              "      <td>5</td>\n",
              "      <td>100263-2-0-121.wav</td>\n",
              "    </tr>\n",
              "    <tr>\n",
              "      <th>3</th>\n",
              "      <td>[[0.050584998, 0.036760394, 0.020823054, 0.022...</td>\n",
              "      <td>(40, 64)</td>\n",
              "      <td>345</td>\n",
              "      <td>2</td>\n",
              "      <td>5</td>\n",
              "      <td>100263-2-0-126.wav</td>\n",
              "    </tr>\n",
              "    <tr>\n",
              "      <th>4</th>\n",
              "      <td>[[0.03850708, 0.02781331, 0.04098259, 0.026116...</td>\n",
              "      <td>(40, 64)</td>\n",
              "      <td>345</td>\n",
              "      <td>2</td>\n",
              "      <td>5</td>\n",
              "      <td>100263-2-0-137.wav</td>\n",
              "    </tr>\n",
              "  </tbody>\n",
              "</table>\n",
              "</div>\n",
              "      <button class=\"colab-df-convert\" onclick=\"convertToInteractive('df-d66f1a69-9bcb-44dc-8d8b-7978474504c2')\"\n",
              "              title=\"Convert this dataframe to an interactive table.\"\n",
              "              style=\"display:none;\">\n",
              "        \n",
              "  <svg xmlns=\"http://www.w3.org/2000/svg\" height=\"24px\"viewBox=\"0 0 24 24\"\n",
              "       width=\"24px\">\n",
              "    <path d=\"M0 0h24v24H0V0z\" fill=\"none\"/>\n",
              "    <path d=\"M18.56 5.44l.94 2.06.94-2.06 2.06-.94-2.06-.94-.94-2.06-.94 2.06-2.06.94zm-11 1L8.5 8.5l.94-2.06 2.06-.94-2.06-.94L8.5 2.5l-.94 2.06-2.06.94zm10 10l.94 2.06.94-2.06 2.06-.94-2.06-.94-.94-2.06-.94 2.06-2.06.94z\"/><path d=\"M17.41 7.96l-1.37-1.37c-.4-.4-.92-.59-1.43-.59-.52 0-1.04.2-1.43.59L10.3 9.45l-7.72 7.72c-.78.78-.78 2.05 0 2.83L4 21.41c.39.39.9.59 1.41.59.51 0 1.02-.2 1.41-.59l7.78-7.78 2.81-2.81c.8-.78.8-2.07 0-2.86zM5.41 20L4 18.59l7.72-7.72 1.47 1.35L5.41 20z\"/>\n",
              "  </svg>\n",
              "      </button>\n",
              "      \n",
              "  <style>\n",
              "    .colab-df-container {\n",
              "      display:flex;\n",
              "      flex-wrap:wrap;\n",
              "      gap: 12px;\n",
              "    }\n",
              "\n",
              "    .colab-df-convert {\n",
              "      background-color: #E8F0FE;\n",
              "      border: none;\n",
              "      border-radius: 50%;\n",
              "      cursor: pointer;\n",
              "      display: none;\n",
              "      fill: #1967D2;\n",
              "      height: 32px;\n",
              "      padding: 0 0 0 0;\n",
              "      width: 32px;\n",
              "    }\n",
              "\n",
              "    .colab-df-convert:hover {\n",
              "      background-color: #E2EBFA;\n",
              "      box-shadow: 0px 1px 2px rgba(60, 64, 67, 0.3), 0px 1px 3px 1px rgba(60, 64, 67, 0.15);\n",
              "      fill: #174EA6;\n",
              "    }\n",
              "\n",
              "    [theme=dark] .colab-df-convert {\n",
              "      background-color: #3B4455;\n",
              "      fill: #D2E3FC;\n",
              "    }\n",
              "\n",
              "    [theme=dark] .colab-df-convert:hover {\n",
              "      background-color: #434B5C;\n",
              "      box-shadow: 0px 1px 3px 1px rgba(0, 0, 0, 0.15);\n",
              "      filter: drop-shadow(0px 1px 2px rgba(0, 0, 0, 0.3));\n",
              "      fill: #FFFFFF;\n",
              "    }\n",
              "  </style>\n",
              "\n",
              "      <script>\n",
              "        const buttonEl =\n",
              "          document.querySelector('#df-d66f1a69-9bcb-44dc-8d8b-7978474504c2 button.colab-df-convert');\n",
              "        buttonEl.style.display =\n",
              "          google.colab.kernel.accessAllowed ? 'block' : 'none';\n",
              "\n",
              "        async function convertToInteractive(key) {\n",
              "          const element = document.querySelector('#df-d66f1a69-9bcb-44dc-8d8b-7978474504c2');\n",
              "          const dataTable =\n",
              "            await google.colab.kernel.invokeFunction('convertToInteractive',\n",
              "                                                     [key], {});\n",
              "          if (!dataTable) return;\n",
              "\n",
              "          const docLinkHtml = 'Like what you see? Visit the ' +\n",
              "            '<a target=\"_blank\" href=https://colab.research.google.com/notebooks/data_table.ipynb>data table notebook</a>'\n",
              "            + ' to learn more about interactive tables.';\n",
              "          element.innerHTML = '';\n",
              "          dataTable['output_type'] = 'display_data';\n",
              "          await google.colab.output.renderOutput(dataTable, element);\n",
              "          const docLink = document.createElement('div');\n",
              "          docLink.innerHTML = docLinkHtml;\n",
              "          element.appendChild(docLink);\n",
              "        }\n",
              "      </script>\n",
              "    </div>\n",
              "  </div>\n",
              "  "
            ],
            "text/plain": [
              "                                            features  ...           file_name\n",
              "0  [[0.00021762802498415112, 0.000202349910978227...  ...    100032-3-0-0.wav\n",
              "1  [[0.0058693523, 0.013092514, 0.03987947, 0.021...  ...  100263-2-0-117.wav\n",
              "2  [[0.005688955, 0.027750378, 0.04978776, 0.0287...  ...  100263-2-0-121.wav\n",
              "3  [[0.050584998, 0.036760394, 0.020823054, 0.022...  ...  100263-2-0-126.wav\n",
              "4  [[0.03850708, 0.02781331, 0.04098259, 0.026116...  ...  100263-2-0-137.wav\n",
              "\n",
              "[5 rows x 6 columns]"
            ]
          },
          "metadata": {},
          "execution_count": 4
        }
      ]
    },
    {
      "cell_type": "code",
      "source": [
        "data_final = pd.DataFrame(data['label'])\n",
        "data_final['fold'] = data['fold']\n",
        "data_final['features'] = data['features']\n",
        "\n",
        "print('working dataframe\\'s shape:', data_final.shape)\n",
        "data_final.head()"
      ],
      "metadata": {
        "colab": {
          "base_uri": "https://localhost:8080/",
          "height": 223
        },
        "id": "w5s3ORGVlbpD",
        "outputId": "f96c0877-cb02-46a2-dcbd-fad4163f9109"
      },
      "execution_count": 5,
      "outputs": [
        {
          "output_type": "stream",
          "name": "stdout",
          "text": [
            "working dataframe's shape: (8732, 3)\n"
          ]
        },
        {
          "output_type": "execute_result",
          "data": {
            "text/html": [
              "\n",
              "  <div id=\"df-7e00e1f5-60f0-4a48-b325-9809159f90f2\">\n",
              "    <div class=\"colab-df-container\">\n",
              "      <div>\n",
              "<style scoped>\n",
              "    .dataframe tbody tr th:only-of-type {\n",
              "        vertical-align: middle;\n",
              "    }\n",
              "\n",
              "    .dataframe tbody tr th {\n",
              "        vertical-align: top;\n",
              "    }\n",
              "\n",
              "    .dataframe thead th {\n",
              "        text-align: right;\n",
              "    }\n",
              "</style>\n",
              "<table border=\"1\" class=\"dataframe\">\n",
              "  <thead>\n",
              "    <tr style=\"text-align: right;\">\n",
              "      <th></th>\n",
              "      <th>label</th>\n",
              "      <th>fold</th>\n",
              "      <th>features</th>\n",
              "    </tr>\n",
              "  </thead>\n",
              "  <tbody>\n",
              "    <tr>\n",
              "      <th>0</th>\n",
              "      <td>3</td>\n",
              "      <td>5</td>\n",
              "      <td>[[0.00021762802498415112, 0.000202349910978227...</td>\n",
              "    </tr>\n",
              "    <tr>\n",
              "      <th>1</th>\n",
              "      <td>2</td>\n",
              "      <td>5</td>\n",
              "      <td>[[0.0058693523, 0.013092514, 0.03987947, 0.021...</td>\n",
              "    </tr>\n",
              "    <tr>\n",
              "      <th>2</th>\n",
              "      <td>2</td>\n",
              "      <td>5</td>\n",
              "      <td>[[0.005688955, 0.027750378, 0.04978776, 0.0287...</td>\n",
              "    </tr>\n",
              "    <tr>\n",
              "      <th>3</th>\n",
              "      <td>2</td>\n",
              "      <td>5</td>\n",
              "      <td>[[0.050584998, 0.036760394, 0.020823054, 0.022...</td>\n",
              "    </tr>\n",
              "    <tr>\n",
              "      <th>4</th>\n",
              "      <td>2</td>\n",
              "      <td>5</td>\n",
              "      <td>[[0.03850708, 0.02781331, 0.04098259, 0.026116...</td>\n",
              "    </tr>\n",
              "  </tbody>\n",
              "</table>\n",
              "</div>\n",
              "      <button class=\"colab-df-convert\" onclick=\"convertToInteractive('df-7e00e1f5-60f0-4a48-b325-9809159f90f2')\"\n",
              "              title=\"Convert this dataframe to an interactive table.\"\n",
              "              style=\"display:none;\">\n",
              "        \n",
              "  <svg xmlns=\"http://www.w3.org/2000/svg\" height=\"24px\"viewBox=\"0 0 24 24\"\n",
              "       width=\"24px\">\n",
              "    <path d=\"M0 0h24v24H0V0z\" fill=\"none\"/>\n",
              "    <path d=\"M18.56 5.44l.94 2.06.94-2.06 2.06-.94-2.06-.94-.94-2.06-.94 2.06-2.06.94zm-11 1L8.5 8.5l.94-2.06 2.06-.94-2.06-.94L8.5 2.5l-.94 2.06-2.06.94zm10 10l.94 2.06.94-2.06 2.06-.94-2.06-.94-.94-2.06-.94 2.06-2.06.94z\"/><path d=\"M17.41 7.96l-1.37-1.37c-.4-.4-.92-.59-1.43-.59-.52 0-1.04.2-1.43.59L10.3 9.45l-7.72 7.72c-.78.78-.78 2.05 0 2.83L4 21.41c.39.39.9.59 1.41.59.51 0 1.02-.2 1.41-.59l7.78-7.78 2.81-2.81c.8-.78.8-2.07 0-2.86zM5.41 20L4 18.59l7.72-7.72 1.47 1.35L5.41 20z\"/>\n",
              "  </svg>\n",
              "      </button>\n",
              "      \n",
              "  <style>\n",
              "    .colab-df-container {\n",
              "      display:flex;\n",
              "      flex-wrap:wrap;\n",
              "      gap: 12px;\n",
              "    }\n",
              "\n",
              "    .colab-df-convert {\n",
              "      background-color: #E8F0FE;\n",
              "      border: none;\n",
              "      border-radius: 50%;\n",
              "      cursor: pointer;\n",
              "      display: none;\n",
              "      fill: #1967D2;\n",
              "      height: 32px;\n",
              "      padding: 0 0 0 0;\n",
              "      width: 32px;\n",
              "    }\n",
              "\n",
              "    .colab-df-convert:hover {\n",
              "      background-color: #E2EBFA;\n",
              "      box-shadow: 0px 1px 2px rgba(60, 64, 67, 0.3), 0px 1px 3px 1px rgba(60, 64, 67, 0.15);\n",
              "      fill: #174EA6;\n",
              "    }\n",
              "\n",
              "    [theme=dark] .colab-df-convert {\n",
              "      background-color: #3B4455;\n",
              "      fill: #D2E3FC;\n",
              "    }\n",
              "\n",
              "    [theme=dark] .colab-df-convert:hover {\n",
              "      background-color: #434B5C;\n",
              "      box-shadow: 0px 1px 3px 1px rgba(0, 0, 0, 0.15);\n",
              "      filter: drop-shadow(0px 1px 2px rgba(0, 0, 0, 0.3));\n",
              "      fill: #FFFFFF;\n",
              "    }\n",
              "  </style>\n",
              "\n",
              "      <script>\n",
              "        const buttonEl =\n",
              "          document.querySelector('#df-7e00e1f5-60f0-4a48-b325-9809159f90f2 button.colab-df-convert');\n",
              "        buttonEl.style.display =\n",
              "          google.colab.kernel.accessAllowed ? 'block' : 'none';\n",
              "\n",
              "        async function convertToInteractive(key) {\n",
              "          const element = document.querySelector('#df-7e00e1f5-60f0-4a48-b325-9809159f90f2');\n",
              "          const dataTable =\n",
              "            await google.colab.kernel.invokeFunction('convertToInteractive',\n",
              "                                                     [key], {});\n",
              "          if (!dataTable) return;\n",
              "\n",
              "          const docLinkHtml = 'Like what you see? Visit the ' +\n",
              "            '<a target=\"_blank\" href=https://colab.research.google.com/notebooks/data_table.ipynb>data table notebook</a>'\n",
              "            + ' to learn more about interactive tables.';\n",
              "          element.innerHTML = '';\n",
              "          dataTable['output_type'] = 'display_data';\n",
              "          await google.colab.output.renderOutput(dataTable, element);\n",
              "          const docLink = document.createElement('div');\n",
              "          docLink.innerHTML = docLinkHtml;\n",
              "          element.appendChild(docLink);\n",
              "        }\n",
              "      </script>\n",
              "    </div>\n",
              "  </div>\n",
              "  "
            ],
            "text/plain": [
              "   label fold                                           features\n",
              "0      3    5  [[0.00021762802498415112, 0.000202349910978227...\n",
              "1      2    5  [[0.0058693523, 0.013092514, 0.03987947, 0.021...\n",
              "2      2    5  [[0.005688955, 0.027750378, 0.04978776, 0.0287...\n",
              "3      2    5  [[0.050584998, 0.036760394, 0.020823054, 0.022...\n",
              "4      2    5  [[0.03850708, 0.02781331, 0.04098259, 0.026116..."
            ]
          },
          "metadata": {},
          "execution_count": 5
        }
      ]
    },
    {
      "cell_type": "code",
      "source": [
        "dummies = pd.get_dummies(data_final['label']).rename(columns=lambda x: 'label_' + str(x))\n",
        "data_final = pd.concat([data_final, dummies], axis=1)\n",
        "data_final.drop(['label'], inplace=True, axis=1)\n",
        "data_final.head()"
      ],
      "metadata": {
        "colab": {
          "base_uri": "https://localhost:8080/",
          "height": 337
        },
        "id": "C_gi90Y3XL4y",
        "outputId": "d72df526-b35f-4c15-e212-be4472b66dd5"
      },
      "execution_count": 6,
      "outputs": [
        {
          "output_type": "execute_result",
          "data": {
            "text/html": [
              "\n",
              "  <div id=\"df-47a39326-f6a7-43d2-828f-3ba535586fdd\">\n",
              "    <div class=\"colab-df-container\">\n",
              "      <div>\n",
              "<style scoped>\n",
              "    .dataframe tbody tr th:only-of-type {\n",
              "        vertical-align: middle;\n",
              "    }\n",
              "\n",
              "    .dataframe tbody tr th {\n",
              "        vertical-align: top;\n",
              "    }\n",
              "\n",
              "    .dataframe thead th {\n",
              "        text-align: right;\n",
              "    }\n",
              "</style>\n",
              "<table border=\"1\" class=\"dataframe\">\n",
              "  <thead>\n",
              "    <tr style=\"text-align: right;\">\n",
              "      <th></th>\n",
              "      <th>fold</th>\n",
              "      <th>features</th>\n",
              "      <th>label_0</th>\n",
              "      <th>label_1</th>\n",
              "      <th>label_2</th>\n",
              "      <th>label_3</th>\n",
              "      <th>label_4</th>\n",
              "      <th>label_5</th>\n",
              "      <th>label_6</th>\n",
              "      <th>label_7</th>\n",
              "      <th>label_8</th>\n",
              "      <th>label_9</th>\n",
              "    </tr>\n",
              "  </thead>\n",
              "  <tbody>\n",
              "    <tr>\n",
              "      <th>0</th>\n",
              "      <td>5</td>\n",
              "      <td>[[0.00021762802498415112, 0.000202349910978227...</td>\n",
              "      <td>0</td>\n",
              "      <td>0</td>\n",
              "      <td>0</td>\n",
              "      <td>1</td>\n",
              "      <td>0</td>\n",
              "      <td>0</td>\n",
              "      <td>0</td>\n",
              "      <td>0</td>\n",
              "      <td>0</td>\n",
              "      <td>0</td>\n",
              "    </tr>\n",
              "    <tr>\n",
              "      <th>1</th>\n",
              "      <td>5</td>\n",
              "      <td>[[0.0058693523, 0.013092514, 0.03987947, 0.021...</td>\n",
              "      <td>0</td>\n",
              "      <td>0</td>\n",
              "      <td>1</td>\n",
              "      <td>0</td>\n",
              "      <td>0</td>\n",
              "      <td>0</td>\n",
              "      <td>0</td>\n",
              "      <td>0</td>\n",
              "      <td>0</td>\n",
              "      <td>0</td>\n",
              "    </tr>\n",
              "    <tr>\n",
              "      <th>2</th>\n",
              "      <td>5</td>\n",
              "      <td>[[0.005688955, 0.027750378, 0.04978776, 0.0287...</td>\n",
              "      <td>0</td>\n",
              "      <td>0</td>\n",
              "      <td>1</td>\n",
              "      <td>0</td>\n",
              "      <td>0</td>\n",
              "      <td>0</td>\n",
              "      <td>0</td>\n",
              "      <td>0</td>\n",
              "      <td>0</td>\n",
              "      <td>0</td>\n",
              "    </tr>\n",
              "    <tr>\n",
              "      <th>3</th>\n",
              "      <td>5</td>\n",
              "      <td>[[0.050584998, 0.036760394, 0.020823054, 0.022...</td>\n",
              "      <td>0</td>\n",
              "      <td>0</td>\n",
              "      <td>1</td>\n",
              "      <td>0</td>\n",
              "      <td>0</td>\n",
              "      <td>0</td>\n",
              "      <td>0</td>\n",
              "      <td>0</td>\n",
              "      <td>0</td>\n",
              "      <td>0</td>\n",
              "    </tr>\n",
              "    <tr>\n",
              "      <th>4</th>\n",
              "      <td>5</td>\n",
              "      <td>[[0.03850708, 0.02781331, 0.04098259, 0.026116...</td>\n",
              "      <td>0</td>\n",
              "      <td>0</td>\n",
              "      <td>1</td>\n",
              "      <td>0</td>\n",
              "      <td>0</td>\n",
              "      <td>0</td>\n",
              "      <td>0</td>\n",
              "      <td>0</td>\n",
              "      <td>0</td>\n",
              "      <td>0</td>\n",
              "    </tr>\n",
              "  </tbody>\n",
              "</table>\n",
              "</div>\n",
              "      <button class=\"colab-df-convert\" onclick=\"convertToInteractive('df-47a39326-f6a7-43d2-828f-3ba535586fdd')\"\n",
              "              title=\"Convert this dataframe to an interactive table.\"\n",
              "              style=\"display:none;\">\n",
              "        \n",
              "  <svg xmlns=\"http://www.w3.org/2000/svg\" height=\"24px\"viewBox=\"0 0 24 24\"\n",
              "       width=\"24px\">\n",
              "    <path d=\"M0 0h24v24H0V0z\" fill=\"none\"/>\n",
              "    <path d=\"M18.56 5.44l.94 2.06.94-2.06 2.06-.94-2.06-.94-.94-2.06-.94 2.06-2.06.94zm-11 1L8.5 8.5l.94-2.06 2.06-.94-2.06-.94L8.5 2.5l-.94 2.06-2.06.94zm10 10l.94 2.06.94-2.06 2.06-.94-2.06-.94-.94-2.06-.94 2.06-2.06.94z\"/><path d=\"M17.41 7.96l-1.37-1.37c-.4-.4-.92-.59-1.43-.59-.52 0-1.04.2-1.43.59L10.3 9.45l-7.72 7.72c-.78.78-.78 2.05 0 2.83L4 21.41c.39.39.9.59 1.41.59.51 0 1.02-.2 1.41-.59l7.78-7.78 2.81-2.81c.8-.78.8-2.07 0-2.86zM5.41 20L4 18.59l7.72-7.72 1.47 1.35L5.41 20z\"/>\n",
              "  </svg>\n",
              "      </button>\n",
              "      \n",
              "  <style>\n",
              "    .colab-df-container {\n",
              "      display:flex;\n",
              "      flex-wrap:wrap;\n",
              "      gap: 12px;\n",
              "    }\n",
              "\n",
              "    .colab-df-convert {\n",
              "      background-color: #E8F0FE;\n",
              "      border: none;\n",
              "      border-radius: 50%;\n",
              "      cursor: pointer;\n",
              "      display: none;\n",
              "      fill: #1967D2;\n",
              "      height: 32px;\n",
              "      padding: 0 0 0 0;\n",
              "      width: 32px;\n",
              "    }\n",
              "\n",
              "    .colab-df-convert:hover {\n",
              "      background-color: #E2EBFA;\n",
              "      box-shadow: 0px 1px 2px rgba(60, 64, 67, 0.3), 0px 1px 3px 1px rgba(60, 64, 67, 0.15);\n",
              "      fill: #174EA6;\n",
              "    }\n",
              "\n",
              "    [theme=dark] .colab-df-convert {\n",
              "      background-color: #3B4455;\n",
              "      fill: #D2E3FC;\n",
              "    }\n",
              "\n",
              "    [theme=dark] .colab-df-convert:hover {\n",
              "      background-color: #434B5C;\n",
              "      box-shadow: 0px 1px 3px 1px rgba(0, 0, 0, 0.15);\n",
              "      filter: drop-shadow(0px 1px 2px rgba(0, 0, 0, 0.3));\n",
              "      fill: #FFFFFF;\n",
              "    }\n",
              "  </style>\n",
              "\n",
              "      <script>\n",
              "        const buttonEl =\n",
              "          document.querySelector('#df-47a39326-f6a7-43d2-828f-3ba535586fdd button.colab-df-convert');\n",
              "        buttonEl.style.display =\n",
              "          google.colab.kernel.accessAllowed ? 'block' : 'none';\n",
              "\n",
              "        async function convertToInteractive(key) {\n",
              "          const element = document.querySelector('#df-47a39326-f6a7-43d2-828f-3ba535586fdd');\n",
              "          const dataTable =\n",
              "            await google.colab.kernel.invokeFunction('convertToInteractive',\n",
              "                                                     [key], {});\n",
              "          if (!dataTable) return;\n",
              "\n",
              "          const docLinkHtml = 'Like what you see? Visit the ' +\n",
              "            '<a target=\"_blank\" href=https://colab.research.google.com/notebooks/data_table.ipynb>data table notebook</a>'\n",
              "            + ' to learn more about interactive tables.';\n",
              "          element.innerHTML = '';\n",
              "          dataTable['output_type'] = 'display_data';\n",
              "          await google.colab.output.renderOutput(dataTable, element);\n",
              "          const docLink = document.createElement('div');\n",
              "          docLink.innerHTML = docLinkHtml;\n",
              "          element.appendChild(docLink);\n",
              "        }\n",
              "      </script>\n",
              "    </div>\n",
              "  </div>\n",
              "  "
            ],
            "text/plain": [
              "  fold                                           features  ...  label_8  label_9\n",
              "0    5  [[0.00021762802498415112, 0.000202349910978227...  ...        0        0\n",
              "1    5  [[0.0058693523, 0.013092514, 0.03987947, 0.021...  ...        0        0\n",
              "2    5  [[0.005688955, 0.027750378, 0.04978776, 0.0287...  ...        0        0\n",
              "3    5  [[0.050584998, 0.036760394, 0.020823054, 0.022...  ...        0        0\n",
              "4    5  [[0.03850708, 0.02781331, 0.04098259, 0.026116...  ...        0        0\n",
              "\n",
              "[5 rows x 12 columns]"
            ]
          },
          "metadata": {},
          "execution_count": 6
        }
      ]
    },
    {
      "cell_type": "code",
      "source": [
        "def df_transform(fold):\n",
        "  X_fold_df = data_final[data_final['fold'].isin(fold)]\n",
        "  list_arrays = list(X_fold_df['features'])\n",
        "  X = np.stack(list_arrays, axis=0 )\n",
        "  y = X_fold_df.iloc[:, 2:12].to_numpy()\n",
        "\n",
        "  return X, y"
      ],
      "metadata": {
        "id": "RBFv78LFc8Am"
      },
      "execution_count": 7,
      "outputs": []
    },
    {
      "cell_type": "code",
      "source": [
        "X_train, y_train = df_transform(['1', '2', '3', '4', '6'])\n",
        "X_train.shape, y_train.shape"
      ],
      "metadata": {
        "colab": {
          "base_uri": "https://localhost:8080/"
        },
        "id": "nKx55fqEKStW",
        "outputId": "0d618038-a5a5-4423-cd69-5c7694153835"
      },
      "execution_count": 79,
      "outputs": [
        {
          "output_type": "execute_result",
          "data": {
            "text/plain": [
              "((4499, 40, 64), (4499, 10))"
            ]
          },
          "metadata": {},
          "execution_count": 79
        }
      ]
    },
    {
      "cell_type": "code",
      "source": [
        "X_val, y_val = df_transform(['5'])\n",
        "X_val.shape, y_val.shape"
      ],
      "metadata": {
        "colab": {
          "base_uri": "https://localhost:8080/"
        },
        "id": "kkEA4Dexn1Ju",
        "outputId": "0e8f5aee-616d-4ac6-dd67-620d69bf08be"
      },
      "execution_count": 80,
      "outputs": [
        {
          "output_type": "execute_result",
          "data": {
            "text/plain": [
              "((936, 40, 64), (936, 10))"
            ]
          },
          "metadata": {},
          "execution_count": 80
        }
      ]
    },
    {
      "cell_type": "code",
      "source": [
        "X_test7, y_test7 = df_transform(['7'])\n",
        "X_test8, y_test8 = df_transform(['8'])\n",
        "X_test9, y_test9 = df_transform(['9'])\n",
        "X_test10, y_test10 = df_transform(['10'])"
      ],
      "metadata": {
        "id": "9csBNDVfooJ5"
      },
      "execution_count": 81,
      "outputs": []
    },
    {
      "cell_type": "markdown",
      "source": [
        "## Classification"
      ],
      "metadata": {
        "id": "-RkR-uH80JQ8"
      }
    },
    {
      "cell_type": "code",
      "source": [
        "def plot_accuracy(history):\n",
        "  #accuracy\n",
        "  plt.figure(figsize=(8,3))\n",
        "  plt.plot(history.history['accuracy'])\n",
        "  plt.plot(history.history['val_accuracy'])\n",
        "  plt.title('model accuracy')\n",
        "  plt.ylabel('accuracy')\n",
        "  plt.xlabel('epoch')\n",
        "  plt.legend(['train', 'val'], loc='upper left')\n",
        "  plt.show()\n",
        "\n",
        "  #loss\n",
        "  plt.figure(figsize=(8,3))\n",
        "  plt.plot(history.history['loss'])\n",
        "  plt.plot(history.history['val_loss'])\n",
        "  plt.title('model loss')\n",
        "  plt.ylabel('loss')\n",
        "  plt.xlabel('epoch')\n",
        "  plt.legend(['train', 'val'], loc='upper left')\n",
        "  plt.show()"
      ],
      "metadata": {
        "id": "PFAKzqvmxZNb"
      },
      "execution_count": 11,
      "outputs": []
    },
    {
      "cell_type": "code",
      "source": [
        "def test_scores(model):\n",
        "  score5 = model.evaluate(X_val, y_val)\n",
        "  score7 = model.evaluate(X_test7, y_test7)\n",
        "  score8 = model.evaluate(X_test8, y_test8)\n",
        "  score9 = model.evaluate(X_test9, y_test9)\n",
        "  score10 = model.evaluate(X_test10, y_test10)\n",
        "  test_scores = [score5[1],score7[1],score8[1],score9[1],score10[1]]\n",
        "  \n",
        "  return test_scores"
      ],
      "metadata": {
        "id": "Y7Ff0z2dylyx"
      },
      "execution_count": 93,
      "outputs": []
    },
    {
      "cell_type": "markdown",
      "source": [
        "### CNN model"
      ],
      "metadata": {
        "id": "YujQfd7O6oef"
      }
    },
    {
      "cell_type": "code",
      "source": [
        "# reshaping\n",
        "X_train = X_train.reshape(X_train.shape[0],40,64,1)\n",
        "X_val = X_val.reshape(X_val.shape[0],40,64,1)\n",
        "X_test7 = X_test7.reshape(X_test7.shape[0],40,64,1)\n",
        "X_test8 = X_test8.reshape(X_test8.shape[0],40,64,1)\n",
        "X_test9 = X_test9.reshape(X_test9.shape[0],40,64,1)\n",
        "X_test10 = X_test10.reshape(X_test10.shape[0],40,64,1)"
      ],
      "metadata": {
        "id": "podebSZ4p8vc"
      },
      "execution_count": 82,
      "outputs": []
    },
    {
      "cell_type": "code",
      "source": [
        "#shapes\n",
        "X_train.shape, X_val.shape"
      ],
      "metadata": {
        "colab": {
          "base_uri": "https://localhost:8080/"
        },
        "id": "uUzvQfF9ftc5",
        "outputId": "84f6d32e-6079-42ad-b6b3-2cd5ed5bd758"
      },
      "execution_count": 83,
      "outputs": [
        {
          "output_type": "execute_result",
          "data": {
            "text/plain": [
              "((4499, 40, 64, 1), (936, 40, 64, 1))"
            ]
          },
          "metadata": {},
          "execution_count": 83
        }
      ]
    },
    {
      "cell_type": "code",
      "source": [
        "model = Sequential()\n",
        "input_dim = (40, 64, 1)\n",
        "\n",
        "model.add(Conv2D(64, (3, 3), padding = \"same\", activation = \"relu\", input_shape = input_dim))\n",
        "model.add(MaxPool2D(pool_size=(2, 2)))\n",
        "\n",
        "model.add(Conv2D(128, (3, 3), padding = \"same\", activation = \"relu\"))\n",
        "model.add(MaxPool2D(pool_size=(2, 2)))\n",
        "model.add(Dropout(0.2))\n",
        "\n",
        "model.add(Flatten())\n",
        "\n",
        "model.add(Dense(256, activation = \"relu\"))\n",
        "model.add(Dropout(0.2))\n",
        "\n",
        "model.add(Dense(512,activation=\"relu\"))\n",
        "model.add(Dropout(0.2))\n",
        "\n",
        "model.add(Dense(10, activation = \"softmax\"))\n",
        "\n",
        "model.summary()\n"
      ],
      "metadata": {
        "colab": {
          "base_uri": "https://localhost:8080/"
        },
        "id": "0NmMNTP0iKKP",
        "outputId": "a55fe3b4-f8f3-4423-c95a-39276c4637bd"
      },
      "execution_count": 85,
      "outputs": [
        {
          "output_type": "stream",
          "name": "stdout",
          "text": [
            "Model: \"sequential_11\"\n",
            "_________________________________________________________________\n",
            " Layer (type)                Output Shape              Param #   \n",
            "=================================================================\n",
            " conv2d_6 (Conv2D)           (None, 40, 64, 64)        640       \n",
            "                                                                 \n",
            " max_pooling2d_6 (MaxPooling  (None, 20, 32, 64)       0         \n",
            " 2D)                                                             \n",
            "                                                                 \n",
            " conv2d_7 (Conv2D)           (None, 20, 32, 128)       73856     \n",
            "                                                                 \n",
            " max_pooling2d_7 (MaxPooling  (None, 10, 16, 128)      0         \n",
            " 2D)                                                             \n",
            "                                                                 \n",
            " dropout_35 (Dropout)        (None, 10, 16, 128)       0         \n",
            "                                                                 \n",
            " flatten_3 (Flatten)         (None, 20480)             0         \n",
            "                                                                 \n",
            " dense_42 (Dense)            (None, 256)               5243136   \n",
            "                                                                 \n",
            " dropout_36 (Dropout)        (None, 256)               0         \n",
            "                                                                 \n",
            " dense_43 (Dense)            (None, 512)               131584    \n",
            "                                                                 \n",
            " dropout_37 (Dropout)        (None, 512)               0         \n",
            "                                                                 \n",
            " dense_44 (Dense)            (None, 10)                5130      \n",
            "                                                                 \n",
            "=================================================================\n",
            "Total params: 5,454,346\n",
            "Trainable params: 5,454,346\n",
            "Non-trainable params: 0\n",
            "_________________________________________________________________\n"
          ]
        }
      ]
    },
    {
      "cell_type": "code",
      "source": [
        "model.compile(optimizer = 'adam', loss = 'categorical_crossentropy', metrics = ['accuracy'])"
      ],
      "metadata": {
        "id": "FKQTgk72iKWV"
      },
      "execution_count": 86,
      "outputs": []
    },
    {
      "cell_type": "code",
      "source": [
        "history = model.fit(X_train, y_train, epochs =15, batch_size = 128, validation_data =(X_val, y_val), verbose =True)"
      ],
      "metadata": {
        "colab": {
          "base_uri": "https://localhost:8080/"
        },
        "id": "4lUlb4o2iKaB",
        "outputId": "4a74a46a-2f41-451e-fc0f-ff7372ac96ab"
      },
      "execution_count": 87,
      "outputs": [
        {
          "output_type": "stream",
          "name": "stdout",
          "text": [
            "Epoch 1/15\n",
            "36/36 [==============================] - 45s 1s/step - loss: 2.6608 - accuracy: 0.2220 - val_loss: 2.0590 - val_accuracy: 0.1709\n",
            "Epoch 2/15\n",
            "36/36 [==============================] - 44s 1s/step - loss: 1.8419 - accuracy: 0.3570 - val_loss: 1.9217 - val_accuracy: 0.3515\n",
            "Epoch 3/15\n",
            "36/36 [==============================] - 44s 1s/step - loss: 1.5428 - accuracy: 0.4592 - val_loss: 1.9419 - val_accuracy: 0.3750\n",
            "Epoch 4/15\n",
            "36/36 [==============================] - 45s 1s/step - loss: 1.3798 - accuracy: 0.5190 - val_loss: 1.9785 - val_accuracy: 0.3900\n",
            "Epoch 5/15\n",
            "36/36 [==============================] - 44s 1s/step - loss: 1.2760 - accuracy: 0.5532 - val_loss: 2.1570 - val_accuracy: 0.3835\n",
            "Epoch 6/15\n",
            "36/36 [==============================] - 45s 1s/step - loss: 1.1799 - accuracy: 0.5986 - val_loss: 1.9826 - val_accuracy: 0.4498\n",
            "Epoch 7/15\n",
            "36/36 [==============================] - 43s 1s/step - loss: 1.0662 - accuracy: 0.6384 - val_loss: 2.1949 - val_accuracy: 0.4573\n",
            "Epoch 8/15\n",
            "36/36 [==============================] - 44s 1s/step - loss: 1.0701 - accuracy: 0.6468 - val_loss: 2.1181 - val_accuracy: 0.4658\n",
            "Epoch 9/15\n",
            "36/36 [==============================] - 46s 1s/step - loss: 0.9263 - accuracy: 0.6882 - val_loss: 1.9783 - val_accuracy: 0.4615\n",
            "Epoch 10/15\n",
            "36/36 [==============================] - 45s 1s/step - loss: 0.9263 - accuracy: 0.7030 - val_loss: 2.1289 - val_accuracy: 0.5011\n",
            "Epoch 11/15\n",
            "36/36 [==============================] - 45s 1s/step - loss: 0.8316 - accuracy: 0.7264 - val_loss: 2.1577 - val_accuracy: 0.5288\n",
            "Epoch 12/15\n",
            "36/36 [==============================] - 44s 1s/step - loss: 0.8670 - accuracy: 0.7177 - val_loss: 2.4214 - val_accuracy: 0.5096\n",
            "Epoch 13/15\n",
            "36/36 [==============================] - 45s 1s/step - loss: 0.8295 - accuracy: 0.7331 - val_loss: 2.6019 - val_accuracy: 0.5139\n",
            "Epoch 14/15\n",
            "36/36 [==============================] - 45s 1s/step - loss: 0.6735 - accuracy: 0.7802 - val_loss: 2.3768 - val_accuracy: 0.5427\n",
            "Epoch 15/15\n",
            "36/36 [==============================] - 46s 1s/step - loss: 0.6351 - accuracy: 0.7877 - val_loss: 2.8259 - val_accuracy: 0.5342\n"
          ]
        }
      ]
    },
    {
      "cell_type": "code",
      "source": [
        "plot_accuracy(history)"
      ],
      "metadata": {
        "id": "pEQNhg8-5fV5",
        "colab": {
          "base_uri": "https://localhost:8080/",
          "height": 475
        },
        "outputId": "92f1e170-70cc-4477-ea3b-ed6ffe507410"
      },
      "execution_count": 95,
      "outputs": [
        {
          "output_type": "display_data",
          "data": {
            "image/png": "[encoded data removed]",
            "text/plain": [
              "<Figure size 576x216 with 1 Axes>"
            ]
          },
          "metadata": {}
        },
        {
          "output_type": "display_data",
          "data": {
            "image/png": "[encoded data removed]",
            "text/plain": [
              "<Figure size 576x216 with 1 Axes>"
            ]
          },
          "metadata": {}
        }
      ]
    },
    {
      "cell_type": "code",
      "source": [
        "test_scores_cnn = test_scores(model)\n",
        "test_scores_cnn"
      ],
      "metadata": {
        "colab": {
          "base_uri": "https://localhost:8080/"
        },
        "id": "bdft_yV7yF6P",
        "outputId": "a34db0d3-b0fa-4c55-dbe9-51be5ee55e0a"
      },
      "execution_count": 97,
      "outputs": [
        {
          "output_type": "stream",
          "name": "stdout",
          "text": [
            "30/30 [==============================] - 3s 84ms/step - loss: 2.8259 - accuracy: 0.5342\n",
            "27/27 [==============================] - 2s 90ms/step - loss: 2.4837 - accuracy: 0.4964\n",
            "26/26 [==============================] - 2s 83ms/step - loss: 3.4180 - accuracy: 0.5645\n",
            "26/26 [==============================] - 2s 87ms/step - loss: 5.1461 - accuracy: 0.4804\n",
            "27/27 [==============================] - 2s 85ms/step - loss: 2.3214 - accuracy: 0.5627\n"
          ]
        },
        {
          "output_type": "execute_result",
          "data": {
            "text/plain": [
              "[0.5341880321502686,\n",
              " 0.4964200556278229,\n",
              " 0.5645161271095276,\n",
              " 0.4803921580314636,\n",
              " 0.5627239942550659]"
            ]
          },
          "metadata": {},
          "execution_count": 97
        }
      ]
    },
    {
      "cell_type": "code",
      "source": [
        "print((np.mean(test_scores_cnn), np.std(test_scores_cnn)))"
      ],
      "metadata": {
        "colab": {
          "base_uri": "https://localhost:8080/"
        },
        "id": "QdHa7DmcehKq",
        "outputId": "dbaca3f5-297b-4798-fffe-28986f11289d"
      },
      "execution_count": 98,
      "outputs": [
        {
          "output_type": "stream",
          "name": "stdout",
          "text": [
            "(0.5276480734348297, 0.03417793235382256)\n"
          ]
        }
      ]
    },
    {
      "cell_type": "markdown",
      "source": [
        "### FNN"
      ],
      "metadata": {
        "id": "o61l6xPhRYR6"
      }
    },
    {
      "cell_type": "code",
      "source": [
        "# data reshaping for NN\n",
        "X_train = X_train.reshape(X_train.shape[0], 2560)\n",
        "X_val = X_val.reshape(X_val.shape[0],2560)\n",
        "X_test7 = X_test7.reshape(X_test7.shape[0],2560)\n",
        "X_test8 = X_test8.reshape(X_test8.shape[0],2560)\n",
        "X_test9 = X_test9.reshape(X_test9.shape[0],2560)\n",
        "X_test10 = X_test10.reshape(X_test10.shape[0],2560)"
      ],
      "metadata": {
        "id": "rvujGzKK9YCS"
      },
      "execution_count": 31,
      "outputs": []
    },
    {
      "cell_type": "code",
      "source": [
        "#forming model\n",
        "model=Sequential()\n",
        "#building the model\n",
        "model.add(Dense(units=1024,activation='relu',input_dim=2560))\n",
        "model.add(Dropout(0.2))\n",
        "model.add(Dense(units=512,activation='relu'))\n",
        "model.add(Dropout(0.2))\n",
        "model.add(Dense(units=128,activation='relu'))\n",
        "model.add(Dropout(0.2))\n",
        "model.add(Dense(units=64,activation='relu'))\n",
        "model.add(Dropout(0.2))\n",
        "model.add(Dense(units=10,activation='softmax'))\n",
        "\n",
        "model.summary()"
      ],
      "metadata": {
        "id": "9XdKviQD9ht9",
        "colab": {
          "base_uri": "https://localhost:8080/"
        },
        "outputId": "d1c8820c-a321-40e3-9f98-731002ab8fcf"
      },
      "execution_count": 50,
      "outputs": [
        {
          "output_type": "stream",
          "name": "stdout",
          "text": [
            "Model: \"sequential_6\"\n",
            "_________________________________________________________________\n",
            " Layer (type)                Output Shape              Param #   \n",
            "=================================================================\n",
            " dense_26 (Dense)            (None, 1024)              2622464   \n",
            "                                                                 \n",
            " dropout_22 (Dropout)        (None, 1024)              0         \n",
            "                                                                 \n",
            " dense_27 (Dense)            (None, 512)               524800    \n",
            "                                                                 \n",
            " dropout_23 (Dropout)        (None, 512)               0         \n",
            "                                                                 \n",
            " dense_28 (Dense)            (None, 128)               65664     \n",
            "                                                                 \n",
            " dropout_24 (Dropout)        (None, 128)               0         \n",
            "                                                                 \n",
            " dense_29 (Dense)            (None, 64)                8256      \n",
            "                                                                 \n",
            " dropout_25 (Dropout)        (None, 64)                0         \n",
            "                                                                 \n",
            " dense_30 (Dense)            (None, 10)                650       \n",
            "                                                                 \n",
            "=================================================================\n",
            "Total params: 3,221,834\n",
            "Trainable params: 3,221,834\n",
            "Non-trainable params: 0\n",
            "_________________________________________________________________\n"
          ]
        }
      ]
    },
    {
      "cell_type": "code",
      "source": [
        "#compiling\n",
        "model.compile(optimizer='adam',loss='categorical_crossentropy',metrics=['accuracy'])"
      ],
      "metadata": {
        "id": "RnQbAF9J9y05"
      },
      "execution_count": 51,
      "outputs": []
    },
    {
      "cell_type": "code",
      "source": [
        "history = model.fit(X_train,y_train,epochs=30 ,batch_size=64, validation_data = (X_val, y_val))"
      ],
      "metadata": {
        "colab": {
          "base_uri": "https://localhost:8080/"
        },
        "id": "2DUDC-MDEvYq",
        "outputId": "6fa94cf2-0c67-45d6-84be-b1251d544e10"
      },
      "execution_count": 52,
      "outputs": [
        {
          "output_type": "stream",
          "name": "stdout",
          "text": [
            "Epoch 1/30\n",
            "71/71 [==============================] - 4s 44ms/step - loss: 4.4853 - accuracy: 0.1671 - val_loss: 2.4245 - val_accuracy: 0.2361\n",
            "Epoch 2/30\n",
            "71/71 [==============================] - 3s 45ms/step - loss: 2.9785 - accuracy: 0.2158 - val_loss: 2.2780 - val_accuracy: 0.2788\n",
            "Epoch 3/30\n",
            "71/71 [==============================] - 3s 43ms/step - loss: 2.5374 - accuracy: 0.2498 - val_loss: 2.1329 - val_accuracy: 0.2756\n",
            "Epoch 4/30\n",
            "71/71 [==============================] - 3s 41ms/step - loss: 2.2652 - accuracy: 0.2938 - val_loss: 2.0209 - val_accuracy: 0.2714\n",
            "Epoch 5/30\n",
            "71/71 [==============================] - 3s 43ms/step - loss: 2.0817 - accuracy: 0.3372 - val_loss: 2.0770 - val_accuracy: 0.2949\n",
            "Epoch 6/30\n",
            "71/71 [==============================] - 3s 43ms/step - loss: 2.0543 - accuracy: 0.3487 - val_loss: 2.0593 - val_accuracy: 0.3173\n",
            "Epoch 7/30\n",
            "71/71 [==============================] - 3s 39ms/step - loss: 2.0113 - accuracy: 0.3690 - val_loss: 2.0031 - val_accuracy: 0.2682\n",
            "Epoch 8/30\n",
            "71/71 [==============================] - 3s 39ms/step - loss: 1.8636 - accuracy: 0.3836 - val_loss: 2.0154 - val_accuracy: 0.2981\n",
            "Epoch 9/30\n",
            "71/71 [==============================] - 3s 40ms/step - loss: 1.8250 - accuracy: 0.4050 - val_loss: 2.0521 - val_accuracy: 0.3098\n",
            "Epoch 10/30\n",
            "71/71 [==============================] - 3s 39ms/step - loss: 1.7038 - accuracy: 0.4325 - val_loss: 2.1163 - val_accuracy: 0.3291\n",
            "Epoch 11/30\n",
            "71/71 [==============================] - 3s 38ms/step - loss: 1.6880 - accuracy: 0.4377 - val_loss: 2.1633 - val_accuracy: 0.2628\n",
            "Epoch 12/30\n",
            "71/71 [==============================] - 3s 44ms/step - loss: 1.6740 - accuracy: 0.4374 - val_loss: 2.1548 - val_accuracy: 0.3472\n",
            "Epoch 13/30\n",
            "71/71 [==============================] - 3s 43ms/step - loss: 1.5860 - accuracy: 0.4681 - val_loss: 2.0456 - val_accuracy: 0.3440\n",
            "Epoch 14/30\n",
            "71/71 [==============================] - 3s 44ms/step - loss: 1.5444 - accuracy: 0.4903 - val_loss: 2.2842 - val_accuracy: 0.3654\n",
            "Epoch 15/30\n",
            "71/71 [==============================] - 3s 39ms/step - loss: 1.5104 - accuracy: 0.5101 - val_loss: 2.5719 - val_accuracy: 0.3932\n",
            "Epoch 16/30\n",
            "71/71 [==============================] - 3s 44ms/step - loss: 1.4278 - accuracy: 0.5106 - val_loss: 2.1338 - val_accuracy: 0.4124\n",
            "Epoch 17/30\n",
            "71/71 [==============================] - 3s 42ms/step - loss: 1.4188 - accuracy: 0.5232 - val_loss: 2.9593 - val_accuracy: 0.3835\n",
            "Epoch 18/30\n",
            "71/71 [==============================] - 3s 44ms/step - loss: 1.4290 - accuracy: 0.5423 - val_loss: 2.3705 - val_accuracy: 0.3814\n",
            "Epoch 19/30\n",
            "71/71 [==============================] - 3s 41ms/step - loss: 1.2982 - accuracy: 0.5586 - val_loss: 2.5527 - val_accuracy: 0.4231\n",
            "Epoch 20/30\n",
            "71/71 [==============================] - 3s 41ms/step - loss: 1.3578 - accuracy: 0.5452 - val_loss: 2.6672 - val_accuracy: 0.4274\n",
            "Epoch 21/30\n",
            "71/71 [==============================] - 3s 39ms/step - loss: 1.2845 - accuracy: 0.5630 - val_loss: 3.0789 - val_accuracy: 0.4263\n",
            "Epoch 22/30\n",
            "71/71 [==============================] - 3s 38ms/step - loss: 1.2650 - accuracy: 0.5777 - val_loss: 2.7503 - val_accuracy: 0.4327\n",
            "Epoch 23/30\n",
            "71/71 [==============================] - 3s 38ms/step - loss: 1.1733 - accuracy: 0.5857 - val_loss: 2.5215 - val_accuracy: 0.4562\n",
            "Epoch 24/30\n",
            "71/71 [==============================] - 3s 39ms/step - loss: 1.1457 - accuracy: 0.6061 - val_loss: 2.4648 - val_accuracy: 0.4412\n",
            "Epoch 25/30\n",
            "71/71 [==============================] - 3s 41ms/step - loss: 1.1215 - accuracy: 0.6319 - val_loss: 2.6867 - val_accuracy: 0.4476\n",
            "Epoch 26/30\n",
            "71/71 [==============================] - 3s 39ms/step - loss: 1.0839 - accuracy: 0.6368 - val_loss: 2.9153 - val_accuracy: 0.4434\n",
            "Epoch 27/30\n",
            "71/71 [==============================] - 3s 41ms/step - loss: 1.0122 - accuracy: 0.6506 - val_loss: 3.1456 - val_accuracy: 0.4391\n",
            "Epoch 28/30\n",
            "71/71 [==============================] - 3s 39ms/step - loss: 1.0184 - accuracy: 0.6641 - val_loss: 3.2193 - val_accuracy: 0.4295\n",
            "Epoch 29/30\n",
            "71/71 [==============================] - 3s 43ms/step - loss: 1.0139 - accuracy: 0.6655 - val_loss: 2.8564 - val_accuracy: 0.4594\n",
            "Epoch 30/30\n",
            "71/71 [==============================] - 3s 41ms/step - loss: 1.0191 - accuracy: 0.6613 - val_loss: 3.2679 - val_accuracy: 0.4476\n"
          ]
        }
      ]
    },
    {
      "cell_type": "code",
      "source": [
        "plot_accuracy(history)"
      ],
      "metadata": {
        "colab": {
          "base_uri": "https://localhost:8080/",
          "height": 475
        },
        "id": "uSUh3V7fSTkN",
        "outputId": "d5024a5c-91ae-4e66-8cc4-7691d15eb8a4"
      },
      "execution_count": 53,
      "outputs": [
        {
          "output_type": "display_data",
          "data": {
            "image/png": "[encoded data removed]",
            "text/plain": [
              "<Figure size 576x216 with 1 Axes>"
            ]
          },
          "metadata": {}
        },
        {
          "output_type": "display_data",
          "data": {
            "image/png": "[encoded data removed]",
            "text/plain": [
              "<Figure size 576x216 with 1 Axes>"
            ]
          },
          "metadata": {}
        }
      ]
    },
    {
      "cell_type": "code",
      "source": [
        "test_scores_fnn = test_scores(model)\n",
        "test_scores_fnn"
      ],
      "metadata": {
        "colab": {
          "base_uri": "https://localhost:8080/"
        },
        "id": "HedronIUOnbM",
        "outputId": "5e1f082f-65fd-4032-a75f-9ed1c4768b3f"
      },
      "execution_count": 56,
      "outputs": [
        {
          "output_type": "stream",
          "name": "stdout",
          "text": [
            "30/30 [==============================] - 0s 11ms/step - loss: 3.2679 - accuracy: 0.4476\n",
            "27/27 [==============================] - 0s 10ms/step - loss: 3.4543 - accuracy: 0.4093\n",
            "26/26 [==============================] - 0s 11ms/step - loss: 4.0235 - accuracy: 0.5360\n",
            "26/26 [==============================] - 0s 11ms/step - loss: 5.8613 - accuracy: 0.3958\n",
            "27/27 [==============================] - 0s 11ms/step - loss: 3.5794 - accuracy: 0.4540\n"
          ]
        },
        {
          "output_type": "execute_result",
          "data": {
            "text/plain": [
              "[0.4476495683193207,\n",
              " 0.4093078672885895,\n",
              " 0.5359801650047302,\n",
              " 0.3958333432674408,\n",
              " 0.45400238037109375]"
            ]
          },
          "metadata": {},
          "execution_count": 56
        }
      ]
    },
    {
      "cell_type": "code",
      "source": [
        "print((np.mean(test_scores_fnn), np.std(test_scores_fnn))) "
      ],
      "metadata": {
        "colab": {
          "base_uri": "https://localhost:8080/"
        },
        "id": "Tx4sNY5BRWJT",
        "outputId": "652c5a20-2fca-4f38-b447-d14d3b9dd2d1"
      },
      "execution_count": 57,
      "outputs": [
        {
          "output_type": "stream",
          "name": "stdout",
          "text": [
            "(0.448554664850235, 0.04897665515257511)\n"
          ]
        }
      ]
    },
    {
      "cell_type": "markdown",
      "source": [
        "### RNN"
      ],
      "metadata": {
        "id": "nJMi9Puu5q0C"
      }
    },
    {
      "cell_type": "code",
      "source": [
        "X_train.shape"
      ],
      "metadata": {
        "colab": {
          "base_uri": "https://localhost:8080/"
        },
        "id": "mXnN9jwUHKk1",
        "outputId": "ec38fb3c-eb06-4b2c-8be6-80c049064dab"
      },
      "execution_count": 61,
      "outputs": [
        {
          "output_type": "execute_result",
          "data": {
            "text/plain": [
              "(4499, 40, 64)"
            ]
          },
          "metadata": {},
          "execution_count": 61
        }
      ]
    },
    {
      "cell_type": "code",
      "source": [
        "X_train_T = np.transpose(X_train, (0,2,1))\n",
        "X_val_T = np.transpose(X_val, (0,2,1))\n",
        "X_test7 = np.transpose(X_test7, (0,2,1))\n",
        "X_test8 = np.transpose(X_test8, (0,2,1))\n",
        "X_test9 = np.transpose(X_test9, (0,2,1))\n",
        "X_test10 = np.transpose(X_test10, (0,2,1))\n",
        "X_train_T.shape, X_val_T.shape"
      ],
      "metadata": {
        "colab": {
          "base_uri": "https://localhost:8080/"
        },
        "id": "Vtcsnohx9m7_",
        "outputId": "3cc03b50-0a27-418c-973d-138b88c8453c"
      },
      "execution_count": 62,
      "outputs": [
        {
          "output_type": "execute_result",
          "data": {
            "text/plain": [
              "((4499, 64, 40), (936, 64, 40))"
            ]
          },
          "metadata": {},
          "execution_count": 62
        }
      ]
    },
    {
      "cell_type": "code",
      "source": [
        "# Neural network model\n",
        "input_shape = (64,40)\n",
        "\n",
        "model = Sequential()\n",
        "model.add(LSTM(64,input_shape=input_shape, dropout = 0.2, recurrent_dropout = 0.2))\n",
        "model.add(Dense(64, activation='relu'))\n",
        "model.add(Dropout(0.2))\n",
        "model.add(Dense(32, activation='relu'))\n",
        "model.add(Dropout(0.2))\n",
        "model.add(Dense(24, activation='relu'))\n",
        "model.add(Dropout(0.2))\n",
        "model.add(Dense(10, activation='softmax'))\n",
        "model.summary()"
      ],
      "metadata": {
        "id": "225Zww0T-XvP",
        "colab": {
          "base_uri": "https://localhost:8080/"
        },
        "outputId": "ca4e74ea-f893-48d5-915e-d09bbbcc6476"
      },
      "execution_count": 68,
      "outputs": [
        {
          "output_type": "stream",
          "name": "stdout",
          "text": [
            "Model: \"sequential_9\"\n",
            "_________________________________________________________________\n",
            " Layer (type)                Output Shape              Param #   \n",
            "=================================================================\n",
            " lstm_1 (LSTM)               (None, 64)                26880     \n",
            "                                                                 \n",
            " dense_35 (Dense)            (None, 64)                4160      \n",
            "                                                                 \n",
            " dropout_29 (Dropout)        (None, 64)                0         \n",
            "                                                                 \n",
            " dense_36 (Dense)            (None, 32)                2080      \n",
            "                                                                 \n",
            " dropout_30 (Dropout)        (None, 32)                0         \n",
            "                                                                 \n",
            " dense_37 (Dense)            (None, 24)                792       \n",
            "                                                                 \n",
            " dropout_31 (Dropout)        (None, 24)                0         \n",
            "                                                                 \n",
            " dense_38 (Dense)            (None, 10)                250       \n",
            "                                                                 \n",
            "=================================================================\n",
            "Total params: 34,162\n",
            "Trainable params: 34,162\n",
            "Non-trainable params: 0\n",
            "_________________________________________________________________\n"
          ]
        }
      ]
    },
    {
      "cell_type": "code",
      "source": [
        "#compiling\n",
        "model.compile(optimizer='adam',loss='categorical_crossentropy',metrics=['accuracy'])"
      ],
      "metadata": {
        "id": "XhyJ8wGkBMBM"
      },
      "execution_count": 70,
      "outputs": []
    },
    {
      "cell_type": "code",
      "source": [
        "history = model.fit(X_train_T,y_train,epochs=50 ,batch_size=256, validation_data = (X_val_T, y_val))"
      ],
      "metadata": {
        "colab": {
          "base_uri": "https://localhost:8080/"
        },
        "id": "lkZdsPQYBRmD",
        "outputId": "8de3f1be-c55f-4874-b079-7054b54138c3"
      },
      "execution_count": 71,
      "outputs": [
        {
          "output_type": "stream",
          "name": "stdout",
          "text": [
            "Epoch 1/50\n",
            "18/18 [==============================] - 8s 265ms/step - loss: 2.2714 - accuracy: 0.1560 - val_loss: 2.2383 - val_accuracy: 0.1709\n",
            "Epoch 2/50\n",
            "18/18 [==============================] - 4s 236ms/step - loss: 2.1498 - accuracy: 0.2087 - val_loss: 2.2038 - val_accuracy: 0.1603\n",
            "Epoch 3/50\n",
            "18/18 [==============================] - 4s 245ms/step - loss: 2.0612 - accuracy: 0.2507 - val_loss: 2.1759 - val_accuracy: 0.2105\n",
            "Epoch 4/50\n",
            "18/18 [==============================] - 4s 234ms/step - loss: 1.9736 - accuracy: 0.2905 - val_loss: 2.1649 - val_accuracy: 0.2286\n",
            "Epoch 5/50\n",
            "18/18 [==============================] - 4s 234ms/step - loss: 1.9168 - accuracy: 0.3065 - val_loss: 2.1366 - val_accuracy: 0.2415\n",
            "Epoch 6/50\n",
            "18/18 [==============================] - 5s 251ms/step - loss: 1.8626 - accuracy: 0.3281 - val_loss: 2.1535 - val_accuracy: 0.2393\n",
            "Epoch 7/50\n",
            "18/18 [==============================] - 4s 242ms/step - loss: 1.8344 - accuracy: 0.3385 - val_loss: 2.0973 - val_accuracy: 0.2671\n",
            "Epoch 8/50\n",
            "18/18 [==============================] - 4s 243ms/step - loss: 1.7740 - accuracy: 0.3532 - val_loss: 2.1208 - val_accuracy: 0.3088\n",
            "Epoch 9/50\n",
            "18/18 [==============================] - 4s 236ms/step - loss: 1.7470 - accuracy: 0.3743 - val_loss: 2.1184 - val_accuracy: 0.2756\n",
            "Epoch 10/50\n",
            "18/18 [==============================] - 4s 230ms/step - loss: 1.7019 - accuracy: 0.3808 - val_loss: 2.1653 - val_accuracy: 0.3205\n",
            "Epoch 11/50\n",
            "18/18 [==============================] - 4s 231ms/step - loss: 1.6637 - accuracy: 0.4121 - val_loss: 2.1962 - val_accuracy: 0.3291\n",
            "Epoch 12/50\n",
            "18/18 [==============================] - 4s 238ms/step - loss: 1.6286 - accuracy: 0.4392 - val_loss: 2.1647 - val_accuracy: 0.3152\n",
            "Epoch 13/50\n",
            "18/18 [==============================] - 4s 238ms/step - loss: 1.5811 - accuracy: 0.4457 - val_loss: 2.1624 - val_accuracy: 0.3504\n",
            "Epoch 14/50\n",
            "18/18 [==============================] - 4s 247ms/step - loss: 1.5692 - accuracy: 0.4608 - val_loss: 2.1399 - val_accuracy: 0.3259\n",
            "Epoch 15/50\n",
            "18/18 [==============================] - 4s 248ms/step - loss: 1.5429 - accuracy: 0.4570 - val_loss: 2.0351 - val_accuracy: 0.3600\n",
            "Epoch 16/50\n",
            "18/18 [==============================] - 4s 237ms/step - loss: 1.4991 - accuracy: 0.4834 - val_loss: 2.2006 - val_accuracy: 0.3558\n",
            "Epoch 17/50\n",
            "18/18 [==============================] - 4s 241ms/step - loss: 1.4831 - accuracy: 0.4854 - val_loss: 1.9553 - val_accuracy: 0.3397\n",
            "Epoch 18/50\n",
            "18/18 [==============================] - 4s 239ms/step - loss: 1.4650 - accuracy: 0.4943 - val_loss: 2.1224 - val_accuracy: 0.3707\n",
            "Epoch 19/50\n",
            "18/18 [==============================] - 4s 243ms/step - loss: 1.4260 - accuracy: 0.5048 - val_loss: 2.1002 - val_accuracy: 0.3654\n",
            "Epoch 20/50\n",
            "18/18 [==============================] - 4s 245ms/step - loss: 1.4004 - accuracy: 0.5208 - val_loss: 2.0202 - val_accuracy: 0.3654\n",
            "Epoch 21/50\n",
            "18/18 [==============================] - 4s 241ms/step - loss: 1.4097 - accuracy: 0.5163 - val_loss: 2.2253 - val_accuracy: 0.3397\n",
            "Epoch 22/50\n",
            "18/18 [==============================] - 4s 235ms/step - loss: 1.3828 - accuracy: 0.5250 - val_loss: 2.0974 - val_accuracy: 0.3921\n",
            "Epoch 23/50\n",
            "18/18 [==============================] - 4s 233ms/step - loss: 1.3745 - accuracy: 0.5283 - val_loss: 2.0101 - val_accuracy: 0.4081\n",
            "Epoch 24/50\n",
            "18/18 [==============================] - 4s 229ms/step - loss: 1.3494 - accuracy: 0.5348 - val_loss: 2.0947 - val_accuracy: 0.3921\n",
            "Epoch 25/50\n",
            "18/18 [==============================] - 4s 235ms/step - loss: 1.3218 - accuracy: 0.5532 - val_loss: 2.0504 - val_accuracy: 0.4209\n",
            "Epoch 26/50\n",
            "18/18 [==============================] - 4s 228ms/step - loss: 1.2839 - accuracy: 0.5672 - val_loss: 2.1549 - val_accuracy: 0.4103\n",
            "Epoch 27/50\n",
            "18/18 [==============================] - 4s 232ms/step - loss: 1.2818 - accuracy: 0.5661 - val_loss: 2.1780 - val_accuracy: 0.4177\n",
            "Epoch 28/50\n",
            "18/18 [==============================] - 4s 234ms/step - loss: 1.2412 - accuracy: 0.5850 - val_loss: 2.2711 - val_accuracy: 0.3932\n",
            "Epoch 29/50\n",
            "18/18 [==============================] - 4s 238ms/step - loss: 1.2337 - accuracy: 0.5788 - val_loss: 2.2382 - val_accuracy: 0.4359\n",
            "Epoch 30/50\n",
            "18/18 [==============================] - 4s 232ms/step - loss: 1.2156 - accuracy: 0.5888 - val_loss: 2.2053 - val_accuracy: 0.4145\n",
            "Epoch 31/50\n",
            "18/18 [==============================] - 4s 231ms/step - loss: 1.2129 - accuracy: 0.5844 - val_loss: 2.2542 - val_accuracy: 0.4060\n",
            "Epoch 32/50\n",
            "18/18 [==============================] - 4s 238ms/step - loss: 1.2035 - accuracy: 0.5921 - val_loss: 2.2497 - val_accuracy: 0.4188\n",
            "Epoch 33/50\n",
            "18/18 [==============================] - 4s 236ms/step - loss: 1.1831 - accuracy: 0.5937 - val_loss: 2.3049 - val_accuracy: 0.4327\n",
            "Epoch 34/50\n",
            "18/18 [==============================] - 4s 243ms/step - loss: 1.1507 - accuracy: 0.6152 - val_loss: 2.2831 - val_accuracy: 0.4231\n",
            "Epoch 35/50\n",
            "18/18 [==============================] - 4s 240ms/step - loss: 1.1344 - accuracy: 0.6181 - val_loss: 2.2755 - val_accuracy: 0.4306\n",
            "Epoch 36/50\n",
            "18/18 [==============================] - 4s 237ms/step - loss: 1.1231 - accuracy: 0.6128 - val_loss: 2.2717 - val_accuracy: 0.4605\n",
            "Epoch 37/50\n",
            "18/18 [==============================] - 4s 235ms/step - loss: 1.1260 - accuracy: 0.6215 - val_loss: 2.3027 - val_accuracy: 0.4327\n",
            "Epoch 38/50\n",
            "18/18 [==============================] - 4s 237ms/step - loss: 1.1047 - accuracy: 0.6297 - val_loss: 2.3024 - val_accuracy: 0.4263\n",
            "Epoch 39/50\n",
            "18/18 [==============================] - 4s 239ms/step - loss: 1.1012 - accuracy: 0.6226 - val_loss: 2.2749 - val_accuracy: 0.4338\n",
            "Epoch 40/50\n",
            "18/18 [==============================] - 4s 228ms/step - loss: 1.1083 - accuracy: 0.6284 - val_loss: 2.3148 - val_accuracy: 0.4241\n",
            "Epoch 41/50\n",
            "18/18 [==============================] - 4s 232ms/step - loss: 1.0846 - accuracy: 0.6357 - val_loss: 2.2721 - val_accuracy: 0.4359\n",
            "Epoch 42/50\n",
            "18/18 [==============================] - 4s 236ms/step - loss: 1.0577 - accuracy: 0.6501 - val_loss: 2.2575 - val_accuracy: 0.4092\n",
            "Epoch 43/50\n",
            "18/18 [==============================] - 4s 242ms/step - loss: 1.0703 - accuracy: 0.6373 - val_loss: 2.3755 - val_accuracy: 0.3825\n",
            "Epoch 44/50\n",
            "18/18 [==============================] - 4s 237ms/step - loss: 1.0316 - accuracy: 0.6535 - val_loss: 2.2954 - val_accuracy: 0.4338\n",
            "Epoch 45/50\n",
            "18/18 [==============================] - 4s 231ms/step - loss: 1.0296 - accuracy: 0.6459 - val_loss: 2.4432 - val_accuracy: 0.4209\n",
            "Epoch 46/50\n",
            "18/18 [==============================] - 4s 238ms/step - loss: 1.0271 - accuracy: 0.6459 - val_loss: 2.3465 - val_accuracy: 0.4380\n",
            "Epoch 47/50\n",
            "18/18 [==============================] - 4s 234ms/step - loss: 1.0191 - accuracy: 0.6621 - val_loss: 2.3061 - val_accuracy: 0.4370\n",
            "Epoch 48/50\n",
            "18/18 [==============================] - 4s 236ms/step - loss: 0.9748 - accuracy: 0.6724 - val_loss: 2.4161 - val_accuracy: 0.4199\n",
            "Epoch 49/50\n",
            "18/18 [==============================] - 4s 239ms/step - loss: 0.9959 - accuracy: 0.6664 - val_loss: 2.3849 - val_accuracy: 0.4006\n",
            "Epoch 50/50\n",
            "18/18 [==============================] - 4s 242ms/step - loss: 0.9973 - accuracy: 0.6719 - val_loss: 2.4672 - val_accuracy: 0.4423\n"
          ]
        }
      ]
    },
    {
      "cell_type": "code",
      "source": [
        "plot_accuracy(history)"
      ],
      "metadata": {
        "colab": {
          "base_uri": "https://localhost:8080/",
          "height": 475
        },
        "outputId": "023f0ec3-26b6-460b-ba06-932234e5e327",
        "id": "sYEbnxlSG-ah"
      },
      "execution_count": 72,
      "outputs": [
        {
          "output_type": "display_data",
          "data": {
            "image/png": "[encoded data removed]",
            "text/plain": [
              "<Figure size 576x216 with 1 Axes>"
            ]
          },
          "metadata": {}
        },
        {
          "output_type": "display_data",
          "data": {
            "image/png": "[encoded data removed]",
            "text/plain": [
              "<Figure size 576x216 with 1 Axes>"
            ]
          },
          "metadata": {}
        }
      ]
    },
    {
      "cell_type": "code",
      "source": [
        "score5 = model.evaluate(X_val_T, y_val)\n",
        "score7 = model.evaluate(X_test7, y_test7)\n",
        "score8 = model.evaluate(X_test8, y_test8)\n",
        "score9 = model.evaluate(X_test9, y_test9)\n",
        "score10 = model.evaluate(X_test10, y_test10)\n",
        "test_scores = [score5[1],score7[1],score8[1],score9[1],score10[1]]\n",
        "test_scores"
      ],
      "metadata": {
        "id": "GLcsJGkFBRql",
        "colab": {
          "base_uri": "https://localhost:8080/"
        },
        "outputId": "43c710f0-9893-4f9b-99c3-0cc85b451177"
      },
      "execution_count": 75,
      "outputs": [
        {
          "output_type": "stream",
          "name": "stdout",
          "text": [
            "30/30 [==============================] - 0s 15ms/step - loss: 2.4672 - accuracy: 0.4423\n",
            "27/27 [==============================] - 0s 14ms/step - loss: 1.9559 - accuracy: 0.4260\n",
            "26/26 [==============================] - 0s 13ms/step - loss: 1.8323 - accuracy: 0.4826\n",
            "26/26 [==============================] - 0s 15ms/step - loss: 2.6151 - accuracy: 0.3885\n",
            "27/27 [==============================] - 0s 15ms/step - loss: 1.9872 - accuracy: 0.4432\n"
          ]
        },
        {
          "output_type": "execute_result",
          "data": {
            "text/plain": [
              "[0.4423076808452606,\n",
              " 0.42601433396339417,\n",
              " 0.48263028264045715,\n",
              " 0.38848039507865906,\n",
              " 0.4432497024536133]"
            ]
          },
          "metadata": {},
          "execution_count": 75
        }
      ]
    },
    {
      "cell_type": "code",
      "source": [
        "print((np.mean(test_scores), np.std(test_scores)))"
      ],
      "metadata": {
        "colab": {
          "base_uri": "https://localhost:8080/"
        },
        "id": "EACUuHz27OJ9",
        "outputId": "05540111-e5c0-4366-ac42-821e56c8e4df"
      },
      "execution_count": 77,
      "outputs": [
        {
          "output_type": "stream",
          "name": "stdout",
          "text": [
            "(0.43653647899627684, 0.030407616190514627)\n"
          ]
        }
      ]
    }
  ]
}