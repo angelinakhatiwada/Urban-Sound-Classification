{
  "cells": [
    {
      "cell_type": "markdown",
      "metadata": {
        "id": "view-in-github",
        "colab_type": "text"
      },
      "source": [
        "<a href=\"https://colab.research.google.com/github/angelinakhatiwada/Urban-Sound-Classification/blob/main/FNN_RNN_CNN_Mels_MFCCs_Chroma_(480).ipynb\" target=\"_parent\"><img src=\"https://colab.research.google.com/assets/colab-badge.svg\" alt=\"Open In Colab\"/></a>"
      ]
    },
    {
      "cell_type": "markdown",
      "metadata": {
        "id": "AP-HgoxBpsmf"
      },
      "source": [
        "# Urban Sound Classification\n",
        "\n",
        "## Classification\n",
        "\n",
        "### Mels, MFCCS, Chroma 480\n",
        "\n"
      ]
    },
    {
      "cell_type": "code",
      "execution_count": 123,
      "metadata": {
        "id": "5JwNMRwvprqG"
      },
      "outputs": [],
      "source": [
        "import pandas as pd\n",
        "import numpy as np\n",
        "\n",
        "import matplotlib.pyplot as plt\n",
        "import seaborn as sns\n",
        "sns.set(font_scale=1)\n",
        "\n",
        "from sklearn.metrics import classification_report, confusion_matrix\n",
        "import os\n",
        "\n",
        "import pickle"
      ]
    },
    {
      "cell_type": "code",
      "execution_count": 2,
      "metadata": {
        "id": "CWL6eZ8_pphx"
      },
      "outputs": [],
      "source": [
        "# Libraries for Classification and building Models\n",
        "\n",
        "from tensorflow.keras.models import Sequential\n",
        "from tensorflow.keras.layers import Activation, Conv2D, Flatten, Dense, MaxPool2D, Dropout, LSTM\n",
        "from tensorflow.keras.utils import to_categorical "
      ]
    },
    {
      "cell_type": "markdown",
      "metadata": {
        "id": "WgV2ITtk6bnP"
      },
      "source": [
        "### Data import from pickle"
      ]
    },
    {
      "cell_type": "code",
      "source": [
        "metadata = pd.read_csv(\"UrbanSound8K.csv\")\n",
        "print(metadata.shape)\n",
        "metadata.head(5)"
      ],
      "metadata": {
        "colab": {
          "base_uri": "https://localhost:8080/",
          "height": 223
        },
        "id": "XA6XW879Im3P",
        "outputId": "b942e12f-46a0-4e74-c322-71269e870850"
      },
      "execution_count": 105,
      "outputs": [
        {
          "output_type": "stream",
          "name": "stdout",
          "text": [
            "(8732, 8)\n"
          ]
        },
        {
          "output_type": "execute_result",
          "data": {
            "text/html": [
              "\n",
              "  <div id=\"df-8e46444f-405d-49c4-84f3-7bb7f3e7b04a\">\n",
              "    <div class=\"colab-df-container\">\n",
              "      <div>\n",
              "<style scoped>\n",
              "    .dataframe tbody tr th:only-of-type {\n",
              "        vertical-align: middle;\n",
              "    }\n",
              "\n",
              "    .dataframe tbody tr th {\n",
              "        vertical-align: top;\n",
              "    }\n",
              "\n",
              "    .dataframe thead th {\n",
              "        text-align: right;\n",
              "    }\n",
              "</style>\n",
              "<table border=\"1\" class=\"dataframe\">\n",
              "  <thead>\n",
              "    <tr style=\"text-align: right;\">\n",
              "      <th></th>\n",
              "      <th>slice_file_name</th>\n",
              "      <th>fsID</th>\n",
              "      <th>start</th>\n",
              "      <th>end</th>\n",
              "      <th>salience</th>\n",
              "      <th>fold</th>\n",
              "      <th>classID</th>\n",
              "      <th>class</th>\n",
              "    </tr>\n",
              "  </thead>\n",
              "  <tbody>\n",
              "    <tr>\n",
              "      <th>0</th>\n",
              "      <td>100032-3-0-0.wav</td>\n",
              "      <td>100032</td>\n",
              "      <td>0.0</td>\n",
              "      <td>0.317551</td>\n",
              "      <td>1</td>\n",
              "      <td>5</td>\n",
              "      <td>3</td>\n",
              "      <td>dog_bark</td>\n",
              "    </tr>\n",
              "    <tr>\n",
              "      <th>1</th>\n",
              "      <td>100263-2-0-117.wav</td>\n",
              "      <td>100263</td>\n",
              "      <td>58.5</td>\n",
              "      <td>62.500000</td>\n",
              "      <td>1</td>\n",
              "      <td>5</td>\n",
              "      <td>2</td>\n",
              "      <td>children_playing</td>\n",
              "    </tr>\n",
              "    <tr>\n",
              "      <th>2</th>\n",
              "      <td>100263-2-0-121.wav</td>\n",
              "      <td>100263</td>\n",
              "      <td>60.5</td>\n",
              "      <td>64.500000</td>\n",
              "      <td>1</td>\n",
              "      <td>5</td>\n",
              "      <td>2</td>\n",
              "      <td>children_playing</td>\n",
              "    </tr>\n",
              "    <tr>\n",
              "      <th>3</th>\n",
              "      <td>100263-2-0-126.wav</td>\n",
              "      <td>100263</td>\n",
              "      <td>63.0</td>\n",
              "      <td>67.000000</td>\n",
              "      <td>1</td>\n",
              "      <td>5</td>\n",
              "      <td>2</td>\n",
              "      <td>children_playing</td>\n",
              "    </tr>\n",
              "    <tr>\n",
              "      <th>4</th>\n",
              "      <td>100263-2-0-137.wav</td>\n",
              "      <td>100263</td>\n",
              "      <td>68.5</td>\n",
              "      <td>72.500000</td>\n",
              "      <td>1</td>\n",
              "      <td>5</td>\n",
              "      <td>2</td>\n",
              "      <td>children_playing</td>\n",
              "    </tr>\n",
              "  </tbody>\n",
              "</table>\n",
              "</div>\n",
              "      <button class=\"colab-df-convert\" onclick=\"convertToInteractive('df-8e46444f-405d-49c4-84f3-7bb7f3e7b04a')\"\n",
              "              title=\"Convert this dataframe to an interactive table.\"\n",
              "              style=\"display:none;\">\n",
              "        \n",
              "  <svg xmlns=\"http://www.w3.org/2000/svg\" height=\"24px\"viewBox=\"0 0 24 24\"\n",
              "       width=\"24px\">\n",
              "    <path d=\"M0 0h24v24H0V0z\" fill=\"none\"/>\n",
              "    <path d=\"M18.56 5.44l.94 2.06.94-2.06 2.06-.94-2.06-.94-.94-2.06-.94 2.06-2.06.94zm-11 1L8.5 8.5l.94-2.06 2.06-.94-2.06-.94L8.5 2.5l-.94 2.06-2.06.94zm10 10l.94 2.06.94-2.06 2.06-.94-2.06-.94-.94-2.06-.94 2.06-2.06.94z\"/><path d=\"M17.41 7.96l-1.37-1.37c-.4-.4-.92-.59-1.43-.59-.52 0-1.04.2-1.43.59L10.3 9.45l-7.72 7.72c-.78.78-.78 2.05 0 2.83L4 21.41c.39.39.9.59 1.41.59.51 0 1.02-.2 1.41-.59l7.78-7.78 2.81-2.81c.8-.78.8-2.07 0-2.86zM5.41 20L4 18.59l7.72-7.72 1.47 1.35L5.41 20z\"/>\n",
              "  </svg>\n",
              "      </button>\n",
              "      \n",
              "  <style>\n",
              "    .colab-df-container {\n",
              "      display:flex;\n",
              "      flex-wrap:wrap;\n",
              "      gap: 12px;\n",
              "    }\n",
              "\n",
              "    .colab-df-convert {\n",
              "      background-color: #E8F0FE;\n",
              "      border: none;\n",
              "      border-radius: 50%;\n",
              "      cursor: pointer;\n",
              "      display: none;\n",
              "      fill: #1967D2;\n",
              "      height: 32px;\n",
              "      padding: 0 0 0 0;\n",
              "      width: 32px;\n",
              "    }\n",
              "\n",
              "    .colab-df-convert:hover {\n",
              "      background-color: #E2EBFA;\n",
              "      box-shadow: 0px 1px 2px rgba(60, 64, 67, 0.3), 0px 1px 3px 1px rgba(60, 64, 67, 0.15);\n",
              "      fill: #174EA6;\n",
              "    }\n",
              "\n",
              "    [theme=dark] .colab-df-convert {\n",
              "      background-color: #3B4455;\n",
              "      fill: #D2E3FC;\n",
              "    }\n",
              "\n",
              "    [theme=dark] .colab-df-convert:hover {\n",
              "      background-color: #434B5C;\n",
              "      box-shadow: 0px 1px 3px 1px rgba(0, 0, 0, 0.15);\n",
              "      filter: drop-shadow(0px 1px 2px rgba(0, 0, 0, 0.3));\n",
              "      fill: #FFFFFF;\n",
              "    }\n",
              "  </style>\n",
              "\n",
              "      <script>\n",
              "        const buttonEl =\n",
              "          document.querySelector('#df-8e46444f-405d-49c4-84f3-7bb7f3e7b04a button.colab-df-convert');\n",
              "        buttonEl.style.display =\n",
              "          google.colab.kernel.accessAllowed ? 'block' : 'none';\n",
              "\n",
              "        async function convertToInteractive(key) {\n",
              "          const element = document.querySelector('#df-8e46444f-405d-49c4-84f3-7bb7f3e7b04a');\n",
              "          const dataTable =\n",
              "            await google.colab.kernel.invokeFunction('convertToInteractive',\n",
              "                                                     [key], {});\n",
              "          if (!dataTable) return;\n",
              "\n",
              "          const docLinkHtml = 'Like what you see? Visit the ' +\n",
              "            '<a target=\"_blank\" href=https://colab.research.google.com/notebooks/data_table.ipynb>data table notebook</a>'\n",
              "            + ' to learn more about interactive tables.';\n",
              "          element.innerHTML = '';\n",
              "          dataTable['output_type'] = 'display_data';\n",
              "          await google.colab.output.renderOutput(dataTable, element);\n",
              "          const docLink = document.createElement('div');\n",
              "          docLink.innerHTML = docLinkHtml;\n",
              "          element.appendChild(docLink);\n",
              "        }\n",
              "      </script>\n",
              "    </div>\n",
              "  </div>\n",
              "  "
            ],
            "text/plain": [
              "      slice_file_name    fsID  start  ...  fold  classID             class\n",
              "0    100032-3-0-0.wav  100032    0.0  ...     5        3          dog_bark\n",
              "1  100263-2-0-117.wav  100263   58.5  ...     5        2  children_playing\n",
              "2  100263-2-0-121.wav  100263   60.5  ...     5        2  children_playing\n",
              "3  100263-2-0-126.wav  100263   63.0  ...     5        2  children_playing\n",
              "4  100263-2-0-137.wav  100263   68.5  ...     5        2  children_playing\n",
              "\n",
              "[5 rows x 8 columns]"
            ]
          },
          "metadata": {},
          "execution_count": 105
        }
      ]
    },
    {
      "cell_type": "code",
      "execution_count": 3,
      "metadata": {
        "id": "Snpzh0wGbXS5"
      },
      "outputs": [],
      "source": [
        "with open('features_mfcc_mels_chroma_480.p', 'rb') as f:\n",
        "    data = pickle.load(f)"
      ]
    },
    {
      "cell_type": "code",
      "execution_count": 4,
      "metadata": {
        "colab": {
          "base_uri": "https://localhost:8080/",
          "height": 206
        },
        "id": "5bsyYxkokeEX",
        "outputId": "17825bea-6316-4d51-95bf-817e0c78d0e2"
      },
      "outputs": [
        {
          "output_type": "execute_result",
          "data": {
            "text/html": [
              "\n",
              "  <div id=\"df-75ff7423-4906-4c4c-99c2-2b86f08e7694\">\n",
              "    <div class=\"colab-df-container\">\n",
              "      <div>\n",
              "<style scoped>\n",
              "    .dataframe tbody tr th:only-of-type {\n",
              "        vertical-align: middle;\n",
              "    }\n",
              "\n",
              "    .dataframe tbody tr th {\n",
              "        vertical-align: top;\n",
              "    }\n",
              "\n",
              "    .dataframe thead th {\n",
              "        text-align: right;\n",
              "    }\n",
              "</style>\n",
              "<table border=\"1\" class=\"dataframe\">\n",
              "  <thead>\n",
              "    <tr style=\"text-align: right;\">\n",
              "      <th></th>\n",
              "      <th>shape</th>\n",
              "      <th>label</th>\n",
              "      <th>fold</th>\n",
              "      <th>file_name</th>\n",
              "      <th>sample</th>\n",
              "    </tr>\n",
              "  </thead>\n",
              "  <tbody>\n",
              "    <tr>\n",
              "      <th>0</th>\n",
              "      <td>(1, 480)</td>\n",
              "      <td>3</td>\n",
              "      <td>5</td>\n",
              "      <td>100032-3-0-0.wav</td>\n",
              "      <td>[-275.1181945800781, 119.9420166015625, -98.53...</td>\n",
              "    </tr>\n",
              "    <tr>\n",
              "      <th>1</th>\n",
              "      <td>(1, 480)</td>\n",
              "      <td>2</td>\n",
              "      <td>5</td>\n",
              "      <td>100263-2-0-117.wav</td>\n",
              "      <td>[-500.94219970703125, 185.2790985107422, -86.7...</td>\n",
              "    </tr>\n",
              "    <tr>\n",
              "      <th>2</th>\n",
              "      <td>(1, 480)</td>\n",
              "      <td>2</td>\n",
              "      <td>5</td>\n",
              "      <td>100263-2-0-121.wav</td>\n",
              "      <td>[-531.3129272460938, 187.2084197998047, -70.58...</td>\n",
              "    </tr>\n",
              "    <tr>\n",
              "      <th>3</th>\n",
              "      <td>(1, 480)</td>\n",
              "      <td>2</td>\n",
              "      <td>5</td>\n",
              "      <td>100263-2-0-126.wav</td>\n",
              "      <td>[-476.6883544921875, 160.30865478515625, -62.9...</td>\n",
              "    </tr>\n",
              "    <tr>\n",
              "      <th>4</th>\n",
              "      <td>(1, 480)</td>\n",
              "      <td>2</td>\n",
              "      <td>5</td>\n",
              "      <td>100263-2-0-137.wav</td>\n",
              "      <td>[-521.3388671875, 185.5974578857422, -82.17254...</td>\n",
              "    </tr>\n",
              "  </tbody>\n",
              "</table>\n",
              "</div>\n",
              "      <button class=\"colab-df-convert\" onclick=\"convertToInteractive('df-75ff7423-4906-4c4c-99c2-2b86f08e7694')\"\n",
              "              title=\"Convert this dataframe to an interactive table.\"\n",
              "              style=\"display:none;\">\n",
              "        \n",
              "  <svg xmlns=\"http://www.w3.org/2000/svg\" height=\"24px\"viewBox=\"0 0 24 24\"\n",
              "       width=\"24px\">\n",
              "    <path d=\"M0 0h24v24H0V0z\" fill=\"none\"/>\n",
              "    <path d=\"M18.56 5.44l.94 2.06.94-2.06 2.06-.94-2.06-.94-.94-2.06-.94 2.06-2.06.94zm-11 1L8.5 8.5l.94-2.06 2.06-.94-2.06-.94L8.5 2.5l-.94 2.06-2.06.94zm10 10l.94 2.06.94-2.06 2.06-.94-2.06-.94-.94-2.06-.94 2.06-2.06.94z\"/><path d=\"M17.41 7.96l-1.37-1.37c-.4-.4-.92-.59-1.43-.59-.52 0-1.04.2-1.43.59L10.3 9.45l-7.72 7.72c-.78.78-.78 2.05 0 2.83L4 21.41c.39.39.9.59 1.41.59.51 0 1.02-.2 1.41-.59l7.78-7.78 2.81-2.81c.8-.78.8-2.07 0-2.86zM5.41 20L4 18.59l7.72-7.72 1.47 1.35L5.41 20z\"/>\n",
              "  </svg>\n",
              "      </button>\n",
              "      \n",
              "  <style>\n",
              "    .colab-df-container {\n",
              "      display:flex;\n",
              "      flex-wrap:wrap;\n",
              "      gap: 12px;\n",
              "    }\n",
              "\n",
              "    .colab-df-convert {\n",
              "      background-color: #E8F0FE;\n",
              "      border: none;\n",
              "      border-radius: 50%;\n",
              "      cursor: pointer;\n",
              "      display: none;\n",
              "      fill: #1967D2;\n",
              "      height: 32px;\n",
              "      padding: 0 0 0 0;\n",
              "      width: 32px;\n",
              "    }\n",
              "\n",
              "    .colab-df-convert:hover {\n",
              "      background-color: #E2EBFA;\n",
              "      box-shadow: 0px 1px 2px rgba(60, 64, 67, 0.3), 0px 1px 3px 1px rgba(60, 64, 67, 0.15);\n",
              "      fill: #174EA6;\n",
              "    }\n",
              "\n",
              "    [theme=dark] .colab-df-convert {\n",
              "      background-color: #3B4455;\n",
              "      fill: #D2E3FC;\n",
              "    }\n",
              "\n",
              "    [theme=dark] .colab-df-convert:hover {\n",
              "      background-color: #434B5C;\n",
              "      box-shadow: 0px 1px 3px 1px rgba(0, 0, 0, 0.15);\n",
              "      filter: drop-shadow(0px 1px 2px rgba(0, 0, 0, 0.3));\n",
              "      fill: #FFFFFF;\n",
              "    }\n",
              "  </style>\n",
              "\n",
              "      <script>\n",
              "        const buttonEl =\n",
              "          document.querySelector('#df-75ff7423-4906-4c4c-99c2-2b86f08e7694 button.colab-df-convert');\n",
              "        buttonEl.style.display =\n",
              "          google.colab.kernel.accessAllowed ? 'block' : 'none';\n",
              "\n",
              "        async function convertToInteractive(key) {\n",
              "          const element = document.querySelector('#df-75ff7423-4906-4c4c-99c2-2b86f08e7694');\n",
              "          const dataTable =\n",
              "            await google.colab.kernel.invokeFunction('convertToInteractive',\n",
              "                                                     [key], {});\n",
              "          if (!dataTable) return;\n",
              "\n",
              "          const docLinkHtml = 'Like what you see? Visit the ' +\n",
              "            '<a target=\"_blank\" href=https://colab.research.google.com/notebooks/data_table.ipynb>data table notebook</a>'\n",
              "            + ' to learn more about interactive tables.';\n",
              "          element.innerHTML = '';\n",
              "          dataTable['output_type'] = 'display_data';\n",
              "          await google.colab.output.renderOutput(dataTable, element);\n",
              "          const docLink = document.createElement('div');\n",
              "          docLink.innerHTML = docLinkHtml;\n",
              "          element.appendChild(docLink);\n",
              "        }\n",
              "      </script>\n",
              "    </div>\n",
              "  </div>\n",
              "  "
            ],
            "text/plain": [
              "      shape  ...                                             sample\n",
              "0  (1, 480)  ...  [-275.1181945800781, 119.9420166015625, -98.53...\n",
              "1  (1, 480)  ...  [-500.94219970703125, 185.2790985107422, -86.7...\n",
              "2  (1, 480)  ...  [-531.3129272460938, 187.2084197998047, -70.58...\n",
              "3  (1, 480)  ...  [-476.6883544921875, 160.30865478515625, -62.9...\n",
              "4  (1, 480)  ...  [-521.3388671875, 185.5974578857422, -82.17254...\n",
              "\n",
              "[5 rows x 5 columns]"
            ]
          },
          "metadata": {},
          "execution_count": 4
        }
      ],
      "source": [
        "data.head()"
      ]
    },
    {
      "cell_type": "code",
      "execution_count": 5,
      "metadata": {
        "colab": {
          "base_uri": "https://localhost:8080/"
        },
        "id": "w5s3ORGVlbpD",
        "outputId": "3867a2ef-aead-487a-e566-82c520dde33b"
      },
      "outputs": [
        {
          "output_type": "stream",
          "name": "stdout",
          "text": [
            "working dataframe's shape: (8732, 482)\n"
          ]
        }
      ],
      "source": [
        "data_final = list(data['sample'])\n",
        "data_final = pd.DataFrame(data_final)\n",
        "data_cols = data_final.columns\n",
        "data_final['label'] = data['label']\n",
        "data_final['fold'] = data['fold']\n",
        "\n",
        "print('working dataframe\\'s shape:', data_final.shape)\n"
      ]
    },
    {
      "cell_type": "code",
      "execution_count": 6,
      "metadata": {
        "colab": {
          "base_uri": "https://localhost:8080/",
          "height": 299
        },
        "id": "C_gi90Y3XL4y",
        "outputId": "1f89e923-cb14-4498-8a87-f03efb8f3357"
      },
      "outputs": [
        {
          "output_type": "execute_result",
          "data": {
            "text/html": [
              "\n",
              "  <div id=\"df-895e94b4-3246-4dee-a3f3-e2852ebef1d5\">\n",
              "    <div class=\"colab-df-container\">\n",
              "      <div>\n",
              "<style scoped>\n",
              "    .dataframe tbody tr th:only-of-type {\n",
              "        vertical-align: middle;\n",
              "    }\n",
              "\n",
              "    .dataframe tbody tr th {\n",
              "        vertical-align: top;\n",
              "    }\n",
              "\n",
              "    .dataframe thead th {\n",
              "        text-align: right;\n",
              "    }\n",
              "</style>\n",
              "<table border=\"1\" class=\"dataframe\">\n",
              "  <thead>\n",
              "    <tr style=\"text-align: right;\">\n",
              "      <th></th>\n",
              "      <th>0</th>\n",
              "      <th>1</th>\n",
              "      <th>2</th>\n",
              "      <th>3</th>\n",
              "      <th>4</th>\n",
              "      <th>5</th>\n",
              "      <th>6</th>\n",
              "      <th>7</th>\n",
              "      <th>8</th>\n",
              "      <th>9</th>\n",
              "      <th>10</th>\n",
              "      <th>11</th>\n",
              "      <th>12</th>\n",
              "      <th>13</th>\n",
              "      <th>14</th>\n",
              "      <th>15</th>\n",
              "      <th>16</th>\n",
              "      <th>17</th>\n",
              "      <th>18</th>\n",
              "      <th>19</th>\n",
              "      <th>20</th>\n",
              "      <th>21</th>\n",
              "      <th>22</th>\n",
              "      <th>23</th>\n",
              "      <th>24</th>\n",
              "      <th>25</th>\n",
              "      <th>26</th>\n",
              "      <th>27</th>\n",
              "      <th>28</th>\n",
              "      <th>29</th>\n",
              "      <th>30</th>\n",
              "      <th>31</th>\n",
              "      <th>32</th>\n",
              "      <th>33</th>\n",
              "      <th>34</th>\n",
              "      <th>35</th>\n",
              "      <th>36</th>\n",
              "      <th>37</th>\n",
              "      <th>38</th>\n",
              "      <th>39</th>\n",
              "      <th>...</th>\n",
              "      <th>451</th>\n",
              "      <th>452</th>\n",
              "      <th>453</th>\n",
              "      <th>454</th>\n",
              "      <th>455</th>\n",
              "      <th>456</th>\n",
              "      <th>457</th>\n",
              "      <th>458</th>\n",
              "      <th>459</th>\n",
              "      <th>460</th>\n",
              "      <th>461</th>\n",
              "      <th>462</th>\n",
              "      <th>463</th>\n",
              "      <th>464</th>\n",
              "      <th>465</th>\n",
              "      <th>466</th>\n",
              "      <th>467</th>\n",
              "      <th>468</th>\n",
              "      <th>469</th>\n",
              "      <th>470</th>\n",
              "      <th>471</th>\n",
              "      <th>472</th>\n",
              "      <th>473</th>\n",
              "      <th>474</th>\n",
              "      <th>475</th>\n",
              "      <th>476</th>\n",
              "      <th>477</th>\n",
              "      <th>478</th>\n",
              "      <th>479</th>\n",
              "      <th>fold</th>\n",
              "      <th>label_0</th>\n",
              "      <th>label_1</th>\n",
              "      <th>label_2</th>\n",
              "      <th>label_3</th>\n",
              "      <th>label_4</th>\n",
              "      <th>label_5</th>\n",
              "      <th>label_6</th>\n",
              "      <th>label_7</th>\n",
              "      <th>label_8</th>\n",
              "      <th>label_9</th>\n",
              "    </tr>\n",
              "  </thead>\n",
              "  <tbody>\n",
              "    <tr>\n",
              "      <th>0</th>\n",
              "      <td>-275.118195</td>\n",
              "      <td>119.942017</td>\n",
              "      <td>-98.532860</td>\n",
              "      <td>-66.605484</td>\n",
              "      <td>-42.486420</td>\n",
              "      <td>0.402131</td>\n",
              "      <td>-28.352808</td>\n",
              "      <td>-5.509757</td>\n",
              "      <td>10.228971</td>\n",
              "      <td>4.993427</td>\n",
              "      <td>15.709276</td>\n",
              "      <td>0.217791</td>\n",
              "      <td>-2.471627</td>\n",
              "      <td>-1.309020</td>\n",
              "      <td>-9.596347</td>\n",
              "      <td>0.060245</td>\n",
              "      <td>3.033216</td>\n",
              "      <td>1.275356</td>\n",
              "      <td>-5.545012</td>\n",
              "      <td>-10.447481</td>\n",
              "      <td>-6.123017</td>\n",
              "      <td>-1.195621</td>\n",
              "      <td>0.284951</td>\n",
              "      <td>4.162706</td>\n",
              "      <td>-6.063683</td>\n",
              "      <td>-9.491202</td>\n",
              "      <td>2.130976</td>\n",
              "      <td>4.013351</td>\n",
              "      <td>-6.147309</td>\n",
              "      <td>-2.467670</td>\n",
              "      <td>-1.218678</td>\n",
              "      <td>-3.460061</td>\n",
              "      <td>1.996488</td>\n",
              "      <td>1.482269</td>\n",
              "      <td>-4.421334</td>\n",
              "      <td>-3.871776</td>\n",
              "      <td>0.260201</td>\n",
              "      <td>6.499504</td>\n",
              "      <td>1.660284</td>\n",
              "      <td>1.564348</td>\n",
              "      <td>...</td>\n",
              "      <td>0.538574</td>\n",
              "      <td>0.259776</td>\n",
              "      <td>0.398686</td>\n",
              "      <td>0.39761</td>\n",
              "      <td>0.288206</td>\n",
              "      <td>0.218016</td>\n",
              "      <td>0.170305</td>\n",
              "      <td>0.180948</td>\n",
              "      <td>0.226251</td>\n",
              "      <td>0.294747</td>\n",
              "      <td>0.368408</td>\n",
              "      <td>0.485800</td>\n",
              "      <td>0.599721</td>\n",
              "      <td>0.819157</td>\n",
              "      <td>1.0</td>\n",
              "      <td>1.0</td>\n",
              "      <td>1.00000</td>\n",
              "      <td>1.000000</td>\n",
              "      <td>1.0</td>\n",
              "      <td>1.0</td>\n",
              "      <td>0.597305</td>\n",
              "      <td>0.508665</td>\n",
              "      <td>0.569079</td>\n",
              "      <td>0.574369</td>\n",
              "      <td>0.396972</td>\n",
              "      <td>0.32768</td>\n",
              "      <td>0.416034</td>\n",
              "      <td>0.737669</td>\n",
              "      <td>1.0</td>\n",
              "      <td>5</td>\n",
              "      <td>0</td>\n",
              "      <td>0</td>\n",
              "      <td>0</td>\n",
              "      <td>1</td>\n",
              "      <td>0</td>\n",
              "      <td>0</td>\n",
              "      <td>0</td>\n",
              "      <td>0</td>\n",
              "      <td>0</td>\n",
              "      <td>0</td>\n",
              "    </tr>\n",
              "    <tr>\n",
              "      <th>1</th>\n",
              "      <td>-500.942200</td>\n",
              "      <td>185.279099</td>\n",
              "      <td>-86.730118</td>\n",
              "      <td>50.013321</td>\n",
              "      <td>9.129330</td>\n",
              "      <td>22.648664</td>\n",
              "      <td>-3.653800</td>\n",
              "      <td>12.262982</td>\n",
              "      <td>7.696915</td>\n",
              "      <td>-6.468750</td>\n",
              "      <td>16.996271</td>\n",
              "      <td>-6.642486</td>\n",
              "      <td>1.505258</td>\n",
              "      <td>9.502500</td>\n",
              "      <td>0.755485</td>\n",
              "      <td>2.961403</td>\n",
              "      <td>2.782999</td>\n",
              "      <td>8.564540</td>\n",
              "      <td>-1.573582</td>\n",
              "      <td>1.753064</td>\n",
              "      <td>6.427263</td>\n",
              "      <td>-0.822553</td>\n",
              "      <td>2.408933</td>\n",
              "      <td>-0.816355</td>\n",
              "      <td>2.321890</td>\n",
              "      <td>3.440592</td>\n",
              "      <td>1.043989</td>\n",
              "      <td>3.781467</td>\n",
              "      <td>2.287611</td>\n",
              "      <td>1.740997</td>\n",
              "      <td>-1.506974</td>\n",
              "      <td>-1.861573</td>\n",
              "      <td>0.376792</td>\n",
              "      <td>-3.290516</td>\n",
              "      <td>-1.969586</td>\n",
              "      <td>-1.592512</td>\n",
              "      <td>0.556584</td>\n",
              "      <td>0.477218</td>\n",
              "      <td>-0.363666</td>\n",
              "      <td>0.932288</td>\n",
              "      <td>...</td>\n",
              "      <td>1.000000</td>\n",
              "      <td>1.000000</td>\n",
              "      <td>1.000000</td>\n",
              "      <td>1.00000</td>\n",
              "      <td>1.000000</td>\n",
              "      <td>1.000000</td>\n",
              "      <td>1.000000</td>\n",
              "      <td>1.000000</td>\n",
              "      <td>1.000000</td>\n",
              "      <td>1.000000</td>\n",
              "      <td>1.000000</td>\n",
              "      <td>0.961986</td>\n",
              "      <td>1.000000</td>\n",
              "      <td>0.999780</td>\n",
              "      <td>1.0</td>\n",
              "      <td>1.0</td>\n",
              "      <td>1.00000</td>\n",
              "      <td>1.000000</td>\n",
              "      <td>1.0</td>\n",
              "      <td>1.0</td>\n",
              "      <td>1.000000</td>\n",
              "      <td>1.000000</td>\n",
              "      <td>1.000000</td>\n",
              "      <td>1.000000</td>\n",
              "      <td>1.000000</td>\n",
              "      <td>1.00000</td>\n",
              "      <td>1.000000</td>\n",
              "      <td>1.000000</td>\n",
              "      <td>1.0</td>\n",
              "      <td>5</td>\n",
              "      <td>0</td>\n",
              "      <td>0</td>\n",
              "      <td>1</td>\n",
              "      <td>0</td>\n",
              "      <td>0</td>\n",
              "      <td>0</td>\n",
              "      <td>0</td>\n",
              "      <td>0</td>\n",
              "      <td>0</td>\n",
              "      <td>0</td>\n",
              "    </tr>\n",
              "    <tr>\n",
              "      <th>2</th>\n",
              "      <td>-531.312927</td>\n",
              "      <td>187.208420</td>\n",
              "      <td>-70.588692</td>\n",
              "      <td>40.575821</td>\n",
              "      <td>9.024836</td>\n",
              "      <td>18.465755</td>\n",
              "      <td>6.274604</td>\n",
              "      <td>15.512786</td>\n",
              "      <td>9.650081</td>\n",
              "      <td>-7.147046</td>\n",
              "      <td>16.225380</td>\n",
              "      <td>-5.734972</td>\n",
              "      <td>-0.911098</td>\n",
              "      <td>5.604235</td>\n",
              "      <td>0.852125</td>\n",
              "      <td>7.364156</td>\n",
              "      <td>0.342053</td>\n",
              "      <td>7.231574</td>\n",
              "      <td>0.229825</td>\n",
              "      <td>-2.651671</td>\n",
              "      <td>1.645591</td>\n",
              "      <td>-4.319296</td>\n",
              "      <td>6.057637</td>\n",
              "      <td>3.671880</td>\n",
              "      <td>4.389508</td>\n",
              "      <td>3.743122</td>\n",
              "      <td>0.206922</td>\n",
              "      <td>3.164777</td>\n",
              "      <td>-3.003430</td>\n",
              "      <td>1.009504</td>\n",
              "      <td>-0.751186</td>\n",
              "      <td>-0.311575</td>\n",
              "      <td>0.297865</td>\n",
              "      <td>-3.360517</td>\n",
              "      <td>1.442541</td>\n",
              "      <td>-0.984575</td>\n",
              "      <td>2.384526</td>\n",
              "      <td>-0.365945</td>\n",
              "      <td>-3.865469</td>\n",
              "      <td>-0.727367</td>\n",
              "      <td>...</td>\n",
              "      <td>1.000000</td>\n",
              "      <td>1.000000</td>\n",
              "      <td>1.000000</td>\n",
              "      <td>1.00000</td>\n",
              "      <td>1.000000</td>\n",
              "      <td>1.000000</td>\n",
              "      <td>1.000000</td>\n",
              "      <td>1.000000</td>\n",
              "      <td>1.000000</td>\n",
              "      <td>1.000000</td>\n",
              "      <td>1.000000</td>\n",
              "      <td>1.000000</td>\n",
              "      <td>1.000000</td>\n",
              "      <td>1.000000</td>\n",
              "      <td>1.0</td>\n",
              "      <td>1.0</td>\n",
              "      <td>0.95746</td>\n",
              "      <td>0.994274</td>\n",
              "      <td>1.0</td>\n",
              "      <td>1.0</td>\n",
              "      <td>1.000000</td>\n",
              "      <td>1.000000</td>\n",
              "      <td>1.000000</td>\n",
              "      <td>1.000000</td>\n",
              "      <td>1.000000</td>\n",
              "      <td>1.00000</td>\n",
              "      <td>1.000000</td>\n",
              "      <td>1.000000</td>\n",
              "      <td>1.0</td>\n",
              "      <td>5</td>\n",
              "      <td>0</td>\n",
              "      <td>0</td>\n",
              "      <td>1</td>\n",
              "      <td>0</td>\n",
              "      <td>0</td>\n",
              "      <td>0</td>\n",
              "      <td>0</td>\n",
              "      <td>0</td>\n",
              "      <td>0</td>\n",
              "      <td>0</td>\n",
              "    </tr>\n",
              "    <tr>\n",
              "      <th>3</th>\n",
              "      <td>-476.688354</td>\n",
              "      <td>160.308655</td>\n",
              "      <td>-62.986355</td>\n",
              "      <td>50.751179</td>\n",
              "      <td>-0.195573</td>\n",
              "      <td>32.776165</td>\n",
              "      <td>-17.510294</td>\n",
              "      <td>24.728090</td>\n",
              "      <td>-3.879378</td>\n",
              "      <td>-1.768039</td>\n",
              "      <td>14.019302</td>\n",
              "      <td>-11.229858</td>\n",
              "      <td>6.296789</td>\n",
              "      <td>1.147051</td>\n",
              "      <td>12.407727</td>\n",
              "      <td>-3.614734</td>\n",
              "      <td>8.199722</td>\n",
              "      <td>0.751775</td>\n",
              "      <td>-3.906926</td>\n",
              "      <td>6.736926</td>\n",
              "      <td>-0.592982</td>\n",
              "      <td>5.543138</td>\n",
              "      <td>0.663373</td>\n",
              "      <td>2.663424</td>\n",
              "      <td>-3.293756</td>\n",
              "      <td>1.837676</td>\n",
              "      <td>0.527540</td>\n",
              "      <td>-4.162113</td>\n",
              "      <td>3.827827</td>\n",
              "      <td>-4.169458</td>\n",
              "      <td>1.370453</td>\n",
              "      <td>-3.353100</td>\n",
              "      <td>-1.000650</td>\n",
              "      <td>-1.027938</td>\n",
              "      <td>-3.675885</td>\n",
              "      <td>-0.088971</td>\n",
              "      <td>-5.702344</td>\n",
              "      <td>1.879102</td>\n",
              "      <td>-1.422119</td>\n",
              "      <td>3.508478</td>\n",
              "      <td>...</td>\n",
              "      <td>1.000000</td>\n",
              "      <td>1.000000</td>\n",
              "      <td>1.000000</td>\n",
              "      <td>1.00000</td>\n",
              "      <td>1.000000</td>\n",
              "      <td>1.000000</td>\n",
              "      <td>1.000000</td>\n",
              "      <td>1.000000</td>\n",
              "      <td>1.000000</td>\n",
              "      <td>1.000000</td>\n",
              "      <td>1.000000</td>\n",
              "      <td>1.000000</td>\n",
              "      <td>1.000000</td>\n",
              "      <td>1.000000</td>\n",
              "      <td>1.0</td>\n",
              "      <td>1.0</td>\n",
              "      <td>1.00000</td>\n",
              "      <td>1.000000</td>\n",
              "      <td>1.0</td>\n",
              "      <td>1.0</td>\n",
              "      <td>1.000000</td>\n",
              "      <td>1.000000</td>\n",
              "      <td>1.000000</td>\n",
              "      <td>1.000000</td>\n",
              "      <td>1.000000</td>\n",
              "      <td>1.00000</td>\n",
              "      <td>1.000000</td>\n",
              "      <td>1.000000</td>\n",
              "      <td>1.0</td>\n",
              "      <td>5</td>\n",
              "      <td>0</td>\n",
              "      <td>0</td>\n",
              "      <td>1</td>\n",
              "      <td>0</td>\n",
              "      <td>0</td>\n",
              "      <td>0</td>\n",
              "      <td>0</td>\n",
              "      <td>0</td>\n",
              "      <td>0</td>\n",
              "      <td>0</td>\n",
              "    </tr>\n",
              "    <tr>\n",
              "      <th>4</th>\n",
              "      <td>-521.338867</td>\n",
              "      <td>185.597458</td>\n",
              "      <td>-82.172546</td>\n",
              "      <td>46.633289</td>\n",
              "      <td>11.783382</td>\n",
              "      <td>23.567127</td>\n",
              "      <td>4.274833</td>\n",
              "      <td>13.634862</td>\n",
              "      <td>6.119978</td>\n",
              "      <td>-2.869653</td>\n",
              "      <td>18.096880</td>\n",
              "      <td>-7.267805</td>\n",
              "      <td>-2.843901</td>\n",
              "      <td>6.918786</td>\n",
              "      <td>2.052115</td>\n",
              "      <td>6.288871</td>\n",
              "      <td>-0.932113</td>\n",
              "      <td>10.584879</td>\n",
              "      <td>1.575116</td>\n",
              "      <td>-1.291165</td>\n",
              "      <td>3.127109</td>\n",
              "      <td>-5.594441</td>\n",
              "      <td>2.927179</td>\n",
              "      <td>3.906716</td>\n",
              "      <td>4.781282</td>\n",
              "      <td>2.074596</td>\n",
              "      <td>0.246946</td>\n",
              "      <td>3.024389</td>\n",
              "      <td>-1.439145</td>\n",
              "      <td>0.979230</td>\n",
              "      <td>-1.051741</td>\n",
              "      <td>-0.335070</td>\n",
              "      <td>2.438925</td>\n",
              "      <td>0.440893</td>\n",
              "      <td>1.619861</td>\n",
              "      <td>-2.693956</td>\n",
              "      <td>-0.055594</td>\n",
              "      <td>-2.085963</td>\n",
              "      <td>-1.794348</td>\n",
              "      <td>2.859665</td>\n",
              "      <td>...</td>\n",
              "      <td>1.000000</td>\n",
              "      <td>1.000000</td>\n",
              "      <td>1.000000</td>\n",
              "      <td>1.00000</td>\n",
              "      <td>1.000000</td>\n",
              "      <td>1.000000</td>\n",
              "      <td>1.000000</td>\n",
              "      <td>1.000000</td>\n",
              "      <td>1.000000</td>\n",
              "      <td>1.000000</td>\n",
              "      <td>1.000000</td>\n",
              "      <td>1.000000</td>\n",
              "      <td>1.000000</td>\n",
              "      <td>1.000000</td>\n",
              "      <td>1.0</td>\n",
              "      <td>1.0</td>\n",
              "      <td>1.00000</td>\n",
              "      <td>1.000000</td>\n",
              "      <td>1.0</td>\n",
              "      <td>1.0</td>\n",
              "      <td>1.000000</td>\n",
              "      <td>1.000000</td>\n",
              "      <td>1.000000</td>\n",
              "      <td>1.000000</td>\n",
              "      <td>1.000000</td>\n",
              "      <td>1.00000</td>\n",
              "      <td>1.000000</td>\n",
              "      <td>1.000000</td>\n",
              "      <td>1.0</td>\n",
              "      <td>5</td>\n",
              "      <td>0</td>\n",
              "      <td>0</td>\n",
              "      <td>1</td>\n",
              "      <td>0</td>\n",
              "      <td>0</td>\n",
              "      <td>0</td>\n",
              "      <td>0</td>\n",
              "      <td>0</td>\n",
              "      <td>0</td>\n",
              "      <td>0</td>\n",
              "    </tr>\n",
              "  </tbody>\n",
              "</table>\n",
              "<p>5 rows × 491 columns</p>\n",
              "</div>\n",
              "      <button class=\"colab-df-convert\" onclick=\"convertToInteractive('df-895e94b4-3246-4dee-a3f3-e2852ebef1d5')\"\n",
              "              title=\"Convert this dataframe to an interactive table.\"\n",
              "              style=\"display:none;\">\n",
              "        \n",
              "  <svg xmlns=\"http://www.w3.org/2000/svg\" height=\"24px\"viewBox=\"0 0 24 24\"\n",
              "       width=\"24px\">\n",
              "    <path d=\"M0 0h24v24H0V0z\" fill=\"none\"/>\n",
              "    <path d=\"M18.56 5.44l.94 2.06.94-2.06 2.06-.94-2.06-.94-.94-2.06-.94 2.06-2.06.94zm-11 1L8.5 8.5l.94-2.06 2.06-.94-2.06-.94L8.5 2.5l-.94 2.06-2.06.94zm10 10l.94 2.06.94-2.06 2.06-.94-2.06-.94-.94-2.06-.94 2.06-2.06.94z\"/><path d=\"M17.41 7.96l-1.37-1.37c-.4-.4-.92-.59-1.43-.59-.52 0-1.04.2-1.43.59L10.3 9.45l-7.72 7.72c-.78.78-.78 2.05 0 2.83L4 21.41c.39.39.9.59 1.41.59.51 0 1.02-.2 1.41-.59l7.78-7.78 2.81-2.81c.8-.78.8-2.07 0-2.86zM5.41 20L4 18.59l7.72-7.72 1.47 1.35L5.41 20z\"/>\n",
              "  </svg>\n",
              "      </button>\n",
              "      \n",
              "  <style>\n",
              "    .colab-df-container {\n",
              "      display:flex;\n",
              "      flex-wrap:wrap;\n",
              "      gap: 12px;\n",
              "    }\n",
              "\n",
              "    .colab-df-convert {\n",
              "      background-color: #E8F0FE;\n",
              "      border: none;\n",
              "      border-radius: 50%;\n",
              "      cursor: pointer;\n",
              "      display: none;\n",
              "      fill: #1967D2;\n",
              "      height: 32px;\n",
              "      padding: 0 0 0 0;\n",
              "      width: 32px;\n",
              "    }\n",
              "\n",
              "    .colab-df-convert:hover {\n",
              "      background-color: #E2EBFA;\n",
              "      box-shadow: 0px 1px 2px rgba(60, 64, 67, 0.3), 0px 1px 3px 1px rgba(60, 64, 67, 0.15);\n",
              "      fill: #174EA6;\n",
              "    }\n",
              "\n",
              "    [theme=dark] .colab-df-convert {\n",
              "      background-color: #3B4455;\n",
              "      fill: #D2E3FC;\n",
              "    }\n",
              "\n",
              "    [theme=dark] .colab-df-convert:hover {\n",
              "      background-color: #434B5C;\n",
              "      box-shadow: 0px 1px 3px 1px rgba(0, 0, 0, 0.15);\n",
              "      filter: drop-shadow(0px 1px 2px rgba(0, 0, 0, 0.3));\n",
              "      fill: #FFFFFF;\n",
              "    }\n",
              "  </style>\n",
              "\n",
              "      <script>\n",
              "        const buttonEl =\n",
              "          document.querySelector('#df-895e94b4-3246-4dee-a3f3-e2852ebef1d5 button.colab-df-convert');\n",
              "        buttonEl.style.display =\n",
              "          google.colab.kernel.accessAllowed ? 'block' : 'none';\n",
              "\n",
              "        async function convertToInteractive(key) {\n",
              "          const element = document.querySelector('#df-895e94b4-3246-4dee-a3f3-e2852ebef1d5');\n",
              "          const dataTable =\n",
              "            await google.colab.kernel.invokeFunction('convertToInteractive',\n",
              "                                                     [key], {});\n",
              "          if (!dataTable) return;\n",
              "\n",
              "          const docLinkHtml = 'Like what you see? Visit the ' +\n",
              "            '<a target=\"_blank\" href=https://colab.research.google.com/notebooks/data_table.ipynb>data table notebook</a>'\n",
              "            + ' to learn more about interactive tables.';\n",
              "          element.innerHTML = '';\n",
              "          dataTable['output_type'] = 'display_data';\n",
              "          await google.colab.output.renderOutput(dataTable, element);\n",
              "          const docLink = document.createElement('div');\n",
              "          docLink.innerHTML = docLinkHtml;\n",
              "          element.appendChild(docLink);\n",
              "        }\n",
              "      </script>\n",
              "    </div>\n",
              "  </div>\n",
              "  "
            ],
            "text/plain": [
              "            0           1          2  ...  label_7  label_8  label_9\n",
              "0 -275.118195  119.942017 -98.532860  ...        0        0        0\n",
              "1 -500.942200  185.279099 -86.730118  ...        0        0        0\n",
              "2 -531.312927  187.208420 -70.588692  ...        0        0        0\n",
              "3 -476.688354  160.308655 -62.986355  ...        0        0        0\n",
              "4 -521.338867  185.597458 -82.172546  ...        0        0        0\n",
              "\n",
              "[5 rows x 491 columns]"
            ]
          },
          "metadata": {},
          "execution_count": 6
        }
      ],
      "source": [
        "dummies = pd.get_dummies(data_final['label']).rename(columns=lambda x: 'label_' + str(x))\n",
        "data_final = pd.concat([data_final, dummies], axis=1)\n",
        "data_final.drop(['label'], inplace=True, axis=1)\n",
        "data_final.head()"
      ]
    },
    {
      "cell_type": "code",
      "execution_count": 7,
      "metadata": {
        "id": "RBFv78LFc8Am"
      },
      "outputs": [],
      "source": [
        "def df_transform(fold):\n",
        "  X_fold_df = data_final[data_final['fold'].isin(fold)]\n",
        "  X = X_fold_df.iloc[:, 0:480].to_numpy()\n",
        "  y = X_fold_df.iloc[:, 481:5491].to_numpy()\n",
        "\n",
        "  return X, y"
      ]
    },
    {
      "cell_type": "code",
      "execution_count": 199,
      "metadata": {
        "colab": {
          "base_uri": "https://localhost:8080/"
        },
        "id": "nKx55fqEKStW",
        "outputId": "4d236e29-dfd4-4791-8851-129363b17ce4"
      },
      "outputs": [
        {
          "output_type": "execute_result",
          "data": {
            "text/plain": [
              "((4499, 480), (4499, 10))"
            ]
          },
          "metadata": {},
          "execution_count": 199
        }
      ],
      "source": [
        "X_train, y_train = df_transform(['1','2','3','4','6'])\n",
        "X_train.shape, y_train.shape"
      ]
    },
    {
      "cell_type": "code",
      "execution_count": 200,
      "metadata": {
        "colab": {
          "base_uri": "https://localhost:8080/"
        },
        "id": "kkEA4Dexn1Ju",
        "outputId": "ec74ca3f-b080-435a-de4b-e743a7395a60"
      },
      "outputs": [
        {
          "output_type": "execute_result",
          "data": {
            "text/plain": [
              "((936, 480), (936, 10))"
            ]
          },
          "metadata": {},
          "execution_count": 200
        }
      ],
      "source": [
        "X_val, y_val = df_transform(['5'])\n",
        "X_val.shape, y_val.shape"
      ]
    },
    {
      "cell_type": "code",
      "execution_count": 201,
      "metadata": {
        "id": "9csBNDVfooJ5"
      },
      "outputs": [],
      "source": [
        "X_test7, y_test7 = df_transform(['7'])\n",
        "X_test8, y_test8 = df_transform(['8'])\n",
        "X_test9, y_test9 = df_transform(['9'])\n",
        "X_test10, y_test10 = df_transform(['10'])"
      ]
    },
    {
      "cell_type": "code",
      "source": [
        "X_test, y_test = df_transform(['5','7','8','9','10'])\n",
        "X_test.shape, y_test.shape"
      ],
      "metadata": {
        "colab": {
          "base_uri": "https://localhost:8080/"
        },
        "id": "bmrScObk8ZB2",
        "outputId": "0c8f20f2-6048-4924-f1b4-97357b6776d5"
      },
      "execution_count": 202,
      "outputs": [
        {
          "output_type": "execute_result",
          "data": {
            "text/plain": [
              "((4233, 480), (4233, 10))"
            ]
          },
          "metadata": {},
          "execution_count": 202
        }
      ]
    },
    {
      "cell_type": "code",
      "source": [
        "X_test_df = metadata[metadata['fold'].isin(['5','7','8','9','10'])]\n",
        "X_test_df.shape"
      ],
      "metadata": {
        "colab": {
          "base_uri": "https://localhost:8080/"
        },
        "id": "irLFQyGjIyKj",
        "outputId": "8f599e89-179c-468e-88d5-6afc49cf6765"
      },
      "execution_count": 187,
      "outputs": [
        {
          "output_type": "execute_result",
          "data": {
            "text/plain": [
              "(4233, 8)"
            ]
          },
          "metadata": {},
          "execution_count": 187
        }
      ]
    },
    {
      "cell_type": "markdown",
      "source": [
        "## Classification"
      ],
      "metadata": {
        "id": "-RkR-uH80JQ8"
      }
    },
    {
      "cell_type": "code",
      "source": [
        "def plot_accuracy(history):\n",
        "  #accuracy\n",
        "  plt.figure(figsize=(8,3))\n",
        "  plt.plot(history.history['accuracy'])\n",
        "  plt.plot(history.history['val_accuracy'])\n",
        "  plt.title('model accuracy')\n",
        "  plt.ylabel('accuracy')\n",
        "  plt.xlabel('epoch')\n",
        "  plt.legend(['train', 'val'], loc='upper left')\n",
        "  plt.show()\n",
        "\n",
        "  #loss\n",
        "  plt.figure(figsize=(8,3))\n",
        "  plt.plot(history.history['loss'])\n",
        "  plt.plot(history.history['val_loss'])\n",
        "  plt.title('model loss')\n",
        "  plt.ylabel('loss')\n",
        "  plt.xlabel('epoch')\n",
        "  plt.legend(['train', 'val'], loc='upper left')\n",
        "  plt.show()"
      ],
      "metadata": {
        "id": "PFAKzqvmxZNb"
      },
      "execution_count": 13,
      "outputs": []
    },
    {
      "cell_type": "code",
      "source": [
        "def test_scores(model):\n",
        "  score5 = model.evaluate(X_val, y_val)\n",
        "  score7 = model.evaluate(X_test7, y_test7)\n",
        "  score8 = model.evaluate(X_test8, y_test8)\n",
        "  score9 = model.evaluate(X_test9, y_test9)\n",
        "  score10 = model.evaluate(X_test10, y_test10)\n",
        "  test_scores = [score5[1],score7[1],score8[1],score9[1],score10[1]]\n",
        "  \n",
        "  return test_scores"
      ],
      "metadata": {
        "id": "Y7Ff0z2dylyx"
      },
      "execution_count": 14,
      "outputs": []
    },
    {
      "cell_type": "markdown",
      "metadata": {
        "id": "YujQfd7O6oef"
      },
      "source": [
        "### CNN model"
      ]
    },
    {
      "cell_type": "code",
      "execution_count": 61,
      "metadata": {
        "id": "podebSZ4p8vc"
      },
      "outputs": [],
      "source": [
        "# reshaping\n",
        "X_train = X_train.reshape(X_train.shape[0],40,4,3)\n",
        "X_val = X_val.reshape(X_val.shape[0],40,4,3)\n",
        "X_test7 = X_test7.reshape(X_test7.shape[0],40,4,3)\n",
        "X_test8 = X_test8.reshape(X_test8.shape[0],40,4,3)\n",
        "X_test9 = X_test9.reshape(X_test9.shape[0],40,4,3)\n",
        "X_test10 = X_test10.reshape(X_test10.shape[0],40,4,3)\n",
        "X_test = X_test.reshape(X_test.shape[0],40,4,3)"
      ]
    },
    {
      "cell_type": "code",
      "execution_count": 62,
      "metadata": {
        "colab": {
          "base_uri": "https://localhost:8080/"
        },
        "id": "uUzvQfF9ftc5",
        "outputId": "faa4512e-c1a9-4be8-d070-97a5caa9d8f8"
      },
      "outputs": [
        {
          "output_type": "execute_result",
          "data": {
            "text/plain": [
              "((4499, 40, 4, 3), (936, 40, 4, 3), (4233, 40, 4, 3))"
            ]
          },
          "metadata": {},
          "execution_count": 62
        }
      ],
      "source": [
        "#shapes\n",
        "X_train.shape, X_val.shape, X_test.shape"
      ]
    },
    {
      "cell_type": "code",
      "execution_count": 145,
      "metadata": {
        "colab": {
          "base_uri": "https://localhost:8080/"
        },
        "id": "0NmMNTP0iKKP",
        "outputId": "1a4c9eb3-b1db-4aff-def0-58cee02d5c06"
      },
      "outputs": [
        {
          "output_type": "stream",
          "name": "stdout",
          "text": [
            "Model: \"sequential_9\"\n",
            "_________________________________________________________________\n",
            " Layer (type)                Output Shape              Param #   \n",
            "=================================================================\n",
            " conv2d_18 (Conv2D)          (None, 40, 4, 64)         1792      \n",
            "                                                                 \n",
            " max_pooling2d_18 (MaxPoolin  (None, 20, 2, 64)        0         \n",
            " g2D)                                                            \n",
            "                                                                 \n",
            " conv2d_19 (Conv2D)          (None, 20, 2, 128)        73856     \n",
            "                                                                 \n",
            " max_pooling2d_19 (MaxPoolin  (None, 10, 1, 128)       0         \n",
            " g2D)                                                            \n",
            "                                                                 \n",
            " dropout_27 (Dropout)        (None, 10, 1, 128)        0         \n",
            "                                                                 \n",
            " flatten_9 (Flatten)         (None, 1280)              0         \n",
            "                                                                 \n",
            " dense_27 (Dense)            (None, 256)               327936    \n",
            "                                                                 \n",
            " dropout_28 (Dropout)        (None, 256)               0         \n",
            "                                                                 \n",
            " dense_28 (Dense)            (None, 512)               131584    \n",
            "                                                                 \n",
            " dropout_29 (Dropout)        (None, 512)               0         \n",
            "                                                                 \n",
            " dense_29 (Dense)            (None, 10)                5130      \n",
            "                                                                 \n",
            "=================================================================\n",
            "Total params: 540,298\n",
            "Trainable params: 540,298\n",
            "Non-trainable params: 0\n",
            "_________________________________________________________________\n"
          ]
        }
      ],
      "source": [
        "model = Sequential()\n",
        "input_dim = (40,4,3)\n",
        "\n",
        "model.add(Conv2D(64, (3, 3), padding = \"same\", activation = \"relu\", input_shape = input_dim))\n",
        "model.add(MaxPool2D(pool_size=(2, 2)))\n",
        "\n",
        "model.add(Conv2D(128, (3, 3), padding = \"same\", activation = \"relu\"))\n",
        "model.add(MaxPool2D(pool_size=(2, 2)))\n",
        "model.add(Dropout(0.2))\n",
        "\n",
        "model.add(Flatten())\n",
        "\n",
        "model.add(Dense(256, activation = \"relu\"))\n",
        "model.add(Dropout(0.2))\n",
        "\n",
        "model.add(Dense(512,activation=\"relu\"))\n",
        "model.add(Dropout(0.2))\n",
        "\n",
        "model.add(Dense(10, activation = \"softmax\"))\n",
        "\n",
        "model.summary()\n"
      ]
    },
    {
      "cell_type": "code",
      "execution_count": 146,
      "metadata": {
        "id": "FKQTgk72iKWV"
      },
      "outputs": [],
      "source": [
        "model.compile(optimizer = 'adam', loss = 'categorical_crossentropy', metrics = ['accuracy'])"
      ]
    },
    {
      "cell_type": "code",
      "execution_count": 147,
      "metadata": {
        "colab": {
          "base_uri": "https://localhost:8080/"
        },
        "id": "4lUlb4o2iKaB",
        "outputId": "97e03d11-8313-481c-d342-407b5c650484"
      },
      "outputs": [
        {
          "output_type": "stream",
          "name": "stdout",
          "text": [
            "Epoch 1/30\n",
            "36/36 [==============================] - 4s 100ms/step - loss: 3.8777 - accuracy: 0.1912 - val_loss: 1.9565 - val_accuracy: 0.2714\n",
            "Epoch 2/30\n",
            "36/36 [==============================] - 3s 92ms/step - loss: 1.8262 - accuracy: 0.3496 - val_loss: 1.7937 - val_accuracy: 0.3162\n",
            "Epoch 3/30\n",
            "36/36 [==============================] - 3s 92ms/step - loss: 1.5335 - accuracy: 0.4743 - val_loss: 1.6698 - val_accuracy: 0.3889\n",
            "Epoch 4/30\n",
            "36/36 [==============================] - 3s 93ms/step - loss: 1.3629 - accuracy: 0.5268 - val_loss: 1.6655 - val_accuracy: 0.4145\n",
            "Epoch 5/30\n",
            "36/36 [==============================] - 3s 93ms/step - loss: 1.2585 - accuracy: 0.5692 - val_loss: 1.5855 - val_accuracy: 0.4038\n",
            "Epoch 6/30\n",
            "36/36 [==============================] - 3s 92ms/step - loss: 1.1367 - accuracy: 0.6068 - val_loss: 1.4014 - val_accuracy: 0.5043\n",
            "Epoch 7/30\n",
            "36/36 [==============================] - 3s 91ms/step - loss: 1.0186 - accuracy: 0.6464 - val_loss: 1.5071 - val_accuracy: 0.5032\n",
            "Epoch 8/30\n",
            "36/36 [==============================] - 3s 92ms/step - loss: 0.9819 - accuracy: 0.6646 - val_loss: 1.3472 - val_accuracy: 0.5310\n",
            "Epoch 9/30\n",
            "36/36 [==============================] - 3s 91ms/step - loss: 0.8911 - accuracy: 0.6959 - val_loss: 1.3210 - val_accuracy: 0.5278\n",
            "Epoch 10/30\n",
            "36/36 [==============================] - 3s 94ms/step - loss: 0.8069 - accuracy: 0.7235 - val_loss: 1.3336 - val_accuracy: 0.5406\n",
            "Epoch 11/30\n",
            "36/36 [==============================] - 3s 93ms/step - loss: 0.7494 - accuracy: 0.7453 - val_loss: 1.4091 - val_accuracy: 0.5620\n",
            "Epoch 12/30\n",
            "36/36 [==============================] - 3s 92ms/step - loss: 0.6710 - accuracy: 0.7666 - val_loss: 1.3409 - val_accuracy: 0.6004\n",
            "Epoch 13/30\n",
            "36/36 [==============================] - 3s 94ms/step - loss: 0.7275 - accuracy: 0.7546 - val_loss: 1.3991 - val_accuracy: 0.5833\n",
            "Epoch 14/30\n",
            "36/36 [==============================] - 3s 93ms/step - loss: 0.6054 - accuracy: 0.8004 - val_loss: 1.4483 - val_accuracy: 0.5609\n",
            "Epoch 15/30\n",
            "36/36 [==============================] - 3s 93ms/step - loss: 0.5784 - accuracy: 0.7997 - val_loss: 1.3519 - val_accuracy: 0.5791\n",
            "Epoch 16/30\n",
            "36/36 [==============================] - 3s 94ms/step - loss: 0.5161 - accuracy: 0.8262 - val_loss: 1.3144 - val_accuracy: 0.5609\n",
            "Epoch 17/30\n",
            "36/36 [==============================] - 3s 93ms/step - loss: 0.5284 - accuracy: 0.8224 - val_loss: 1.3815 - val_accuracy: 0.6058\n",
            "Epoch 18/30\n",
            "36/36 [==============================] - 3s 93ms/step - loss: 0.4717 - accuracy: 0.8337 - val_loss: 1.5303 - val_accuracy: 0.5716\n",
            "Epoch 19/30\n",
            "36/36 [==============================] - 3s 92ms/step - loss: 0.4620 - accuracy: 0.8440 - val_loss: 1.4180 - val_accuracy: 0.6229\n",
            "Epoch 20/30\n",
            "36/36 [==============================] - 3s 93ms/step - loss: 0.4229 - accuracy: 0.8564 - val_loss: 1.3642 - val_accuracy: 0.6346\n",
            "Epoch 21/30\n",
            "36/36 [==============================] - 3s 93ms/step - loss: 0.4013 - accuracy: 0.8631 - val_loss: 1.5625 - val_accuracy: 0.6271\n",
            "Epoch 22/30\n",
            "36/36 [==============================] - 3s 93ms/step - loss: 0.4198 - accuracy: 0.8582 - val_loss: 1.4633 - val_accuracy: 0.5769\n",
            "Epoch 23/30\n",
            "36/36 [==============================] - 3s 92ms/step - loss: 0.4295 - accuracy: 0.8546 - val_loss: 1.4704 - val_accuracy: 0.5994\n",
            "Epoch 24/30\n",
            "36/36 [==============================] - 3s 93ms/step - loss: 0.3594 - accuracy: 0.8760 - val_loss: 1.4844 - val_accuracy: 0.6175\n",
            "Epoch 25/30\n",
            "36/36 [==============================] - 3s 94ms/step - loss: 0.3730 - accuracy: 0.8722 - val_loss: 1.4740 - val_accuracy: 0.6090\n",
            "Epoch 26/30\n",
            "36/36 [==============================] - 3s 93ms/step - loss: 0.3272 - accuracy: 0.8918 - val_loss: 1.7792 - val_accuracy: 0.5545\n",
            "Epoch 27/30\n",
            "36/36 [==============================] - 3s 93ms/step - loss: 0.3159 - accuracy: 0.8880 - val_loss: 1.6241 - val_accuracy: 0.6068\n",
            "Epoch 28/30\n",
            "36/36 [==============================] - 3s 94ms/step - loss: 0.2987 - accuracy: 0.8975 - val_loss: 1.4703 - val_accuracy: 0.6464\n",
            "Epoch 29/30\n",
            "36/36 [==============================] - 3s 93ms/step - loss: 0.3482 - accuracy: 0.8838 - val_loss: 1.4995 - val_accuracy: 0.6218\n",
            "Epoch 30/30\n",
            "36/36 [==============================] - 3s 93ms/step - loss: 0.2765 - accuracy: 0.9082 - val_loss: 1.4755 - val_accuracy: 0.6432\n"
          ]
        }
      ],
      "source": [
        "history = model.fit(X_train, y_train, epochs =30, batch_size = 128, validation_data =(X_val, y_val), verbose =True)"
      ]
    },
    {
      "cell_type": "code",
      "execution_count": 148,
      "metadata": {
        "colab": {
          "base_uri": "https://localhost:8080/",
          "height": 475
        },
        "id": "pEQNhg8-5fV5",
        "outputId": "6e83b7e3-2e57-48d3-dcc4-434dbcbfa6ac"
      },
      "outputs": [
        {
          "output_type": "display_data",
          "data": {
            "image/png": "[encoded data removed]",
            "text/plain": [
              "<Figure size 576x216 with 1 Axes>"
            ]
          },
          "metadata": {}
        },
        {
          "output_type": "display_data",
          "data": {
            "image/png": "[encoded data removed]",
            "text/plain": [
              "<Figure size 576x216 with 1 Axes>"
            ]
          },
          "metadata": {}
        }
      ],
      "source": [
        "plot_accuracy(history)"
      ]
    },
    {
      "cell_type": "code",
      "execution_count": 158,
      "metadata": {
        "colab": {
          "base_uri": "https://localhost:8080/"
        },
        "id": "bdft_yV7yF6P",
        "outputId": "8870048d-8be7-4f2a-d6cd-f04d141b2f17"
      },
      "outputs": [
        {
          "output_type": "stream",
          "name": "stdout",
          "text": [
            "30/30 [==============================] - 0s 9ms/step - loss: 1.4755 - accuracy: 0.6432\n",
            "27/27 [==============================] - 0s 10ms/step - loss: 1.4305 - accuracy: 0.6587\n",
            "26/26 [==============================] - 0s 10ms/step - loss: 1.7500 - accuracy: 0.6687\n",
            "26/26 [==============================] - 0s 9ms/step - loss: 2.2188 - accuracy: 0.5564\n",
            "27/27 [==============================] - 0s 9ms/step - loss: 1.4977 - accuracy: 0.6595\n"
          ]
        },
        {
          "output_type": "execute_result",
          "data": {
            "text/plain": [
              "[0.6431623697280884,\n",
              " 0.6587111949920654,\n",
              " 0.6687344908714294,\n",
              " 0.5563725233078003,\n",
              " 0.6594982147216797]"
            ]
          },
          "metadata": {},
          "execution_count": 158
        }
      ],
      "source": [
        "test_scores_cnn = test_scores(model)\n",
        "test_scores_cnn"
      ]
    },
    {
      "cell_type": "code",
      "execution_count": 159,
      "metadata": {
        "colab": {
          "base_uri": "https://localhost:8080/"
        },
        "id": "QdHa7DmcehKq",
        "outputId": "1069e1af-28a8-4cd3-d59a-5b364b5e7fbb"
      },
      "outputs": [
        {
          "output_type": "stream",
          "name": "stdout",
          "text": [
            "(0.6372957587242126, 0.04128668307533861)\n"
          ]
        }
      ],
      "source": [
        "print((np.mean(test_scores_cnn), np.std(test_scores_cnn)))"
      ]
    },
    {
      "cell_type": "code",
      "source": [
        "score_test = model.evaluate(X_test, y_test)"
      ],
      "metadata": {
        "colab": {
          "base_uri": "https://localhost:8080/"
        },
        "id": "m1kveWuGDbnh",
        "outputId": "854309d5-fa02-441d-f670-4f0061e0ee9b"
      },
      "execution_count": 160,
      "outputs": [
        {
          "output_type": "stream",
          "name": "stdout",
          "text": [
            "133/133 [==============================] - 1s 9ms/step - loss: 1.6665 - accuracy: 0.6376\n"
          ]
        }
      ]
    },
    {
      "cell_type": "code",
      "execution_count": 161,
      "metadata": {
        "id": "303jkw7lFzB6",
        "colab": {
          "base_uri": "https://localhost:8080/"
        },
        "outputId": "a8e6529a-dbc6-405c-b602-c88fd84c2556"
      },
      "outputs": [
        {
          "output_type": "stream",
          "name": "stdout",
          "text": [
            "                  precision    recall  f1-score   support\n",
            "\n",
            " air_conditioner       0.68      0.42      0.52       500\n",
            "        car_horn       0.54      0.75      0.62       221\n",
            "children_playing       0.66      0.65      0.66       500\n",
            "        dog_bark       0.69      0.78      0.73       500\n",
            "        drilling       0.48      0.42      0.45       500\n",
            "   engine_idling       0.63      0.67      0.65       483\n",
            "        gun_shot       0.90      0.94      0.92       184\n",
            "      jackhammer       0.52      0.61      0.56       452\n",
            "           siren       0.70      0.72      0.71       393\n",
            "    street_music       0.71      0.69      0.70       500\n",
            "\n",
            "        accuracy                           0.64      4233\n",
            "       macro avg       0.65      0.66      0.65      4233\n",
            "    weighted avg       0.64      0.64      0.63      4233\n",
            "\n"
          ]
        }
      ],
      "source": [
        "# classification report\n",
        "y_pred = model.predict(X_test)\n",
        "y_pred_bool = np.argmax(y_pred, axis=1)\n",
        "y_test_bool = np.argmax(y_test, axis=1)\n",
        "\n",
        "target_names = list(X_test_df['class'].unique())\n",
        "target_names.sort() \n",
        "\n",
        "print(classification_report(y_test_bool, y_pred_bool, target_names=target_names))"
      ]
    },
    {
      "cell_type": "code",
      "source": [
        "# confusion matrix \n",
        "\n",
        "df_cm  = pd.DataFrame(confusion_matrix(y_test_bool, y_pred_bool), range(10), range(10))\n",
        "plt.figure(figsize= (8,6))\n",
        "sns.heatmap(df_cm, annot = True,xticklabels= target_names, yticklabels = target_names, cmap ='YlOrBr', fmt='g' )\n",
        "plt.show()"
      ],
      "metadata": {
        "colab": {
          "base_uri": "https://localhost:8080/",
          "height": 457
        },
        "id": "G3u1CsJqLgN8",
        "outputId": "52680c82-8f26-4523-a1bb-132b375f54ca"
      },
      "execution_count": 164,
      "outputs": [
        {
          "output_type": "display_data",
          "data": {
            "image/png": "[encoded data removed]",
            "text/plain": [
              "<Figure size 576x432 with 2 Axes>"
            ]
          },
          "metadata": {}
        }
      ]
    },
    {
      "cell_type": "markdown",
      "metadata": {
        "id": "o61l6xPhRYR6"
      },
      "source": [
        "### FNN"
      ]
    },
    {
      "cell_type": "code",
      "execution_count": 188,
      "metadata": {
        "id": "rvujGzKK9YCS"
      },
      "outputs": [],
      "source": [
        "# data reshaping for NN\n",
        "X_train = X_train.reshape(X_train.shape[0], 480)\n",
        "X_val = X_val.reshape(X_val.shape[0],480)\n",
        "X_test7 = X_test7.reshape(X_test7.shape[0],480)\n",
        "X_test8 = X_test8.reshape(X_test8.shape[0],480)\n",
        "X_test9 = X_test9.reshape(X_test9.shape[0],480)\n",
        "X_test10 = X_test10.reshape(X_test10.shape[0],480)\n",
        "X_test = X_test.reshape(X_test.shape[0],480)"
      ]
    },
    {
      "cell_type": "code",
      "execution_count": 189,
      "metadata": {
        "colab": {
          "base_uri": "https://localhost:8080/"
        },
        "id": "9XdKviQD9ht9",
        "outputId": "6c242a86-8b1c-463b-b55b-2b479062e1fa"
      },
      "outputs": [
        {
          "output_type": "stream",
          "name": "stdout",
          "text": [
            "Model: \"sequential_11\"\n",
            "_________________________________________________________________\n",
            " Layer (type)                Output Shape              Param #   \n",
            "=================================================================\n",
            " dense_35 (Dense)            (None, 512)               246272    \n",
            "                                                                 \n",
            " dropout_34 (Dropout)        (None, 512)               0         \n",
            "                                                                 \n",
            " dense_36 (Dense)            (None, 256)               131328    \n",
            "                                                                 \n",
            " dropout_35 (Dropout)        (None, 256)               0         \n",
            "                                                                 \n",
            " dense_37 (Dense)            (None, 128)               32896     \n",
            "                                                                 \n",
            " dropout_36 (Dropout)        (None, 128)               0         \n",
            "                                                                 \n",
            " dense_38 (Dense)            (None, 64)                8256      \n",
            "                                                                 \n",
            " dropout_37 (Dropout)        (None, 64)                0         \n",
            "                                                                 \n",
            " dense_39 (Dense)            (None, 10)                650       \n",
            "                                                                 \n",
            "=================================================================\n",
            "Total params: 419,402\n",
            "Trainable params: 419,402\n",
            "Non-trainable params: 0\n",
            "_________________________________________________________________\n"
          ]
        }
      ],
      "source": [
        "#forming model\n",
        "model=Sequential()\n",
        "\n",
        "#building the model\n",
        "model.add(Dense(units=512,activation='relu',input_dim=480))\n",
        "model.add(Dropout(0.2))\n",
        "model.add(Dense(units=256,activation='relu'))\n",
        "model.add(Dropout(0.2))\n",
        "model.add(Dense(units=128,activation='relu'))\n",
        "model.add(Dropout(0.2))\n",
        "model.add(Dense(units=64,activation='relu'))\n",
        "model.add(Dropout(0.2))\n",
        "model.add(Dense(units=10,activation='softmax'))\n",
        "\n",
        "model.summary()"
      ]
    },
    {
      "cell_type": "code",
      "execution_count": 191,
      "metadata": {
        "id": "RnQbAF9J9y05"
      },
      "outputs": [],
      "source": [
        "#compiling\n",
        "model.compile(optimizer='adam',loss='categorical_crossentropy',metrics=['accuracy'])"
      ]
    },
    {
      "cell_type": "code",
      "execution_count": 192,
      "metadata": {
        "colab": {
          "base_uri": "https://localhost:8080/"
        },
        "id": "2DUDC-MDEvYq",
        "outputId": "841a9b0c-a07f-4448-bd93-2bbfb68938bb"
      },
      "outputs": [
        {
          "output_type": "stream",
          "name": "stdout",
          "text": [
            "Epoch 1/30\n",
            "71/71 [==============================] - 2s 13ms/step - loss: 5.8826 - accuracy: 0.1807 - val_loss: 1.9851 - val_accuracy: 0.3269\n",
            "Epoch 2/30\n",
            "71/71 [==============================] - 1s 10ms/step - loss: 2.3240 - accuracy: 0.2627 - val_loss: 1.8870 - val_accuracy: 0.3568\n",
            "Epoch 3/30\n",
            "71/71 [==============================] - 1s 10ms/step - loss: 1.9968 - accuracy: 0.3554 - val_loss: 1.7109 - val_accuracy: 0.4135\n",
            "Epoch 4/30\n",
            "71/71 [==============================] - 1s 10ms/step - loss: 1.7003 - accuracy: 0.4430 - val_loss: 1.5237 - val_accuracy: 0.4509\n",
            "Epoch 5/30\n",
            "71/71 [==============================] - 1s 10ms/step - loss: 1.4996 - accuracy: 0.4952 - val_loss: 1.4643 - val_accuracy: 0.4658\n",
            "Epoch 6/30\n",
            "71/71 [==============================] - 1s 10ms/step - loss: 1.3412 - accuracy: 0.5595 - val_loss: 1.4371 - val_accuracy: 0.5150\n",
            "Epoch 7/30\n",
            "71/71 [==============================] - 1s 10ms/step - loss: 1.2119 - accuracy: 0.5959 - val_loss: 1.3957 - val_accuracy: 0.4658\n",
            "Epoch 8/30\n",
            "71/71 [==============================] - 1s 10ms/step - loss: 1.1151 - accuracy: 0.6281 - val_loss: 1.4867 - val_accuracy: 0.5096\n",
            "Epoch 9/30\n",
            "71/71 [==============================] - 1s 10ms/step - loss: 0.9948 - accuracy: 0.6808 - val_loss: 1.3037 - val_accuracy: 0.5823\n",
            "Epoch 10/30\n",
            "71/71 [==============================] - 1s 10ms/step - loss: 0.8722 - accuracy: 0.7119 - val_loss: 1.4257 - val_accuracy: 0.5652\n",
            "Epoch 11/30\n",
            "71/71 [==============================] - 1s 10ms/step - loss: 0.8141 - accuracy: 0.7277 - val_loss: 1.4838 - val_accuracy: 0.5833\n",
            "Epoch 12/30\n",
            "71/71 [==============================] - 1s 10ms/step - loss: 0.7454 - accuracy: 0.7624 - val_loss: 1.4726 - val_accuracy: 0.5951\n",
            "Epoch 13/30\n",
            "71/71 [==============================] - 1s 10ms/step - loss: 0.7038 - accuracy: 0.7748 - val_loss: 1.5211 - val_accuracy: 0.5801\n",
            "Epoch 14/30\n",
            "71/71 [==============================] - 1s 10ms/step - loss: 0.6589 - accuracy: 0.7871 - val_loss: 1.5353 - val_accuracy: 0.6132\n",
            "Epoch 15/30\n",
            "71/71 [==============================] - 1s 10ms/step - loss: 0.5984 - accuracy: 0.8157 - val_loss: 1.5678 - val_accuracy: 0.6207\n",
            "Epoch 16/30\n",
            "71/71 [==============================] - 1s 10ms/step - loss: 0.5629 - accuracy: 0.8217 - val_loss: 1.6020 - val_accuracy: 0.6197\n",
            "Epoch 17/30\n",
            "71/71 [==============================] - 1s 10ms/step - loss: 0.5343 - accuracy: 0.8286 - val_loss: 1.5488 - val_accuracy: 0.6004\n",
            "Epoch 18/30\n",
            "71/71 [==============================] - 1s 10ms/step - loss: 0.5104 - accuracy: 0.8431 - val_loss: 1.7379 - val_accuracy: 0.5705\n",
            "Epoch 19/30\n",
            "71/71 [==============================] - 1s 10ms/step - loss: 0.4865 - accuracy: 0.8400 - val_loss: 1.7188 - val_accuracy: 0.5694\n",
            "Epoch 20/30\n",
            "71/71 [==============================] - 1s 10ms/step - loss: 0.4246 - accuracy: 0.8622 - val_loss: 1.7884 - val_accuracy: 0.6004\n",
            "Epoch 21/30\n",
            "71/71 [==============================] - 1s 10ms/step - loss: 0.4171 - accuracy: 0.8600 - val_loss: 1.9680 - val_accuracy: 0.5844\n",
            "Epoch 22/30\n",
            "71/71 [==============================] - 1s 10ms/step - loss: 0.4250 - accuracy: 0.8651 - val_loss: 1.9647 - val_accuracy: 0.5694\n",
            "Epoch 23/30\n",
            "71/71 [==============================] - 1s 10ms/step - loss: 0.3883 - accuracy: 0.8744 - val_loss: 1.8260 - val_accuracy: 0.6111\n",
            "Epoch 24/30\n",
            "71/71 [==============================] - 1s 10ms/step - loss: 0.4102 - accuracy: 0.8729 - val_loss: 1.8206 - val_accuracy: 0.6432\n",
            "Epoch 25/30\n",
            "71/71 [==============================] - 1s 10ms/step - loss: 0.4104 - accuracy: 0.8713 - val_loss: 1.7393 - val_accuracy: 0.6421\n",
            "Epoch 26/30\n",
            "71/71 [==============================] - 1s 10ms/step - loss: 0.3628 - accuracy: 0.8820 - val_loss: 2.0804 - val_accuracy: 0.6132\n",
            "Epoch 27/30\n",
            "71/71 [==============================] - 1s 10ms/step - loss: 0.3402 - accuracy: 0.8935 - val_loss: 1.8091 - val_accuracy: 0.6165\n",
            "Epoch 28/30\n",
            "71/71 [==============================] - 1s 10ms/step - loss: 0.3077 - accuracy: 0.9002 - val_loss: 1.9689 - val_accuracy: 0.6143\n",
            "Epoch 29/30\n",
            "71/71 [==============================] - 1s 10ms/step - loss: 0.3022 - accuracy: 0.9011 - val_loss: 2.4034 - val_accuracy: 0.5951\n",
            "Epoch 30/30\n",
            "71/71 [==============================] - 1s 10ms/step - loss: 0.3067 - accuracy: 0.9031 - val_loss: 2.4369 - val_accuracy: 0.6015\n"
          ]
        }
      ],
      "source": [
        "history = model.fit(X_train,y_train,epochs=30 ,batch_size=64, validation_data = (X_val, y_val))"
      ]
    },
    {
      "cell_type": "code",
      "execution_count": 193,
      "metadata": {
        "colab": {
          "base_uri": "https://localhost:8080/",
          "height": 475
        },
        "id": "uSUh3V7fSTkN",
        "outputId": "8420f540-0afe-4b42-ffbb-ae37276caffa"
      },
      "outputs": [
        {
          "output_type": "display_data",
          "data": {
            "image/png": "[encoded data removed]",
            "text/plain": [
              "<Figure size 576x216 with 1 Axes>"
            ]
          },
          "metadata": {}
        },
        {
          "output_type": "display_data",
          "data": {
            "image/png": "[encoded data removed]",
            "text/plain": [
              "<Figure size 576x216 with 1 Axes>"
            ]
          },
          "metadata": {}
        }
      ],
      "source": [
        "plot_accuracy(history)"
      ]
    },
    {
      "cell_type": "code",
      "execution_count": 194,
      "metadata": {
        "colab": {
          "base_uri": "https://localhost:8080/"
        },
        "id": "HedronIUOnbM",
        "outputId": "71f521d9-a824-44b3-850e-e619193cd1ac"
      },
      "outputs": [
        {
          "output_type": "stream",
          "name": "stdout",
          "text": [
            "30/30 [==============================] - 0s 3ms/step - loss: 2.4369 - accuracy: 0.6015\n",
            "27/27 [==============================] - 0s 4ms/step - loss: 1.6490 - accuracy: 0.6396\n",
            "26/26 [==============================] - 0s 3ms/step - loss: 1.9815 - accuracy: 0.6290\n",
            "26/26 [==============================] - 0s 3ms/step - loss: 2.6790 - accuracy: 0.5907\n",
            "27/27 [==============================] - 0s 3ms/step - loss: 1.6971 - accuracy: 0.6583\n"
          ]
        },
        {
          "output_type": "execute_result",
          "data": {
            "text/plain": [
              "[0.6014957427978516,\n",
              " 0.6396181583404541,\n",
              " 0.6290322542190552,\n",
              " 0.5906862616539001,\n",
              " 0.658303439617157]"
            ]
          },
          "metadata": {},
          "execution_count": 194
        }
      ],
      "source": [
        "test_scores_fnn = test_scores(model)\n",
        "test_scores_fnn"
      ]
    },
    {
      "cell_type": "code",
      "execution_count": 195,
      "metadata": {
        "colab": {
          "base_uri": "https://localhost:8080/"
        },
        "id": "Tx4sNY5BRWJT",
        "outputId": "dbfb0a1c-191e-4ede-8462-78a06e36db0b"
      },
      "outputs": [
        {
          "output_type": "stream",
          "name": "stdout",
          "text": [
            "(0.6238271713256835, 0.024747015287101406)\n"
          ]
        }
      ],
      "source": [
        "print((np.mean(test_scores_fnn), np.std(test_scores_fnn)))"
      ]
    },
    {
      "cell_type": "code",
      "source": [
        "score_test = model.evaluate(X_test, y_test)"
      ],
      "metadata": {
        "colab": {
          "base_uri": "https://localhost:8080/"
        },
        "id": "ev2bchQwOWQy",
        "outputId": "b9281e11-229f-4de4-a980-c7e6945a8232"
      },
      "execution_count": 196,
      "outputs": [
        {
          "output_type": "stream",
          "name": "stdout",
          "text": [
            "133/133 [==============================] - 0s 3ms/step - loss: 2.0946 - accuracy: 0.6234\n"
          ]
        }
      ]
    },
    {
      "cell_type": "code",
      "execution_count": 197,
      "metadata": {
        "colab": {
          "base_uri": "https://localhost:8080/"
        },
        "id": "F0fsboMDOWQz",
        "outputId": "57a8272a-c714-4d8d-fbbb-f587b515d8de"
      },
      "outputs": [
        {
          "output_type": "stream",
          "name": "stdout",
          "text": [
            "                  precision    recall  f1-score   support\n",
            "\n",
            " air_conditioner       0.67      0.44      0.53       500\n",
            "        car_horn       0.79      0.65      0.71       221\n",
            "children_playing       0.60      0.65      0.63       500\n",
            "        dog_bark       0.73      0.75      0.74       500\n",
            "        drilling       0.41      0.45      0.43       500\n",
            "   engine_idling       0.75      0.66      0.70       483\n",
            "        gun_shot       0.82      0.93      0.87       184\n",
            "      jackhammer       0.48      0.51      0.50       452\n",
            "           siren       0.57      0.77      0.66       393\n",
            "    street_music       0.67      0.64      0.66       500\n",
            "\n",
            "        accuracy                           0.62      4233\n",
            "       macro avg       0.65      0.65      0.64      4233\n",
            "    weighted avg       0.63      0.62      0.62      4233\n",
            "\n"
          ]
        }
      ],
      "source": [
        "# classification report\n",
        "y_pred = model.predict(X_test)\n",
        "y_pred_bool = np.argmax(y_pred, axis=1)\n",
        "y_test_bool = np.argmax(y_test, axis=1)\n",
        "\n",
        "target_names = list(X_test_df['class'].unique())\n",
        "target_names.sort() \n",
        "\n",
        "print(classification_report(y_test_bool, y_pred_bool, target_names=target_names))"
      ]
    },
    {
      "cell_type": "code",
      "source": [
        "# confusion matrix \n",
        "\n",
        "df_cm  = pd.DataFrame(confusion_matrix(y_test_bool, y_pred_bool), range(10), range(10))\n",
        "plt.figure(figsize= (8,6))\n",
        "sns.set(font_scale=1)\n",
        "sns.heatmap(df_cm, annot = True,xticklabels= target_names, yticklabels = target_names, cmap ='YlOrBr', fmt='g' )\n",
        "plt.show()"
      ],
      "metadata": {
        "colab": {
          "base_uri": "https://localhost:8080/",
          "height": 457
        },
        "outputId": "2e9195aa-ae79-41e0-b058-1cbb3e9e3166",
        "id": "i87beZ85OWQz"
      },
      "execution_count": 198,
      "outputs": [
        {
          "output_type": "display_data",
          "data": {
            "image/png": "[encoded data removed]",
            "text/plain": [
              "<Figure size 576x432 with 2 Axes>"
            ]
          },
          "metadata": {}
        }
      ]
    },
    {
      "cell_type": "markdown",
      "source": [
        "### RNN"
      ],
      "metadata": {
        "id": "1hKhIthnXsLf"
      }
    },
    {
      "cell_type": "code",
      "source": [
        "# data reshaping for RNN\n",
        "X_train = X_train.reshape(X_train.shape[0],120,4)\n",
        "X_val = X_val.reshape(X_val.shape[0],120,4)\n",
        "X_test7 = X_test7.reshape(X_test7.shape[0],120,4)\n",
        "X_test8 = X_test8.reshape(X_test8.shape[0],120,4)\n",
        "X_test9 = X_test9.reshape(X_test9.shape[0],120,4)\n",
        "X_test10 = X_test10.reshape(X_test10.shape[0],120,4)\n",
        "X_test = X_test.reshape(X_test.shape[0],120,4)"
      ],
      "metadata": {
        "id": "9Phb6Dx8Jo4t"
      },
      "execution_count": 203,
      "outputs": []
    },
    {
      "cell_type": "code",
      "source": [
        "# Neural network model\n",
        "input_shape = (120,4)\n",
        "\n",
        "model = Sequential()\n",
        "model.add(LSTM(128,input_shape=input_shape, dropout = 0.2, recurrent_dropout = 0.2))\n",
        "model.add(Dense(128, activation='relu'))\n",
        "model.add(Dropout(0.2))\n",
        "model.add(Dense(64, activation='relu'))\n",
        "model.add(Dropout(0.2))\n",
        "model.add(Dense(32, activation='relu'))\n",
        "model.add(Dropout(0.2))\n",
        "model.add(Dense(10, activation='softmax'))\n",
        "model.summary()"
      ],
      "metadata": {
        "colab": {
          "base_uri": "https://localhost:8080/"
        },
        "id": "SFS_fkUnxCvq",
        "outputId": "3f3cde16-43e0-48e4-d554-3efc6a39c2fd"
      },
      "execution_count": 227,
      "outputs": [
        {
          "output_type": "stream",
          "name": "stdout",
          "text": [
            "Model: \"sequential_15\"\n",
            "_________________________________________________________________\n",
            " Layer (type)                Output Shape              Param #   \n",
            "=================================================================\n",
            " lstm_3 (LSTM)               (None, 128)               68096     \n",
            "                                                                 \n",
            " dense_52 (Dense)            (None, 128)               16512     \n",
            "                                                                 \n",
            " dropout_47 (Dropout)        (None, 128)               0         \n",
            "                                                                 \n",
            " dense_53 (Dense)            (None, 64)                8256      \n",
            "                                                                 \n",
            " dropout_48 (Dropout)        (None, 64)                0         \n",
            "                                                                 \n",
            " dense_54 (Dense)            (None, 32)                2080      \n",
            "                                                                 \n",
            " dropout_49 (Dropout)        (None, 32)                0         \n",
            "                                                                 \n",
            " dense_55 (Dense)            (None, 10)                330       \n",
            "                                                                 \n",
            "=================================================================\n",
            "Total params: 95,274\n",
            "Trainable params: 95,274\n",
            "Non-trainable params: 0\n",
            "_________________________________________________________________\n"
          ]
        }
      ]
    },
    {
      "cell_type": "code",
      "source": [
        "model.compile(optimizer='adam',loss='categorical_crossentropy',metrics=['accuracy'])"
      ],
      "metadata": {
        "id": "dlwGfvmYxC4b"
      },
      "execution_count": 229,
      "outputs": []
    },
    {
      "cell_type": "code",
      "source": [
        "history = model.fit(X_train,y_train,epochs=100 ,batch_size=256, validation_data = (X_val, y_val))"
      ],
      "metadata": {
        "colab": {
          "base_uri": "https://localhost:8080/"
        },
        "id": "NDCv1mlixC8e",
        "outputId": "98ba36bd-9a57-4c18-9608-75c4533f1f20"
      },
      "execution_count": 231,
      "outputs": [
        {
          "output_type": "stream",
          "name": "stdout",
          "text": [
            "Epoch 1/100\n",
            "18/18 [==============================] - 16s 883ms/step - loss: 1.8855 - accuracy: 0.2881 - val_loss: 1.9871 - val_accuracy: 0.2404\n",
            "Epoch 2/100\n",
            "18/18 [==============================] - 16s 869ms/step - loss: 1.8633 - accuracy: 0.2907 - val_loss: 1.9830 - val_accuracy: 0.2415\n",
            "Epoch 3/100\n",
            "18/18 [==============================] - 16s 867ms/step - loss: 1.8228 - accuracy: 0.3201 - val_loss: 2.1853 - val_accuracy: 0.1816\n",
            "Epoch 4/100\n",
            "18/18 [==============================] - 16s 869ms/step - loss: 1.7977 - accuracy: 0.3250 - val_loss: 2.0059 - val_accuracy: 0.2735\n",
            "Epoch 5/100\n",
            "18/18 [==============================] - 16s 864ms/step - loss: 1.7888 - accuracy: 0.3272 - val_loss: 2.1224 - val_accuracy: 0.2137\n",
            "Epoch 6/100\n",
            "18/18 [==============================] - 16s 871ms/step - loss: 1.7536 - accuracy: 0.3414 - val_loss: 2.2120 - val_accuracy: 0.2190\n",
            "Epoch 7/100\n",
            "18/18 [==============================] - 16s 873ms/step - loss: 1.7539 - accuracy: 0.3387 - val_loss: 1.9009 - val_accuracy: 0.3237\n",
            "Epoch 8/100\n",
            "18/18 [==============================] - 16s 885ms/step - loss: 1.7247 - accuracy: 0.3439 - val_loss: 2.0631 - val_accuracy: 0.2628\n",
            "Epoch 9/100\n",
            "18/18 [==============================] - 16s 884ms/step - loss: 1.7060 - accuracy: 0.3639 - val_loss: 1.9487 - val_accuracy: 0.3098\n",
            "Epoch 10/100\n",
            "18/18 [==============================] - 16s 881ms/step - loss: 1.6809 - accuracy: 0.3672 - val_loss: 1.8567 - val_accuracy: 0.3654\n",
            "Epoch 11/100\n",
            "18/18 [==============================] - 16s 878ms/step - loss: 1.6765 - accuracy: 0.3641 - val_loss: 2.0185 - val_accuracy: 0.2596\n",
            "Epoch 12/100\n",
            "18/18 [==============================] - 16s 878ms/step - loss: 1.6971 - accuracy: 0.3614 - val_loss: 1.9522 - val_accuracy: 0.3365\n",
            "Epoch 13/100\n",
            "18/18 [==============================] - 16s 877ms/step - loss: 1.6580 - accuracy: 0.3719 - val_loss: 2.0752 - val_accuracy: 0.2660\n",
            "Epoch 14/100\n",
            "18/18 [==============================] - 16s 878ms/step - loss: 1.6310 - accuracy: 0.3932 - val_loss: 1.8419 - val_accuracy: 0.3130\n",
            "Epoch 15/100\n",
            "18/18 [==============================] - 16s 864ms/step - loss: 1.6610 - accuracy: 0.3779 - val_loss: 1.9170 - val_accuracy: 0.3504\n",
            "Epoch 16/100\n",
            "18/18 [==============================] - 16s 867ms/step - loss: 1.5944 - accuracy: 0.3972 - val_loss: 2.0436 - val_accuracy: 0.2618\n",
            "Epoch 17/100\n",
            "18/18 [==============================] - 16s 873ms/step - loss: 1.5777 - accuracy: 0.4085 - val_loss: 1.7775 - val_accuracy: 0.3408\n",
            "Epoch 18/100\n",
            "18/18 [==============================] - 16s 882ms/step - loss: 1.5791 - accuracy: 0.4123 - val_loss: 1.7832 - val_accuracy: 0.3194\n",
            "Epoch 19/100\n",
            "18/18 [==============================] - 16s 869ms/step - loss: 1.5497 - accuracy: 0.4190 - val_loss: 1.7987 - val_accuracy: 0.3857\n",
            "Epoch 20/100\n",
            "18/18 [==============================] - 16s 866ms/step - loss: 1.5458 - accuracy: 0.4179 - val_loss: 1.8019 - val_accuracy: 0.3504\n",
            "Epoch 21/100\n",
            "18/18 [==============================] - 16s 868ms/step - loss: 1.5319 - accuracy: 0.4288 - val_loss: 1.8324 - val_accuracy: 0.3857\n",
            "Epoch 22/100\n",
            "18/18 [==============================] - 16s 871ms/step - loss: 1.5307 - accuracy: 0.4348 - val_loss: 1.9392 - val_accuracy: 0.3024\n",
            "Epoch 23/100\n",
            "18/18 [==============================] - 16s 864ms/step - loss: 1.5268 - accuracy: 0.4379 - val_loss: 1.7957 - val_accuracy: 0.3974\n",
            "Epoch 24/100\n",
            "18/18 [==============================] - 16s 867ms/step - loss: 1.4957 - accuracy: 0.4337 - val_loss: 1.7287 - val_accuracy: 0.3803\n",
            "Epoch 25/100\n",
            "18/18 [==============================] - 16s 865ms/step - loss: 1.4864 - accuracy: 0.4419 - val_loss: 1.7661 - val_accuracy: 0.3761\n",
            "Epoch 26/100\n",
            "18/18 [==============================] - 16s 863ms/step - loss: 1.4841 - accuracy: 0.4457 - val_loss: 1.8666 - val_accuracy: 0.3526\n",
            "Epoch 27/100\n",
            "18/18 [==============================] - 16s 866ms/step - loss: 1.4429 - accuracy: 0.4512 - val_loss: 1.7633 - val_accuracy: 0.3355\n",
            "Epoch 28/100\n",
            "18/18 [==============================] - 16s 874ms/step - loss: 1.4460 - accuracy: 0.4519 - val_loss: 1.9906 - val_accuracy: 0.2628\n",
            "Epoch 29/100\n",
            "18/18 [==============================] - 16s 881ms/step - loss: 1.4636 - accuracy: 0.4479 - val_loss: 1.6514 - val_accuracy: 0.3654\n",
            "Epoch 30/100\n",
            "18/18 [==============================] - 16s 872ms/step - loss: 1.3924 - accuracy: 0.4728 - val_loss: 1.7707 - val_accuracy: 0.3803\n",
            "Epoch 31/100\n",
            "18/18 [==============================] - 16s 870ms/step - loss: 1.4159 - accuracy: 0.4712 - val_loss: 1.8026 - val_accuracy: 0.3237\n",
            "Epoch 32/100\n",
            "18/18 [==============================] - 16s 873ms/step - loss: 1.3896 - accuracy: 0.4661 - val_loss: 1.8234 - val_accuracy: 0.3515\n",
            "Epoch 33/100\n",
            "18/18 [==============================] - 16s 871ms/step - loss: 1.4018 - accuracy: 0.4772 - val_loss: 1.6934 - val_accuracy: 0.3622\n",
            "Epoch 34/100\n",
            "18/18 [==============================] - 16s 876ms/step - loss: 1.3765 - accuracy: 0.4872 - val_loss: 1.8023 - val_accuracy: 0.3451\n",
            "Epoch 35/100\n",
            "18/18 [==============================] - 16s 873ms/step - loss: 1.3534 - accuracy: 0.4959 - val_loss: 1.6755 - val_accuracy: 0.3675\n",
            "Epoch 36/100\n",
            "18/18 [==============================] - 16s 872ms/step - loss: 1.3557 - accuracy: 0.5017 - val_loss: 1.8373 - val_accuracy: 0.3323\n",
            "Epoch 37/100\n",
            "18/18 [==============================] - 16s 882ms/step - loss: 1.3529 - accuracy: 0.4906 - val_loss: 1.7823 - val_accuracy: 0.3494\n",
            "Epoch 38/100\n",
            "18/18 [==============================] - 16s 878ms/step - loss: 1.3385 - accuracy: 0.5012 - val_loss: 1.7523 - val_accuracy: 0.3825\n",
            "Epoch 39/100\n",
            "18/18 [==============================] - 16s 873ms/step - loss: 1.2966 - accuracy: 0.5230 - val_loss: 1.6942 - val_accuracy: 0.4295\n",
            "Epoch 40/100\n",
            "18/18 [==============================] - 16s 872ms/step - loss: 1.3115 - accuracy: 0.5148 - val_loss: 1.6679 - val_accuracy: 0.3985\n",
            "Epoch 41/100\n",
            "18/18 [==============================] - 16s 864ms/step - loss: 1.2990 - accuracy: 0.5183 - val_loss: 1.8771 - val_accuracy: 0.3194\n",
            "Epoch 42/100\n",
            "18/18 [==============================] - 16s 867ms/step - loss: 1.2550 - accuracy: 0.5201 - val_loss: 1.7351 - val_accuracy: 0.3814\n",
            "Epoch 43/100\n",
            "18/18 [==============================] - 15s 861ms/step - loss: 1.2628 - accuracy: 0.5268 - val_loss: 1.7321 - val_accuracy: 0.3985\n",
            "Epoch 44/100\n",
            "18/18 [==============================] - 16s 863ms/step - loss: 1.2583 - accuracy: 0.5312 - val_loss: 1.7498 - val_accuracy: 0.4028\n",
            "Epoch 45/100\n",
            "18/18 [==============================] - 16s 865ms/step - loss: 1.2154 - accuracy: 0.5463 - val_loss: 1.8200 - val_accuracy: 0.3579\n",
            "Epoch 46/100\n",
            "18/18 [==============================] - 16s 868ms/step - loss: 1.2432 - accuracy: 0.5441 - val_loss: 1.7023 - val_accuracy: 0.4209\n",
            "Epoch 47/100\n",
            "18/18 [==============================] - 16s 868ms/step - loss: 1.2348 - accuracy: 0.5386 - val_loss: 1.7862 - val_accuracy: 0.3771\n",
            "Epoch 48/100\n",
            "18/18 [==============================] - 16s 865ms/step - loss: 1.2221 - accuracy: 0.5543 - val_loss: 1.8175 - val_accuracy: 0.3536\n",
            "Epoch 49/100\n",
            "18/18 [==============================] - 16s 872ms/step - loss: 1.1924 - accuracy: 0.5619 - val_loss: 1.7698 - val_accuracy: 0.4006\n",
            "Epoch 50/100\n",
            "18/18 [==============================] - 16s 874ms/step - loss: 1.2268 - accuracy: 0.5563 - val_loss: 1.8187 - val_accuracy: 0.3729\n",
            "Epoch 51/100\n",
            "18/18 [==============================] - 16s 867ms/step - loss: 1.1860 - accuracy: 0.5670 - val_loss: 1.7694 - val_accuracy: 0.3462\n",
            "Epoch 52/100\n",
            "18/18 [==============================] - 16s 869ms/step - loss: 1.1782 - accuracy: 0.5637 - val_loss: 1.6143 - val_accuracy: 0.3985\n",
            "Epoch 53/100\n",
            "18/18 [==============================] - 16s 867ms/step - loss: 1.1884 - accuracy: 0.5646 - val_loss: 1.9449 - val_accuracy: 0.3515\n",
            "Epoch 54/100\n",
            "18/18 [==============================] - 16s 863ms/step - loss: 1.1720 - accuracy: 0.5708 - val_loss: 1.7170 - val_accuracy: 0.3686\n",
            "Epoch 55/100\n",
            "18/18 [==============================] - 16s 877ms/step - loss: 1.1451 - accuracy: 0.5790 - val_loss: 1.7456 - val_accuracy: 0.3953\n",
            "Epoch 56/100\n",
            "18/18 [==============================] - 16s 875ms/step - loss: 1.1270 - accuracy: 0.5901 - val_loss: 1.6920 - val_accuracy: 0.4263\n",
            "Epoch 57/100\n",
            "18/18 [==============================] - 16s 878ms/step - loss: 1.1341 - accuracy: 0.5844 - val_loss: 1.7259 - val_accuracy: 0.3974\n",
            "Epoch 58/100\n",
            "18/18 [==============================] - 16s 870ms/step - loss: 1.1188 - accuracy: 0.5975 - val_loss: 1.7261 - val_accuracy: 0.3900\n",
            "Epoch 59/100\n",
            "18/18 [==============================] - 16s 870ms/step - loss: 1.1422 - accuracy: 0.5861 - val_loss: 2.0021 - val_accuracy: 0.3835\n",
            "Epoch 60/100\n",
            "18/18 [==============================] - 16s 874ms/step - loss: 1.0948 - accuracy: 0.6006 - val_loss: 1.7411 - val_accuracy: 0.4338\n",
            "Epoch 61/100\n",
            "18/18 [==============================] - 16s 876ms/step - loss: 1.1116 - accuracy: 0.6019 - val_loss: 1.6544 - val_accuracy: 0.4295\n",
            "Epoch 62/100\n",
            "18/18 [==============================] - 16s 874ms/step - loss: 1.1014 - accuracy: 0.6019 - val_loss: 1.7264 - val_accuracy: 0.4284\n",
            "Epoch 63/100\n",
            "18/18 [==============================] - 16s 882ms/step - loss: 1.0773 - accuracy: 0.6277 - val_loss: 1.6920 - val_accuracy: 0.4402\n",
            "Epoch 64/100\n",
            "18/18 [==============================] - 16s 867ms/step - loss: 1.0872 - accuracy: 0.6097 - val_loss: 1.7598 - val_accuracy: 0.4444\n",
            "Epoch 65/100\n",
            "18/18 [==============================] - 16s 870ms/step - loss: 1.0892 - accuracy: 0.6115 - val_loss: 1.7943 - val_accuracy: 0.4370\n",
            "Epoch 66/100\n",
            "18/18 [==============================] - 16s 866ms/step - loss: 1.0748 - accuracy: 0.6208 - val_loss: 1.7890 - val_accuracy: 0.4060\n",
            "Epoch 67/100\n",
            "18/18 [==============================] - 16s 883ms/step - loss: 1.0800 - accuracy: 0.6199 - val_loss: 1.7289 - val_accuracy: 0.4274\n",
            "Epoch 68/100\n",
            "18/18 [==============================] - 16s 884ms/step - loss: 1.0463 - accuracy: 0.6255 - val_loss: 1.7996 - val_accuracy: 0.4167\n",
            "Epoch 69/100\n",
            "18/18 [==============================] - 16s 889ms/step - loss: 1.0419 - accuracy: 0.6346 - val_loss: 1.7207 - val_accuracy: 0.4487\n",
            "Epoch 70/100\n",
            "18/18 [==============================] - 16s 890ms/step - loss: 1.0308 - accuracy: 0.6364 - val_loss: 1.8232 - val_accuracy: 0.4455\n",
            "Epoch 71/100\n",
            "18/18 [==============================] - 16s 874ms/step - loss: 1.0630 - accuracy: 0.6264 - val_loss: 1.7169 - val_accuracy: 0.4103\n",
            "Epoch 72/100\n",
            "18/18 [==============================] - 16s 875ms/step - loss: 1.0256 - accuracy: 0.6401 - val_loss: 1.6381 - val_accuracy: 0.4316\n",
            "Epoch 73/100\n",
            "18/18 [==============================] - 16s 874ms/step - loss: 1.0295 - accuracy: 0.6406 - val_loss: 1.8737 - val_accuracy: 0.4412\n",
            "Epoch 74/100\n",
            "18/18 [==============================] - 16s 873ms/step - loss: 0.9955 - accuracy: 0.6461 - val_loss: 1.8310 - val_accuracy: 0.4199\n",
            "Epoch 75/100\n",
            "18/18 [==============================] - 16s 874ms/step - loss: 1.0098 - accuracy: 0.6510 - val_loss: 1.7675 - val_accuracy: 0.4017\n",
            "Epoch 76/100\n",
            "18/18 [==============================] - 16s 883ms/step - loss: 1.0171 - accuracy: 0.6446 - val_loss: 1.8842 - val_accuracy: 0.4092\n",
            "Epoch 77/100\n",
            "18/18 [==============================] - 16s 867ms/step - loss: 0.9858 - accuracy: 0.6621 - val_loss: 1.8065 - val_accuracy: 0.4145\n",
            "Epoch 78/100\n",
            "18/18 [==============================] - 16s 870ms/step - loss: 0.9612 - accuracy: 0.6668 - val_loss: 1.6254 - val_accuracy: 0.4637\n",
            "Epoch 79/100\n",
            "18/18 [==============================] - 16s 864ms/step - loss: 0.9825 - accuracy: 0.6499 - val_loss: 1.9080 - val_accuracy: 0.4103\n",
            "Epoch 80/100\n",
            "18/18 [==============================] - 16s 870ms/step - loss: 0.9627 - accuracy: 0.6593 - val_loss: 1.7765 - val_accuracy: 0.4284\n",
            "Epoch 81/100\n",
            "18/18 [==============================] - 16s 876ms/step - loss: 0.9745 - accuracy: 0.6570 - val_loss: 1.9606 - val_accuracy: 0.3803\n",
            "Epoch 82/100\n",
            "18/18 [==============================] - 16s 880ms/step - loss: 0.9551 - accuracy: 0.6639 - val_loss: 1.7810 - val_accuracy: 0.4904\n",
            "Epoch 83/100\n",
            "18/18 [==============================] - 16s 883ms/step - loss: 0.9557 - accuracy: 0.6664 - val_loss: 1.8160 - val_accuracy: 0.4712\n",
            "Epoch 84/100\n",
            "18/18 [==============================] - 16s 890ms/step - loss: 0.9404 - accuracy: 0.6706 - val_loss: 1.7350 - val_accuracy: 0.4306\n",
            "Epoch 85/100\n",
            "18/18 [==============================] - 16s 888ms/step - loss: 0.9533 - accuracy: 0.6797 - val_loss: 1.9415 - val_accuracy: 0.4135\n",
            "Epoch 86/100\n",
            "18/18 [==============================] - 16s 882ms/step - loss: 0.9420 - accuracy: 0.6797 - val_loss: 1.6791 - val_accuracy: 0.4647\n",
            "Epoch 87/100\n",
            "18/18 [==============================] - 16s 880ms/step - loss: 0.9392 - accuracy: 0.6706 - val_loss: 1.9385 - val_accuracy: 0.4199\n",
            "Epoch 88/100\n",
            "18/18 [==============================] - 16s 880ms/step - loss: 0.9478 - accuracy: 0.6695 - val_loss: 1.6699 - val_accuracy: 0.4850\n",
            "Epoch 89/100\n",
            "18/18 [==============================] - 16s 875ms/step - loss: 0.9360 - accuracy: 0.6713 - val_loss: 1.6597 - val_accuracy: 0.4776\n",
            "Epoch 90/100\n",
            "18/18 [==============================] - 16s 893ms/step - loss: 0.9110 - accuracy: 0.6937 - val_loss: 1.8680 - val_accuracy: 0.4231\n",
            "Epoch 91/100\n",
            "18/18 [==============================] - 16s 883ms/step - loss: 0.9218 - accuracy: 0.6879 - val_loss: 1.8695 - val_accuracy: 0.4776\n",
            "Epoch 92/100\n",
            "18/18 [==============================] - 16s 877ms/step - loss: 0.8998 - accuracy: 0.6842 - val_loss: 1.8865 - val_accuracy: 0.4295\n",
            "Epoch 93/100\n",
            "18/18 [==============================] - 16s 878ms/step - loss: 0.9039 - accuracy: 0.6875 - val_loss: 1.8210 - val_accuracy: 0.4594\n",
            "Epoch 94/100\n",
            "18/18 [==============================] - 16s 878ms/step - loss: 0.9114 - accuracy: 0.6895 - val_loss: 1.9508 - val_accuracy: 0.4519\n",
            "Epoch 95/100\n",
            "18/18 [==============================] - 16s 882ms/step - loss: 0.8942 - accuracy: 0.6877 - val_loss: 1.7659 - val_accuracy: 0.4882\n",
            "Epoch 96/100\n",
            "18/18 [==============================] - 16s 867ms/step - loss: 0.8863 - accuracy: 0.6955 - val_loss: 1.7089 - val_accuracy: 0.4573\n",
            "Epoch 97/100\n",
            "18/18 [==============================] - 16s 882ms/step - loss: 0.9131 - accuracy: 0.6922 - val_loss: 1.5711 - val_accuracy: 0.4840\n",
            "Epoch 98/100\n",
            "18/18 [==============================] - 16s 887ms/step - loss: 0.8968 - accuracy: 0.7002 - val_loss: 1.6873 - val_accuracy: 0.4679\n",
            "Epoch 99/100\n",
            "18/18 [==============================] - 16s 884ms/step - loss: 0.8811 - accuracy: 0.6953 - val_loss: 1.7358 - val_accuracy: 0.4840\n",
            "Epoch 100/100\n",
            "18/18 [==============================] - 17s 930ms/step - loss: 0.8680 - accuracy: 0.7064 - val_loss: 1.8851 - val_accuracy: 0.4498\n"
          ]
        }
      ]
    },
    {
      "cell_type": "code",
      "source": [
        "plot_accuracy(history)"
      ],
      "metadata": {
        "colab": {
          "base_uri": "https://localhost:8080/",
          "height": 475
        },
        "id": "1D2FSQUYvwc1",
        "outputId": "e2b8a080-187d-4f51-bc07-b6c7c252a065"
      },
      "execution_count": 232,
      "outputs": [
        {
          "output_type": "display_data",
          "data": {
            "image/png": "[encoded data removed]",
            "text/plain": [
              "<Figure size 576x216 with 1 Axes>"
            ]
          },
          "metadata": {}
        },
        {
          "output_type": "display_data",
          "data": {
            "image/png": "[encoded data removed]",
            "text/plain": [
              "<Figure size 576x216 with 1 Axes>"
            ]
          },
          "metadata": {}
        }
      ]
    },
    {
      "cell_type": "code",
      "source": [
        "test_scores_rnn = test_scores(model)\n",
        "test_scores_rnn"
      ],
      "metadata": {
        "colab": {
          "base_uri": "https://localhost:8080/"
        },
        "id": "FvZmKfzVxDBH",
        "outputId": "818f708e-1d02-4a96-fad6-ac38fe5e20a6"
      },
      "execution_count": 233,
      "outputs": [
        {
          "output_type": "stream",
          "name": "stdout",
          "text": [
            "30/30 [==============================] - 1s 36ms/step - loss: 1.8851 - accuracy: 0.4498\n",
            "27/27 [==============================] - 1s 36ms/step - loss: 1.4555 - accuracy: 0.5394\n",
            "26/26 [==============================] - 1s 35ms/step - loss: 1.7164 - accuracy: 0.5211\n",
            "26/26 [==============================] - 1s 35ms/step - loss: 1.8226 - accuracy: 0.4412\n",
            "27/27 [==============================] - 1s 35ms/step - loss: 1.5875 - accuracy: 0.4922\n"
          ]
        },
        {
          "output_type": "execute_result",
          "data": {
            "text/plain": [
              "[0.44978633522987366,\n",
              " 0.5393794775009155,\n",
              " 0.5210918188095093,\n",
              " 0.44117647409439087,\n",
              " 0.49223417043685913]"
            ]
          },
          "metadata": {},
          "execution_count": 233
        }
      ]
    },
    {
      "cell_type": "code",
      "source": [
        "print((np.mean(test_scores_rnn), np.std(test_scores_rnn)))"
      ],
      "metadata": {
        "colab": {
          "base_uri": "https://localhost:8080/"
        },
        "id": "S8CQnEle4Gme",
        "outputId": "1992a964-26af-4abd-9ee0-6e129bf7f71b"
      },
      "execution_count": 234,
      "outputs": [
        {
          "output_type": "stream",
          "name": "stdout",
          "text": [
            "(0.48873365521430967, 0.03847826109170287)\n"
          ]
        }
      ]
    }
  ],
  "metadata": {
    "colab": {
      "collapsed_sections": [],
      "name": "FNN RNN CNN Mels MFCCs Chroma (480)",
      "provenance": [],
      "mount_file_id": "1M_7B0mDdvpgQud-mFDkjv1n2uzi5xODi",
      "authorship_tag": "ABX9TyNfaMCiKp0BrlCP2y1UU0qo",
      "include_colab_link": true
    },
    "kernelspec": {
      "display_name": "Python 3",
      "name": "python3"
    },
    "language_info": {
      "name": "python"
    }
  },
  "nbformat": 4,
  "nbformat_minor": 0
}